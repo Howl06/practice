{
  "nbformat": 4,
  "nbformat_minor": 0,
  "metadata": {
    "colab": {
      "provenance": [],
      "include_colab_link": true
    },
    "kernelspec": {
      "name": "python3",
      "display_name": "Python 3"
    },
    "accelerator": "GPU"
  },
  "cells": [
    {
      "cell_type": "markdown",
      "metadata": {
        "id": "view-in-github",
        "colab_type": "text"
      },
      "source": [
        "<a href=\"https://colab.research.google.com/github/Howl06/practice/blob/main/keras/train_on_batch.ipynb\" target=\"_parent\"><img src=\"https://colab.research.google.com/assets/colab-badge.svg\" alt=\"Open In Colab\"/></a>"
      ]
    },
    {
      "cell_type": "code",
      "metadata": {
        "id": "-PINtNVmihYQ"
      },
      "source": [
        "from tensorflow.keras import datasets, layers, models, optimizers, utils\n",
        "import numpy as np\n",
        "import matplotlib.pyplot as plt\n"
      ],
      "execution_count": 1,
      "outputs": []
    },
    {
      "cell_type": "code",
      "metadata": {
        "id": "ZUNxy92pjANN",
        "colab": {
          "base_uri": "https://localhost:8080/"
        },
        "outputId": "aad057b9-f853-4b11-d4e4-8fcedbe001cd"
      },
      "source": [
        "(x_train, y_train), (x_val, y_val) = datasets.mnist.load_data()\n",
        "x_train = np.expand_dims(x_train, axis=-1)\n",
        "x_val = np.expand_dims(x_val, axis=-1)\n",
        "# one hot encoding\n",
        "y_train = utils.to_categorical(y_train, 10)\n",
        "y_val = utils.to_categorical(y_val, 10) \n",
        "y_val[0]"
      ],
      "execution_count": 4,
      "outputs": [
        {
          "output_type": "execute_result",
          "data": {
            "text/plain": [
              "array([0., 0., 0., 0., 0., 0., 0., 1., 0., 0.], dtype=float32)"
            ]
          },
          "metadata": {},
          "execution_count": 4
        }
      ]
    },
    {
      "cell_type": "code",
      "metadata": {
        "id": "dtwMrwaqjU6p"
      },
      "source": [
        "inputs = layers.Input((28, 28, 1))\n",
        "# simple cnn (filers, kernel size)\n",
        "x = layers.Conv2D(16, 3, activation='relu')(inputs)\n",
        "x = layers.Conv2D(16, 3, activation='relu')(x)\n",
        "# gap\n",
        "x = layers.GlobalAveragePooling2D()(x)\n",
        "x = layers.Dense(10, activation='softmax')(x)\n",
        "\n",
        "model = models.Model(inputs, x)"
      ],
      "execution_count": 5,
      "outputs": []
    },
    {
      "cell_type": "code",
      "metadata": {
        "id": "V88jtuvEjmsJ"
      },
      "source": [
        "# optimizer, lossfunction\n",
        "model.compile('adam', 'categorical_crossentropy')"
      ],
      "execution_count": 7,
      "outputs": []
    },
    {
      "cell_type": "code",
      "metadata": {
        "id": "6OfPkeZykFzY"
      },
      "source": [
        "# model.fit(x_train, y_train, batch_size=128,epochs=10, validation_data=(x_val, y_val)) simple fit"
      ],
      "execution_count": 8,
      "outputs": []
    },
    {
      "cell_type": "code",
      "metadata": {
        "id": "sV_4oEAakLjo",
        "outputId": "e5012a4a-e1a8-4861-d60b-57bcb9eb867d",
        "colab": {
          "base_uri": "https://localhost:8080/"
        }
      },
      "source": [
        "# batch size\n",
        "bs = 256\n",
        "epochs = 20\n",
        "step_per_epochs = x_train.shape[0] // bs\n",
        "idxs = np.arange(len(x_train))\n",
        "epoch_loss = []\n",
        "for i in range(epochs):\n",
        "    batch_loss = []\n",
        "    for j in range(step_per_epochs):\n",
        "        # call batch idx\n",
        "        idx = idxs[j * bs: (j + 1) * bs]\n",
        "        x = x_train[idx]\n",
        "        y = y_train[idx]\n",
        "        # train return loss\n",
        "        loss = model.train_on_batch(x, y,)\n",
        "        batch_loss.append(loss)\n",
        "    total_loss = np.mean(batch_loss)\n",
        "    # save model if improved\n",
        "    epoch_loss.append(total_loss)\n",
        "    if total_loss <= np.min(epoch_loss):\n",
        "        print('save model')\n",
        "        model.save('model.h5')\n",
        "    \n",
        "    print(total_loss)\n",
        "    np.random.shuffle(idxs)\n",
        "\n"
      ],
      "execution_count": 9,
      "outputs": [
        {
          "output_type": "stream",
          "name": "stdout",
          "text": [
            "save model\n",
            "2.3598661677450194\n",
            "save model\n",
            "1.2286592777977643\n",
            "save model\n",
            "0.8999454050492017\n",
            "save model\n",
            "0.7291364916878887\n",
            "save model\n",
            "0.6280804322316096\n",
            "save model\n",
            "0.555274372554233\n",
            "save model\n",
            "0.511302116080227\n",
            "save model\n",
            "0.46755089082269585\n",
            "save model\n",
            "0.43854798300144\n",
            "save model\n",
            "0.41179844367707896\n",
            "save model\n",
            "0.3863837775002178\n",
            "save model\n",
            "0.37036823424009174\n",
            "save model\n",
            "0.3599822377292519\n",
            "save model\n",
            "0.3464936922248612\n",
            "save model\n",
            "0.33872271284588384\n",
            "save model\n",
            "0.32647086253278274\n",
            "save model\n",
            "0.3194761651321354\n",
            "save model\n",
            "0.31670232435576934\n",
            "save model\n",
            "0.3070090402267937\n",
            "save model\n",
            "0.2981977956926721\n"
          ]
        }
      ]
    },
    {
      "cell_type": "code",
      "metadata": {
        "id": "8jhRyaTamGqn",
        "outputId": "806f8010-b244-4b8f-abbc-bb7b2455a8d7",
        "colab": {
          "base_uri": "https://localhost:8080/",
          "height": 447
        }
      },
      "source": [
        "plt.plot(epoch_loss)"
      ],
      "execution_count": 10,
      "outputs": [
        {
          "output_type": "execute_result",
          "data": {
            "text/plain": [
              "[<matplotlib.lines.Line2D at 0x7f658c1893c0>]"
            ]
          },
          "metadata": {},
          "execution_count": 10
        },
        {
          "output_type": "display_data",
          "data": {
            "text/plain": [
              "<Figure size 640x480 with 1 Axes>"
            ],
            "image/png": "[encoded data removed]"
          },
          "metadata": {}
        }
      ]
    },
    {
      "cell_type": "code",
      "metadata": {
        "id": "v2BQHyn9KeXv"
      },
      "source": [],
      "execution_count": null,
      "outputs": []
    }
  ]
}