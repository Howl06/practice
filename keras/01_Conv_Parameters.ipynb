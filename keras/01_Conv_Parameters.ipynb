{
  "nbformat": 4,
  "nbformat_minor": 0,
  "metadata": {
    "colab": {
      "provenance": [],
      "include_colab_link": true
    },
    "kernelspec": {
      "name": "python3",
      "display_name": "Python 3"
    },
    "language_info": {
      "name": "python"
    }
  },
  "cells": [
    {
      "cell_type": "markdown",
      "metadata": {
        "id": "view-in-github",
        "colab_type": "text"
      },
      "source": [
        "<a href=\"https://colab.research.google.com/github/Howl06/practice/blob/main/keras/01_Conv_Parameters.ipynb\" target=\"_parent\"><img src=\"https://colab.research.google.com/assets/colab-badge.svg\" alt=\"Open In Colab\"/></a>"
      ]
    },
    {
      "cell_type": "code",
      "metadata": {
        "id": "LFOMLdZyDBn0"
      },
      "source": [
        "from tensorflow import keras\n",
        "import numpy as np"
      ],
      "execution_count": 1,
      "outputs": []
    },
    {
      "cell_type": "code",
      "metadata": {
        "colab": {
          "base_uri": "https://localhost:8080/"
        },
        "id": "wPT8zj49Sc5n",
        "outputId": "bdc38481-388b-4c21-880e-807b0fdf8dc4"
      },
      "source": [
        "data = np.random.normal(size=(1, 32, 32, 3))\n",
        "data.shape\n",
        "output = keras.layers.Conv2D(16, kernel_size=5, padding='same')(data)\n",
        "output = keras.layers.Conv2D(32, kernel_size=5, padding='same', strides=2)(output)\n",
        "output.shape"
      ],
      "execution_count": 2,
      "outputs": [
        {
          "output_type": "execute_result",
          "data": {
            "text/plain": [
              "TensorShape([1, 16, 16, 32])"
            ]
          },
          "metadata": {},
          "execution_count": 2
        }
      ]
    },
    {
      "cell_type": "code",
      "metadata": {
        "id": "AKB4D7HFDMot",
        "colab": {
          "base_uri": "https://localhost:8080/"
        },
        "outputId": "edb1b448-6654-4258-b130-345ead441284"
      },
      "source": [
        "# 1 filter\n",
        "model = keras.models.Sequential([\n",
        "    keras.layers.Input((4, 4, 3)),\n",
        "    keras.layers.Conv2D(filters=1, kernel_size=3),                                \n",
        "])\n",
        "model.summary()"
      ],
      "execution_count": 3,
      "outputs": [
        {
          "output_type": "stream",
          "name": "stdout",
          "text": [
            "Model: \"sequential\"\n",
            "_________________________________________________________________\n",
            " Layer (type)                Output Shape              Param #   \n",
            "=================================================================\n",
            " conv2d_2 (Conv2D)           (None, 2, 2, 1)           28        \n",
            "                                                                 \n",
            "=================================================================\n",
            "Total params: 28\n",
            "Trainable params: 28\n",
            "Non-trainable params: 0\n",
            "_________________________________________________________________\n"
          ]
        }
      ]
    },
    {
      "cell_type": "code",
      "metadata": {
        "id": "c9x76cC_rUQy"
      },
      "source": [
        "# output shape: (None, 2, 2, 1)\n",
        "# (Batch size, feature maps size, feature maps size, output dims)"
      ],
      "execution_count": 4,
      "outputs": []
    },
    {
      "cell_type": "code",
      "metadata": {
        "colab": {
          "base_uri": "https://localhost:8080/"
        },
        "id": "DuIG23TtDnVd",
        "outputId": "73c154fb-ccb8-4f25-fdae-eb03ded6b5fb"
      },
      "source": [
        "img = np.random.normal(size=(32, 4, 4, 3))\n",
        "img.shape"
      ],
      "execution_count": 5,
      "outputs": [
        {
          "output_type": "execute_result",
          "data": {
            "text/plain": [
              "(32, 4, 4, 3)"
            ]
          },
          "metadata": {},
          "execution_count": 5
        }
      ]
    },
    {
      "cell_type": "code",
      "metadata": {
        "id": "6lM8-PVED3Pt",
        "colab": {
          "base_uri": "https://localhost:8080/"
        },
        "outputId": "b4bf963e-6361-4efc-dc72-c8a4a928fbbc"
      },
      "source": [
        "output1 = model(img) #  ~= model.predict(img)\n",
        "output2 = model.predict(img)"
      ],
      "execution_count": 6,
      "outputs": [
        {
          "output_type": "stream",
          "name": "stdout",
          "text": [
            "1/1 [==============================] - 0s 163ms/step\n"
          ]
        }
      ]
    },
    {
      "cell_type": "code",
      "metadata": {
        "colab": {
          "base_uri": "https://localhost:8080/"
        },
        "id": "_zVT1qysVXNA",
        "outputId": "9ba266cc-7001-4ed2-cf85-a0b711bb0615"
      },
      "source": [
        "type(output1), type(output2)"
      ],
      "execution_count": 7,
      "outputs": [
        {
          "output_type": "execute_result",
          "data": {
            "text/plain": [
              "(tensorflow.python.framework.ops.EagerTensor, numpy.ndarray)"
            ]
          },
          "metadata": {},
          "execution_count": 7
        }
      ]
    },
    {
      "cell_type": "code",
      "metadata": {
        "colab": {
          "base_uri": "https://localhost:8080/"
        },
        "id": "-kKjj4HoD92Y",
        "outputId": "9b2c7186-b471-450e-e49d-10af85037263"
      },
      "source": [
        "output1.shape, output2.shape # batch_size, img_size, img_size, channels"
      ],
      "execution_count": 8,
      "outputs": [
        {
          "output_type": "execute_result",
          "data": {
            "text/plain": [
              "(TensorShape([32, 2, 2, 1]), (32, 2, 2, 1))"
            ]
          },
          "metadata": {},
          "execution_count": 8
        }
      ]
    },
    {
      "cell_type": "code",
      "metadata": {
        "id": "I_MJXrnHDdgH",
        "colab": {
          "base_uri": "https://localhost:8080/"
        },
        "outputId": "20ef412f-c451-403a-aa4d-7ab077131ac3"
      },
      "source": [
        "# 2 filters\n",
        "model = keras.models.Sequential([\n",
        "    keras.layers.Input((4, 4, 3)),\n",
        "    keras.layers.Conv2D(filters=2, kernel_size=3)\n",
        "])\n",
        "model.summary()"
      ],
      "execution_count": 9,
      "outputs": [
        {
          "output_type": "stream",
          "name": "stdout",
          "text": [
            "Model: \"sequential_1\"\n",
            "_________________________________________________________________\n",
            " Layer (type)                Output Shape              Param #   \n",
            "=================================================================\n",
            " conv2d_3 (Conv2D)           (None, 2, 2, 2)           56        \n",
            "                                                                 \n",
            "=================================================================\n",
            "Total params: 56\n",
            "Trainable params: 56\n",
            "Non-trainable params: 0\n",
            "_________________________________________________________________\n"
          ]
        }
      ]
    },
    {
      "cell_type": "code",
      "metadata": {
        "id": "5H7L0EvrDolM",
        "colab": {
          "base_uri": "https://localhost:8080/"
        },
        "outputId": "a096c2a5-1e42-4119-f8f7-72cbaece4b96"
      },
      "source": [
        "# 8 channels input, 2 filters\n",
        "model = keras.models.Sequential([\n",
        "    keras.layers.Input((4, 4, 8)),\n",
        "    keras.layers.Conv2D(filters=2, kernel_size=3)\n",
        "])\n",
        "model.summary()"
      ],
      "execution_count": 10,
      "outputs": [
        {
          "output_type": "stream",
          "name": "stdout",
          "text": [
            "Model: \"sequential_2\"\n",
            "_________________________________________________________________\n",
            " Layer (type)                Output Shape              Param #   \n",
            "=================================================================\n",
            " conv2d_4 (Conv2D)           (None, 2, 2, 2)           146       \n",
            "                                                                 \n",
            "=================================================================\n",
            "Total params: 146\n",
            "Trainable params: 146\n",
            "Non-trainable params: 0\n",
            "_________________________________________________________________\n"
          ]
        }
      ]
    },
    {
      "cell_type": "markdown",
      "metadata": {
        "id": "MkLkw-bDFWB7"
      },
      "source": [
        "Q1: Will input larger image size change model paramters (with **flatten** layer)?\n",
        "\n",
        "Q2: Will input larger image size change model paramters (with **Global average pooling** layer)?\n",
        "\n",
        "1: 不變\n",
        "2: 變少\n",
        "3: 變多"
      ]
    },
    {
      "cell_type": "code",
      "source": [
        "Q1 變多 Q2 不變"
      ],
      "metadata": {
        "id": "SLFknN1D80GN"
      },
      "execution_count": null,
      "outputs": []
    },
    {
      "cell_type": "code",
      "metadata": {
        "id": "bleb3kVZtkxk"
      },
      "source": [
        "# Flatten: 264,650\n",
        "# GAP: 17,354"
      ],
      "execution_count": null,
      "outputs": []
    },
    {
      "cell_type": "code",
      "metadata": {
        "id": "EDpGoHauDvBl",
        "colab": {
          "base_uri": "https://localhost:8080/"
        },
        "outputId": "fa0df4f3-02b7-4854-bcfa-c1d4abbf02ff"
      },
      "source": [
        "# 100x100: \n",
        "model = keras.models.Sequential([\n",
        "    keras.layers.Input((100, 100 ,3)),\n",
        "    keras.layers.Conv2D(16, 3),\n",
        "    keras.layers.Conv2D(16, 3),\n",
        "    keras.layers.MaxPooling2D(2),\n",
        "    keras.layers.Conv2D(32, 3),\n",
        "    keras.layers.Conv2D(32, 3),\n",
        "    keras.layers.MaxPooling2D(2),\n",
        "\n",
        "    # keras.layers.Flatten(), \n",
        "    keras.layers.GlobalAveragePooling2D(),\n",
        "\n",
        "    keras.layers.Dense(16),\n",
        "    keras.layers.Dense(10),\n",
        "])\n",
        "model.summary()"
      ],
      "execution_count": 14,
      "outputs": [
        {
          "output_type": "stream",
          "name": "stdout",
          "text": [
            "Model: \"sequential_5\"\n",
            "_________________________________________________________________\n",
            " Layer (type)                Output Shape              Param #   \n",
            "=================================================================\n",
            " conv2d_13 (Conv2D)          (None, 98, 98, 16)        448       \n",
            "                                                                 \n",
            " conv2d_14 (Conv2D)          (None, 96, 96, 16)        2320      \n",
            "                                                                 \n",
            " max_pooling2d_4 (MaxPooling  (None, 48, 48, 16)       0         \n",
            " 2D)                                                             \n",
            "                                                                 \n",
            " conv2d_15 (Conv2D)          (None, 46, 46, 32)        4640      \n",
            "                                                                 \n",
            " conv2d_16 (Conv2D)          (None, 44, 44, 32)        9248      \n",
            "                                                                 \n",
            " max_pooling2d_5 (MaxPooling  (None, 22, 22, 32)       0         \n",
            " 2D)                                                             \n",
            "                                                                 \n",
            " global_average_pooling2d (G  (None, 32)               0         \n",
            " lobalAveragePooling2D)                                          \n",
            "                                                                 \n",
            " dense_4 (Dense)             (None, 16)                528       \n",
            "                                                                 \n",
            " dense_5 (Dense)             (None, 10)                170       \n",
            "                                                                 \n",
            "=================================================================\n",
            "Total params: 17,354\n",
            "Trainable params: 17,354\n",
            "Non-trainable params: 0\n",
            "_________________________________________________________________\n"
          ]
        }
      ]
    },
    {
      "cell_type": "code",
      "metadata": {
        "id": "Xp0MV44KFQm3",
        "colab": {
          "base_uri": "https://localhost:8080/"
        },
        "outputId": "3e1cd2d9-be8d-42ac-92b6-9145b6ab0ae9"
      },
      "source": [
        "model = keras.models.Sequential([\n",
        "    keras.layers.Input((2000, 2000 ,3)),\n",
        "    keras.layers.Conv2D(16, 3),\n",
        "    keras.layers.Conv2D(16, 3),\n",
        "    keras.layers.MaxPooling2D(2),\n",
        "    keras.layers.Conv2D(32, 3),\n",
        "    keras.layers.Conv2D(32, 3),\n",
        "    keras.layers.MaxPooling2D(2),\n",
        "    #keras.layers.Flatten(), \n",
        "    keras.layers.GlobalAveragePooling2D(),\n",
        "    keras.layers.Dense(16),\n",
        "    keras.layers.Dense(10),\n",
        "])\n",
        "model.summary()"
      ],
      "execution_count": 15,
      "outputs": [
        {
          "output_type": "stream",
          "name": "stdout",
          "text": [
            "Model: \"sequential_6\"\n",
            "_________________________________________________________________\n",
            " Layer (type)                Output Shape              Param #   \n",
            "=================================================================\n",
            " conv2d_17 (Conv2D)          (None, 1998, 1998, 16)    448       \n",
            "                                                                 \n",
            " conv2d_18 (Conv2D)          (None, 1996, 1996, 16)    2320      \n",
            "                                                                 \n",
            " max_pooling2d_6 (MaxPooling  (None, 998, 998, 16)     0         \n",
            " 2D)                                                             \n",
            "                                                                 \n",
            " conv2d_19 (Conv2D)          (None, 996, 996, 32)      4640      \n",
            "                                                                 \n",
            " conv2d_20 (Conv2D)          (None, 994, 994, 32)      9248      \n",
            "                                                                 \n",
            " max_pooling2d_7 (MaxPooling  (None, 497, 497, 32)     0         \n",
            " 2D)                                                             \n",
            "                                                                 \n",
            " global_average_pooling2d_1   (None, 32)               0         \n",
            " (GlobalAveragePooling2D)                                        \n",
            "                                                                 \n",
            " dense_6 (Dense)             (None, 16)                528       \n",
            "                                                                 \n",
            " dense_7 (Dense)             (None, 10)                170       \n",
            "                                                                 \n",
            "=================================================================\n",
            "Total params: 17,354\n",
            "Trainable params: 17,354\n",
            "Non-trainable params: 0\n",
            "_________________________________________________________________\n"
          ]
        }
      ]
    },
    {
      "cell_type": "markdown",
      "metadata": {
        "id": "VRw1vIzj_ACF"
      },
      "source": [
        "# Dynamic Input Size"
      ]
    },
    {
      "cell_type": "code",
      "metadata": {
        "id": "DXlJxHG50EfX",
        "colab": {
          "base_uri": "https://localhost:8080/"
        },
        "outputId": "8f758ff4-c672-4edf-e1f2-ef6ed1774aac"
      },
      "source": [
        "model = keras.applications.VGG16(include_top=False,\n",
        "                                 weights='imagenet',\n",
        "                                 input_shape=(None, None, 3))\n",
        "model.summary()"
      ],
      "execution_count": 17,
      "outputs": [
        {
          "output_type": "stream",
          "name": "stdout",
          "text": [
            "Model: \"vgg16\"\n",
            "_________________________________________________________________\n",
            " Layer (type)                Output Shape              Param #   \n",
            "=================================================================\n",
            " input_9 (InputLayer)        [(None, None, None, 3)]   0         \n",
            "                                                                 \n",
            " block1_conv1 (Conv2D)       (None, None, None, 64)    1792      \n",
            "                                                                 \n",
            " block1_conv2 (Conv2D)       (None, None, None, 64)    36928     \n",
            "                                                                 \n",
            " block1_pool (MaxPooling2D)  (None, None, None, 64)    0         \n",
            "                                                                 \n",
            " block2_conv1 (Conv2D)       (None, None, None, 128)   73856     \n",
            "                                                                 \n",
            " block2_conv2 (Conv2D)       (None, None, None, 128)   147584    \n",
            "                                                                 \n",
            " block2_pool (MaxPooling2D)  (None, None, None, 128)   0         \n",
            "                                                                 \n",
            " block3_conv1 (Conv2D)       (None, None, None, 256)   295168    \n",
            "                                                                 \n",
            " block3_conv2 (Conv2D)       (None, None, None, 256)   590080    \n",
            "                                                                 \n",
            " block3_conv3 (Conv2D)       (None, None, None, 256)   590080    \n",
            "                                                                 \n",
            " block3_pool (MaxPooling2D)  (None, None, None, 256)   0         \n",
            "                                                                 \n",
            " block4_conv1 (Conv2D)       (None, None, None, 512)   1180160   \n",
            "                                                                 \n",
            " block4_conv2 (Conv2D)       (None, None, None, 512)   2359808   \n",
            "                                                                 \n",
            " block4_conv3 (Conv2D)       (None, None, None, 512)   2359808   \n",
            "                                                                 \n",
            " block4_pool (MaxPooling2D)  (None, None, None, 512)   0         \n",
            "                                                                 \n",
            " block5_conv1 (Conv2D)       (None, None, None, 512)   2359808   \n",
            "                                                                 \n",
            " block5_conv2 (Conv2D)       (None, None, None, 512)   2359808   \n",
            "                                                                 \n",
            " block5_conv3 (Conv2D)       (None, None, None, 512)   2359808   \n",
            "                                                                 \n",
            " block5_pool (MaxPooling2D)  (None, None, None, 512)   0         \n",
            "                                                                 \n",
            "=================================================================\n",
            "Total params: 14,714,688\n",
            "Trainable params: 14,714,688\n",
            "Non-trainable params: 0\n",
            "_________________________________________________________________\n"
          ]
        }
      ]
    },
    {
      "cell_type": "code",
      "metadata": {
        "id": "Dd5atD3m1vPH",
        "colab": {
          "base_uri": "https://localhost:8080/"
        },
        "outputId": "133907f5-ed77-4855-8eb9-dfbcb78b234a"
      },
      "source": [
        "img_128 = np.random.normal(size=(1, 128, 128, 3))\n",
        "\n",
        "output = model(img_128)\n",
        "output.shape"
      ],
      "execution_count": 18,
      "outputs": [
        {
          "output_type": "execute_result",
          "data": {
            "text/plain": [
              "TensorShape([1, 4, 4, 512])"
            ]
          },
          "metadata": {},
          "execution_count": 18
        }
      ]
    },
    {
      "cell_type": "code",
      "metadata": {
        "colab": {
          "base_uri": "https://localhost:8080/"
        },
        "id": "MulmKuSqIjOb",
        "outputId": "62690a74-c6d2-4ab3-9e41-f1f58c189668"
      },
      "source": [
        "img_512 = np.random.normal(size=(1, 512, 512, 3))\n",
        "\n",
        "output = model(img_512)\n",
        "output.shape"
      ],
      "execution_count": 19,
      "outputs": [
        {
          "output_type": "execute_result",
          "data": {
            "text/plain": [
              "TensorShape([1, 16, 16, 512])"
            ]
          },
          "metadata": {},
          "execution_count": 19
        }
      ]
    },
    {
      "cell_type": "code",
      "metadata": {
        "colab": {
          "base_uri": "https://localhost:8080/"
        },
        "id": "cAWIq_xsIslr",
        "outputId": "0461ab11-2fe1-429d-aec9-f01fc5bf7bf0"
      },
      "source": [
        "img_4 = np.random.normal(size=(1, 4, 4, 3))\n",
        "\n",
        "output = model(img_4)\n",
        "output.shape\n"
      ],
      "execution_count": 20,
      "outputs": [
        {
          "output_type": "execute_result",
          "data": {
            "text/plain": [
              "TensorShape([1, 0, 0, 512])"
            ]
          },
          "metadata": {},
          "execution_count": 20
        }
      ]
    },
    {
      "cell_type": "code",
      "metadata": {
        "id": "NNy1gpi3JAaS",
        "colab": {
          "base_uri": "https://localhost:8080/"
        },
        "outputId": "c486deb1-dac3-488c-ca7a-4315e13c2950"
      },
      "source": [
        "img32 = np.random.normal(size=(1, 32, 32, 3))\n",
        "\n",
        "output = model(img32)\n",
        "output.shape"
      ],
      "execution_count": 21,
      "outputs": [
        {
          "output_type": "execute_result",
          "data": {
            "text/plain": [
              "TensorShape([1, 1, 1, 512])"
            ]
          },
          "metadata": {},
          "execution_count": 21
        }
      ]
    },
    {
      "cell_type": "code",
      "metadata": {
        "id": "0oOjhNxazMGD"
      },
      "source": [],
      "execution_count": null,
      "outputs": []
    }
  ]
}