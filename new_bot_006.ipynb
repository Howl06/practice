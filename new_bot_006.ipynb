{
  "cells": [
    {
      "cell_type": "code",
      "execution_count": 1,
      "metadata": {
        "id": "ylkDvkEfEZIw",
        "outputId": "fa21e833-d6bf-4388-a36c-420c6f46ad9e",
        "colab": {
          "base_uri": "https://localhost:8080/",
          "height": 35
        }
      },
      "outputs": [
        {
          "output_type": "execute_result",
          "data": {
            "text/plain": [
              "'\\n掛載Google硬碟\\n安裝套件\\n引用套件\\nAPP應用準備\\n消息準備\\nhandler執行方法設計\\n啟動應用\\n\\n'"
            ],
            "application/vnd.google.colaboratory.intrinsic+json": {
              "type": "string"
            }
          },
          "metadata": {},
          "execution_count": 1
        }
      ],
      "source": [
        "'''\n",
        "掛載Google硬碟\n",
        "安裝套件\n",
        "引用套件\n",
        "APP應用準備\n",
        "消息準備\n",
        "handler執行方法設計\n",
        "啟動應用\n",
        "\n",
        "'''"
      ]
    },
    {
      "cell_type": "code",
      "execution_count": 2,
      "metadata": {
        "id": "2mDqhB78Fxp6",
        "outputId": "98246782-00aa-4d91-c664-87aceb8e7a46",
        "colab": {
          "base_uri": "https://localhost:8080/"
        }
      },
      "outputs": [
        {
          "output_type": "stream",
          "name": "stdout",
          "text": [
            "Drive already mounted at /content/drive; to attempt to forcibly remount, call drive.mount(\"/content/drive\", force_remount=True).\n"
          ]
        }
      ],
      "source": [
        "'''\n",
        "\n",
        "資料 mapping 至google drive\n",
        "\n",
        "把資料寫在/content/drive\n",
        "\n",
        "即可保存在 google drive內\n",
        "\n",
        "'''\n",
        "from google.colab import drive\n",
        "drive.mount('/content/drive')"
      ]
    },
    {
      "cell_type": "code",
      "execution_count": 3,
      "metadata": {
        "id": "4iGRs1oYD6Ca",
        "outputId": "1d86f1bd-8256-4dd7-e5c9-127206059281",
        "colab": {
          "base_uri": "https://localhost:8080/",
          "height": 35
        }
      },
      "outputs": [
        {
          "output_type": "execute_result",
          "data": {
            "text/plain": [
              "'\\n\\n流程解析\\n\\n'"
            ],
            "application/vnd.google.colaboratory.intrinsic+json": {
              "type": "string"
            }
          },
          "metadata": {},
          "execution_count": 3
        }
      ],
      "source": [
        "'''\n",
        "\n",
        "流程解析\n",
        "\n",
        "'''\n"
      ]
    },
    {
      "cell_type": "code",
      "execution_count": 4,
      "metadata": {
        "id": "JyhJqq8KImyR",
        "outputId": "7f5e0eec-df9b-46e1-c1a2-32cafb10dd2a",
        "colab": {
          "base_uri": "https://localhost:8080/"
        }
      },
      "outputs": [
        {
          "output_type": "stream",
          "name": "stdout",
          "text": [
            "Looking in indexes: https://pypi.org/simple, https://us-python.pkg.dev/colab-wheels/public/simple/\n",
            "Collecting line-bot-sdk\n",
            "  Downloading line_bot_sdk-2.4.2-py2.py3-none-any.whl (90 kB)\n",
            "\u001b[2K     \u001b[90m━━━━━━━━━━━━━━━━━━━━━━━━━━━━━━━━━━━━━━━━\u001b[0m \u001b[32m90.1/90.1 KB\u001b[0m \u001b[31m3.5 MB/s\u001b[0m eta \u001b[36m0:00:00\u001b[0m\n",
            "\u001b[?25hRequirement already satisfied: flask in /usr/local/lib/python3.9/dist-packages (2.2.3)\n",
            "Collecting flask-ngrok\n",
            "  Downloading flask_ngrok-0.0.25-py3-none-any.whl (3.1 kB)\n",
            "Requirement already satisfied: future in /usr/local/lib/python3.9/dist-packages (from line-bot-sdk) (0.16.0)\n",
            "Collecting requests==2.28.2\n",
            "  Downloading requests-2.28.2-py3-none-any.whl (62 kB)\n",
            "\u001b[2K     \u001b[90m━━━━━━━━━━━━━━━━━━━━━━━━━━━━━━━━━━━━━━━━\u001b[0m \u001b[32m62.8/62.8 KB\u001b[0m \u001b[31m5.9 MB/s\u001b[0m eta \u001b[36m0:00:00\u001b[0m\n",
            "\u001b[?25hCollecting aiohttp==3.8.4\n",
            "  Downloading aiohttp-3.8.4-cp39-cp39-manylinux_2_17_x86_64.manylinux2014_x86_64.whl (1.0 MB)\n",
            "\u001b[2K     \u001b[90m━━━━━━━━━━━━━━━━━━━━━━━━━━━━━━━━━━━━━━━━\u001b[0m \u001b[32m1.0/1.0 MB\u001b[0m \u001b[31m19.4 MB/s\u001b[0m eta \u001b[36m0:00:00\u001b[0m\n",
            "\u001b[?25hCollecting charset-normalizer<4.0,>=2.0\n",
            "  Downloading charset_normalizer-3.1.0-cp39-cp39-manylinux_2_17_x86_64.manylinux2014_x86_64.whl (199 kB)\n",
            "\u001b[2K     \u001b[90m━━━━━━━━━━━━━━━━━━━━━━━━━━━━━━━━━━━━━━\u001b[0m \u001b[32m199.2/199.2 KB\u001b[0m \u001b[31m18.4 MB/s\u001b[0m eta \u001b[36m0:00:00\u001b[0m\n",
            "\u001b[?25hCollecting aiosignal>=1.1.2\n",
            "  Downloading aiosignal-1.3.1-py3-none-any.whl (7.6 kB)\n",
            "Collecting multidict<7.0,>=4.5\n",
            "  Downloading multidict-6.0.4-cp39-cp39-manylinux_2_17_x86_64.manylinux2014_x86_64.whl (114 kB)\n",
            "\u001b[2K     \u001b[90m━━━━━━━━━━━━━━━━━━━━━━━━━━━━━━━━━━━━━━━\u001b[0m \u001b[32m114.2/114.2 KB\u001b[0m \u001b[31m7.4 MB/s\u001b[0m eta \u001b[36m0:00:00\u001b[0m\n",
            "\u001b[?25hRequirement already satisfied: attrs>=17.3.0 in /usr/local/lib/python3.9/dist-packages (from aiohttp==3.8.4->line-bot-sdk) (22.2.0)\n",
            "Collecting frozenlist>=1.1.1\n",
            "  Downloading frozenlist-1.3.3-cp39-cp39-manylinux_2_5_x86_64.manylinux1_x86_64.manylinux_2_17_x86_64.manylinux2014_x86_64.whl (158 kB)\n",
            "\u001b[2K     \u001b[90m━━━━━━━━━━━━━━━━━━━━━━━━━━━━━━━━━━━━━━\u001b[0m \u001b[32m158.8/158.8 KB\u001b[0m \u001b[31m14.0 MB/s\u001b[0m eta \u001b[36m0:00:00\u001b[0m\n",
            "\u001b[?25hCollecting yarl<2.0,>=1.0\n",
            "  Downloading yarl-1.8.2-cp39-cp39-manylinux_2_17_x86_64.manylinux2014_x86_64.whl (264 kB)\n",
            "\u001b[2K     \u001b[90m━━━━━━━━━━━━━━━━━━━━━━━━━━━━━━━━━━━━━━\u001b[0m \u001b[32m264.6/264.6 KB\u001b[0m \u001b[31m15.9 MB/s\u001b[0m eta \u001b[36m0:00:00\u001b[0m\n",
            "\u001b[?25hCollecting async-timeout<5.0,>=4.0.0a3\n",
            "  Downloading async_timeout-4.0.2-py3-none-any.whl (5.8 kB)\n",
            "Requirement already satisfied: certifi>=2017.4.17 in /usr/local/lib/python3.9/dist-packages (from requests==2.28.2->line-bot-sdk) (2022.12.7)\n",
            "Requirement already satisfied: urllib3<1.27,>=1.21.1 in /usr/local/lib/python3.9/dist-packages (from requests==2.28.2->line-bot-sdk) (1.26.15)\n",
            "Requirement already satisfied: idna<4,>=2.5 in /usr/local/lib/python3.9/dist-packages (from requests==2.28.2->line-bot-sdk) (2.10)\n",
            "Requirement already satisfied: importlib-metadata>=3.6.0 in /usr/local/lib/python3.9/dist-packages (from flask) (6.0.0)\n",
            "Requirement already satisfied: itsdangerous>=2.0 in /usr/local/lib/python3.9/dist-packages (from flask) (2.1.2)\n",
            "Requirement already satisfied: Jinja2>=3.0 in /usr/local/lib/python3.9/dist-packages (from flask) (3.1.2)\n",
            "Requirement already satisfied: Werkzeug>=2.2.2 in /usr/local/lib/python3.9/dist-packages (from flask) (2.2.3)\n",
            "Requirement already satisfied: click>=8.0 in /usr/local/lib/python3.9/dist-packages (from flask) (8.1.3)\n",
            "Requirement already satisfied: zipp>=0.5 in /usr/local/lib/python3.9/dist-packages (from importlib-metadata>=3.6.0->flask) (3.15.0)\n",
            "Requirement already satisfied: MarkupSafe>=2.0 in /usr/local/lib/python3.9/dist-packages (from Jinja2>=3.0->flask) (2.1.2)\n",
            "Installing collected packages: multidict, frozenlist, charset-normalizer, async-timeout, yarl, requests, aiosignal, flask-ngrok, aiohttp, line-bot-sdk\n",
            "  Attempting uninstall: requests\n",
            "    Found existing installation: requests 2.25.1\n",
            "    Uninstalling requests-2.25.1:\n",
            "      Successfully uninstalled requests-2.25.1\n",
            "Successfully installed aiohttp-3.8.4 aiosignal-1.3.1 async-timeout-4.0.2 charset-normalizer-3.1.0 flask-ngrok-0.0.25 frozenlist-1.3.3 line-bot-sdk-2.4.2 multidict-6.0.4 requests-2.28.2 yarl-1.8.2\n"
          ]
        }
      ],
      "source": [
        "!pip install line-bot-sdk flask flask-ngrok"
      ]
    },
    {
      "cell_type": "code",
      "execution_count": 5,
      "metadata": {
        "id": "rJDNE2TYEaYA"
      },
      "outputs": [],
      "source": [
        "'''\n",
        "引用套件\n",
        "'''\n",
        "\n",
        "# 引用Web Server套件\n",
        "from flask import Flask, request, abort, jsonify\n",
        "\n",
        "# 載入json處理套件\n",
        "import json\n",
        "\n",
        "# 外部連結自動生成套件\n",
        "from flask_ngrok import run_with_ngrok\n",
        "\n",
        "# 從linebot 套件包裡引用 LineBotApi 與 WebhookHandler 類別\n",
        "from linebot import (\n",
        "    LineBotApi, WebhookHandler\n",
        ")\n",
        "\n",
        "# 引用無效簽章錯誤\n",
        "from linebot.exceptions import (\n",
        "    InvalidSignatureError\n",
        ")\n"
      ]
    },
    {
      "cell_type": "code",
      "execution_count": 6,
      "metadata": {
        "id": "XssY97Y9Eahe"
      },
      "outputs": [],
      "source": [
        "'''\n",
        "建置主程序\n",
        "\n",
        "建置handler與 line_bot_api\n",
        "'''\n",
        "\n",
        "# 設定Server啟用細節\n",
        "app = Flask(__name__,static_url_path = \"/material\" , static_folder = \"./material/\")\n",
        "run_with_ngrok(app)\n",
        "\n",
        "# 生成實體物件\n",
        "# 跟line 溝通用\n",
        "line_bot_api = LineBotApi(\"vtaRo4pkLqIZjk50gBJ53fFtMpg+8unl4TvLKbyvENmbWkzdriMNIeVm87ZWRBdTeDL7YM4hGte+BrNMmYscJ1WNPvCQbheXUbVevrlKB3zP3CaeRjbPQRPHMsqW+037bLOogqjOrh5ssRj53kqQMQdB04t89/1O/w1cDnyilFU=\")\n",
        "# 收發訊息用\n",
        "handler = WebhookHandler(\"de385af73d2121e65ca6fc0490991b02\")\n"
      ]
    },
    {
      "cell_type": "code",
      "execution_count": 7,
      "metadata": {
        "id": "jyIFMBi4EvTl"
      },
      "outputs": [],
      "source": [
        "'''\n",
        "建置主程序的API入口\n",
        "  接受Line傳過來的消息\n",
        "  並取出消息內容\n",
        "  將消息內容存在google drive的檔案內\n",
        "  並請handler 進行消息驗證與轉發\n",
        "'''\n",
        "\n",
        "# 啟動server對外接口，使Line能丟消息進來\n",
        "@app.route(\"/\", methods=['POST'])\n",
        "def callback():\n",
        "    # get X-Line-Signature header value\n",
        "    signature = request.headers['X-Line-Signature']\n",
        "\n",
        "    # get request body as text\n",
        "    body = request.get_data(as_text=True)\n",
        "    print(body)\n",
        "\n",
        "    # 記錄用戶log\n",
        "    f = open(\"/content/drive/MyDrive/ai-event.log\", \"a\")\n",
        "    f.write(body)\n",
        "    f.close()\n",
        "\n",
        "    # handle webhook body\n",
        "    try:\n",
        "        handler.handle(body, signature)\n",
        "    except InvalidSignatureError:\n",
        "        abort(400)\n",
        "\n",
        "    return 'OK'"
      ]
    },
    {
      "cell_type": "code",
      "execution_count": 12,
      "metadata": {
        "id": "jojZfXmcacqS"
      },
      "outputs": [],
      "source": [
        "'''\n",
        "\n",
        "若收到圖片消息時，\n",
        "\n",
        "先回覆用戶文字消息，並從Line上將照片拿回。\n",
        "\n",
        "'''\n",
        "\n",
        "from linebot.models import(\n",
        "    MessageEvent, ImageMessage, TextSendMessage, VideoMessage, AudioMessage\n",
        ")\n",
        "# 用戶告訴handler 當收到圖片消息的時候執行下面\n",
        "@handler.add(MessageEvent, message=ImageMessage)\n",
        "def handle_message(event):\n",
        "    # 回應圖片上傳的id\n",
        "    line_bot_api.reply_message(\n",
        "        event.reply_token,\n",
        "        TextSendMessage(text='Image has Upload'+ ' ' + event.message.id))\n",
        "    # 根據消息的id 向line索取檔案回來\n",
        "    message_content = line_bot_api.get_message_content(event.message.id)\n",
        "    # 存在本地檔 以圖片方式儲存\n",
        "    with open(\"/content/drive/MyDrive/line_bot_content/\" + event.message.id + '.jpg', 'wb') as fd:\n",
        "        for chunk in message_content.iter_content():\n",
        "            fd.write(chunk)"
      ]
    },
    {
      "cell_type": "code",
      "execution_count": 13,
      "metadata": {
        "id": "NVkYb65fHY9W"
      },
      "outputs": [],
      "source": [
        "'''\n",
        "影片消息，留給你\n",
        "'''\n",
        "# 用戶告訴handler 當收到影片消息的時候執行下面\n",
        "@handler.add(MessageEvent, message=VideoMessage)\n",
        "def handle_message(event):\n",
        "    # 回應影片上傳的id\n",
        "    line_bot_api.reply_message(\n",
        "        event.reply_token,\n",
        "        TextSendMessage(text='Video has Upload'+ ' ' + event.message.id))\n",
        "    # 根據消息的id 向line索取檔案回來\n",
        "    message_content = line_bot_api.get_message_content(event.message.id)\n",
        "    # 存在本地檔 以影片方式儲存\n",
        "    with open(\"/content/drive/MyDrive/line_bot_content/\" + event.message.id + '.mp4', 'wb') as fd:\n",
        "        for chunk in message_content.iter_content():\n",
        "            fd.write(chunk)"
      ]
    },
    {
      "cell_type": "code",
      "execution_count": 14,
      "metadata": {
        "id": "H7hA7xfaQ25T"
      },
      "outputs": [],
      "source": [
        "'''\n",
        "音訊消息，留給你\n",
        "'''\n",
        "\n",
        "# 用戶告訴handler 當收到音訊消息的時候執行下面\n",
        "@handler.add(MessageEvent, message=AudioMessage)\n",
        "def handle_message(event):\n",
        "    # 回應音訊上傳的id\n",
        "    line_bot_api.reply_message(\n",
        "        event.reply_token,\n",
        "        TextSendMessage(text='Sound has Upload'+ ' ' + event.message.id))\n",
        "    # 根據消息的id 向line索取檔案回來\n",
        "    message_content = line_bot_api.get_message_content(event.message.id)\n",
        "    # 存在本地檔 以音訊方式儲存\n",
        "    with open(\"/content/drive/MyDrive/line_bot_content/\" + event.message.id + '.aac', 'wb') as fd:\n",
        "        for chunk in message_content.iter_content():\n",
        "            fd.write(chunk)"
      ]
    },
    {
      "cell_type": "code",
      "execution_count": 10,
      "metadata": {
        "id": "0IONhIKOQ3Ih"
      },
      "outputs": [],
      "source": []
    },
    {
      "cell_type": "code",
      "execution_count": 15,
      "metadata": {
        "id": "7UVshk_cQ3NQ",
        "outputId": "6b6c4c88-e108-4ec1-f637-4170c6c9ed97",
        "colab": {
          "base_uri": "https://localhost:8080/"
        }
      },
      "outputs": [
        {
          "output_type": "stream",
          "name": "stdout",
          "text": [
            " * Serving Flask app '__main__'\n",
            " * Debug mode: off\n"
          ]
        },
        {
          "output_type": "stream",
          "name": "stderr",
          "text": [
            "INFO:werkzeug:\u001b[31m\u001b[1mWARNING: This is a development server. Do not use it in a production deployment. Use a production WSGI server instead.\u001b[0m\n",
            " * Running on http://127.0.0.1:5000\n",
            "INFO:werkzeug:\u001b[33mPress CTRL+C to quit\u001b[0m\n"
          ]
        },
        {
          "output_type": "stream",
          "name": "stdout",
          "text": [
            " * Running on http://2f70-35-185-92-95.ngrok.io\n",
            " * Traffic stats available on http://127.0.0.1:4040\n",
            "{\"destination\":\"U54dcf9ab5f592860405fcec0d6979997\",\"events\":[{\"type\":\"message\",\"message\":{\"type\":\"video\",\"id\":\"17811265767872\",\"duration\":14500,\"contentProvider\":{\"type\":\"line\"}},\"webhookEventId\":\"01GVMJYG5WVPJHGNFR9GFNDBQ3\",\"deliveryContext\":{\"isRedelivery\":false},\"timestamp\":1678949433280,\"source\":{\"type\":\"user\",\"userId\":\"Ua19163cfb927dce013b280948e91caf0\"},\"replyToken\":\"99bd7d8ff6eb4ddf827ba6b4058244a8\",\"mode\":\"active\"}]}\n"
          ]
        },
        {
          "output_type": "stream",
          "name": "stderr",
          "text": [
            "INFO:werkzeug:127.0.0.1 - - [16/Mar/2023 06:50:36] \"POST / HTTP/1.1\" 200 -\n"
          ]
        },
        {
          "output_type": "stream",
          "name": "stdout",
          "text": [
            "{\"destination\":\"U54dcf9ab5f592860405fcec0d6979997\",\"events\":[{\"type\":\"message\",\"message\":{\"type\":\"audio\",\"id\":\"17811271734082\",\"duration\":1311,\"contentProvider\":{\"type\":\"line\"}},\"webhookEventId\":\"01GVMK0SHZF2PQY6C2DMP6BYZ9\",\"deliveryContext\":{\"isRedelivery\":false},\"timestamp\":1678949508533,\"source\":{\"type\":\"user\",\"userId\":\"Ua19163cfb927dce013b280948e91caf0\"},\"replyToken\":\"a673237343ee450e86f2fb000a6f1b2a\",\"mode\":\"active\"}]}\n"
          ]
        },
        {
          "output_type": "stream",
          "name": "stderr",
          "text": [
            "INFO:werkzeug:127.0.0.1 - - [16/Mar/2023 06:51:50] \"POST / HTTP/1.1\" 200 -\n"
          ]
        }
      ],
      "source": [
        "# 主程序運行\n",
        "app.run()"
      ]
    }
  ],
  "metadata": {
    "colab": {
      "name": "011_LineChatbot基本組成_下載多媒體訊息.ipynb",
      "provenance": []
    },
    "kernelspec": {
      "display_name": "Python 3",
      "language": "python",
      "name": "python3"
    },
    "language_info": {
      "codemirror_mode": {
        "name": "ipython",
        "version": 3
      },
      "file_extension": ".py",
      "mimetype": "text/x-python",
      "name": "python",
      "nbconvert_exporter": "python",
      "pygments_lexer": "ipython3",
      "version": "3.8.6"
    }
  },
  "nbformat": 4,
  "nbformat_minor": 0
}