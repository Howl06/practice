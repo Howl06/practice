{
  "nbformat": 4,
  "nbformat_minor": 0,
  "metadata": {
    "colab": {
      "name": "011_LineChatbot基本組成_下載多媒體訊息.ipynb",
      "provenance": []
    },
    "kernelspec": {
      "name": "python3",
      "display_name": "Python 3"
    }
  },
  "cells": [
    {
      "cell_type": "code",
      "metadata": {
        "id": "ylkDvkEfEZIw",
        "outputId": "809ce43f-2e9c-4a29-f9d0-61467b342774",
        "colab": {
          "base_uri": "https://localhost:8080/",
          "height": 35
        }
      },
      "source": [
        "'''\n",
        "掛載Google硬碟\n",
        "安裝套件\n",
        "引用套件\n",
        "APP應用準備\n",
        "消息準備\n",
        "handler執行方法設計\n",
        "啟動應用\n",
        "\n",
        "'''"
      ],
      "execution_count": 1,
      "outputs": [
        {
          "output_type": "execute_result",
          "data": {
            "text/plain": [
              "'\\n掛載Google硬碟\\n安裝套件\\n引用套件\\nAPP應用準備\\n消息準備\\nhandler執行方法設計\\n啟動應用\\n\\n'"
            ],
            "application/vnd.google.colaboratory.intrinsic+json": {
              "type": "string"
            }
          },
          "metadata": {},
          "execution_count": 1
        }
      ]
    },
    {
      "cell_type": "code",
      "metadata": {
        "id": "2mDqhB78Fxp6",
        "outputId": "e5a84a95-1c33-473c-db01-a43ac88fe546",
        "colab": {
          "base_uri": "https://localhost:8080/"
        }
      },
      "source": [
        "'''\n",
        "\n",
        "資料 mapping 至google drive\n",
        "\n",
        "把資料寫在/content/drive\n",
        "\n",
        "即可保存在 google drive內\n",
        "\n",
        "'''\n",
        "from google.colab import drive\n",
        "drive.mount('/content/drive')"
      ],
      "execution_count": 2,
      "outputs": [
        {
          "output_type": "stream",
          "name": "stdout",
          "text": [
            "Drive already mounted at /content/drive; to attempt to forcibly remount, call drive.mount(\"/content/drive\", force_remount=True).\n"
          ]
        }
      ]
    },
    {
      "cell_type": "code",
      "metadata": {
        "id": "4iGRs1oYD6Ca",
        "outputId": "42bd6350-3618-4565-ed09-938254f4b9b2",
        "colab": {
          "base_uri": "https://localhost:8080/",
          "height": 35
        }
      },
      "source": [
        "'''\n",
        "\n",
        "流程解析\n",
        "\n",
        "'''\n"
      ],
      "execution_count": 3,
      "outputs": [
        {
          "output_type": "execute_result",
          "data": {
            "text/plain": [
              "'\\n\\n流程解析\\n\\n'"
            ],
            "application/vnd.google.colaboratory.intrinsic+json": {
              "type": "string"
            }
          },
          "metadata": {},
          "execution_count": 3
        }
      ]
    },
    {
      "cell_type": "code",
      "metadata": {
        "id": "JyhJqq8KImyR",
        "outputId": "a74a934e-fc09-4d70-c7f2-36fa78cf6926",
        "colab": {
          "base_uri": "https://localhost:8080/"
        }
      },
      "source": [
        "!pip install line-bot-sdk flask flask-ngrok"
      ],
      "execution_count": 4,
      "outputs": [
        {
          "output_type": "stream",
          "name": "stdout",
          "text": [
            "Looking in indexes: https://pypi.org/simple, https://us-python.pkg.dev/colab-wheels/public/simple/\n",
            "Collecting line-bot-sdk\n",
            "  Downloading line_bot_sdk-2.4.2-py2.py3-none-any.whl (90 kB)\n",
            "\u001b[2K     \u001b[90m━━━━━━━━━━━━━━━━━━━━━━━━━━━━━━━━━━━━━━━━\u001b[0m \u001b[32m90.1/90.1 KB\u001b[0m \u001b[31m3.1 MB/s\u001b[0m eta \u001b[36m0:00:00\u001b[0m\n",
            "\u001b[?25hRequirement already satisfied: flask in /usr/local/lib/python3.9/dist-packages (2.2.3)\n",
            "Collecting flask-ngrok\n",
            "  Downloading flask_ngrok-0.0.25-py3-none-any.whl (3.1 kB)\n",
            "Requirement already satisfied: future in /usr/local/lib/python3.9/dist-packages (from line-bot-sdk) (0.16.0)\n",
            "Collecting requests==2.28.2\n",
            "  Downloading requests-2.28.2-py3-none-any.whl (62 kB)\n",
            "\u001b[2K     \u001b[90m━━━━━━━━━━━━━━━━━━━━━━━━━━━━━━━━━━━━━━━━\u001b[0m \u001b[32m62.8/62.8 KB\u001b[0m \u001b[31m4.8 MB/s\u001b[0m eta \u001b[36m0:00:00\u001b[0m\n",
            "\u001b[?25hCollecting aiohttp==3.8.4\n",
            "  Downloading aiohttp-3.8.4-cp39-cp39-manylinux_2_17_x86_64.manylinux2014_x86_64.whl (1.0 MB)\n",
            "\u001b[2K     \u001b[90m━━━━━━━━━━━━━━━━━━━━━━━━━━━━━━━━━━━━━━━━\u001b[0m \u001b[32m1.0/1.0 MB\u001b[0m \u001b[31m11.7 MB/s\u001b[0m eta \u001b[36m0:00:00\u001b[0m\n",
            "\u001b[?25hCollecting frozenlist>=1.1.1\n",
            "  Downloading frozenlist-1.3.3-cp39-cp39-manylinux_2_5_x86_64.manylinux1_x86_64.manylinux_2_17_x86_64.manylinux2014_x86_64.whl (158 kB)\n",
            "\u001b[2K     \u001b[90m━━━━━━━━━━━━━━━━━━━━━━━━━━━━━━━━━━━━━━\u001b[0m \u001b[32m158.8/158.8 KB\u001b[0m \u001b[31m14.5 MB/s\u001b[0m eta \u001b[36m0:00:00\u001b[0m\n",
            "\u001b[?25hCollecting multidict<7.0,>=4.5\n",
            "  Downloading multidict-6.0.4-cp39-cp39-manylinux_2_17_x86_64.manylinux2014_x86_64.whl (114 kB)\n",
            "\u001b[2K     \u001b[90m━━━━━━━━━━━━━━━━━━━━━━━━━━━━━━━━━━━━━━\u001b[0m \u001b[32m114.2/114.2 KB\u001b[0m \u001b[31m11.7 MB/s\u001b[0m eta \u001b[36m0:00:00\u001b[0m\n",
            "\u001b[?25hCollecting charset-normalizer<4.0,>=2.0\n",
            "  Downloading charset_normalizer-3.1.0-cp39-cp39-manylinux_2_17_x86_64.manylinux2014_x86_64.whl (199 kB)\n",
            "\u001b[2K     \u001b[90m━━━━━━━━━━━━━━━━━━━━━━━━━━━━━━━━━━━━━━\u001b[0m \u001b[32m199.2/199.2 KB\u001b[0m \u001b[31m15.2 MB/s\u001b[0m eta \u001b[36m0:00:00\u001b[0m\n",
            "\u001b[?25hRequirement already satisfied: attrs>=17.3.0 in /usr/local/lib/python3.9/dist-packages (from aiohttp==3.8.4->line-bot-sdk) (22.2.0)\n",
            "Collecting aiosignal>=1.1.2\n",
            "  Downloading aiosignal-1.3.1-py3-none-any.whl (7.6 kB)\n",
            "Collecting async-timeout<5.0,>=4.0.0a3\n",
            "  Downloading async_timeout-4.0.2-py3-none-any.whl (5.8 kB)\n",
            "Collecting yarl<2.0,>=1.0\n",
            "  Downloading yarl-1.8.2-cp39-cp39-manylinux_2_17_x86_64.manylinux2014_x86_64.whl (264 kB)\n",
            "\u001b[2K     \u001b[90m━━━━━━━━━━━━━━━━━━━━━━━━━━━━━━━━━━━━━━\u001b[0m \u001b[32m264.6/264.6 KB\u001b[0m \u001b[31m26.3 MB/s\u001b[0m eta \u001b[36m0:00:00\u001b[0m\n",
            "\u001b[?25hRequirement already satisfied: certifi>=2017.4.17 in /usr/local/lib/python3.9/dist-packages (from requests==2.28.2->line-bot-sdk) (2022.12.7)\n",
            "Requirement already satisfied: urllib3<1.27,>=1.21.1 in /usr/local/lib/python3.9/dist-packages (from requests==2.28.2->line-bot-sdk) (1.26.15)\n",
            "Requirement already satisfied: idna<4,>=2.5 in /usr/local/lib/python3.9/dist-packages (from requests==2.28.2->line-bot-sdk) (2.10)\n",
            "Requirement already satisfied: importlib-metadata>=3.6.0 in /usr/local/lib/python3.9/dist-packages (from flask) (6.0.0)\n",
            "Requirement already satisfied: Werkzeug>=2.2.2 in /usr/local/lib/python3.9/dist-packages (from flask) (2.2.3)\n",
            "Requirement already satisfied: Jinja2>=3.0 in /usr/local/lib/python3.9/dist-packages (from flask) (3.1.2)\n",
            "Requirement already satisfied: itsdangerous>=2.0 in /usr/local/lib/python3.9/dist-packages (from flask) (2.1.2)\n",
            "Requirement already satisfied: click>=8.0 in /usr/local/lib/python3.9/dist-packages (from flask) (8.1.3)\n",
            "Requirement already satisfied: zipp>=0.5 in /usr/local/lib/python3.9/dist-packages (from importlib-metadata>=3.6.0->flask) (3.15.0)\n",
            "Requirement already satisfied: MarkupSafe>=2.0 in /usr/local/lib/python3.9/dist-packages (from Jinja2>=3.0->flask) (2.1.2)\n",
            "Installing collected packages: multidict, frozenlist, charset-normalizer, async-timeout, yarl, requests, aiosignal, flask-ngrok, aiohttp, line-bot-sdk\n",
            "  Attempting uninstall: requests\n",
            "    Found existing installation: requests 2.25.1\n",
            "    Uninstalling requests-2.25.1:\n",
            "      Successfully uninstalled requests-2.25.1\n",
            "Successfully installed aiohttp-3.8.4 aiosignal-1.3.1 async-timeout-4.0.2 charset-normalizer-3.1.0 flask-ngrok-0.0.25 frozenlist-1.3.3 line-bot-sdk-2.4.2 multidict-6.0.4 requests-2.28.2 yarl-1.8.2\n"
          ]
        }
      ]
    },
    {
      "cell_type": "code",
      "metadata": {
        "id": "rJDNE2TYEaYA"
      },
      "source": [
        "'''\n",
        "\n",
        "\n",
        "'''\n",
        "\n",
        "# 引用Web Server套件\n",
        "from flask import Flask, request, abort, jsonify\n",
        "\n",
        "# 載入json處理套件\n",
        "import json\n",
        "\n",
        "# 外部連結自動生成套件\n",
        "from flask_ngrok import run_with_ngrok\n",
        "\n",
        "# 從linebot 套件包裡引用 LineBotApi 與 WebhookHandler 類別\n",
        "from linebot import (\n",
        "    LineBotApi, WebhookHandler\n",
        ")\n",
        "\n",
        "# 引用無效簽章錯誤\n",
        "from linebot.exceptions import (\n",
        "    InvalidSignatureError\n",
        ")\n"
      ],
      "execution_count": 5,
      "outputs": []
    },
    {
      "cell_type": "code",
      "metadata": {
        "id": "XssY97Y9Eahe"
      },
      "source": [
        "'''\n",
        "建置主程序\n",
        "\n",
        "建置handler與 line_bot_api\n",
        "'''\n",
        "\n",
        "# 設定Server啟用細節\n",
        "app = Flask(__name__,static_url_path = \"/material\" , static_folder = \"./material/\")\n",
        "run_with_ngrok(app)\n",
        "\n",
        "# 生成實體物件\n",
        "# 跟line 溝通用\n",
        "line_bot_api = LineBotApi(\"vtaRo4pkLqIZjk50gBJ53fFtMpg+8unl4TvLKbyvENmbWkzdriMNIeVm87ZWRBdTeDL7YM4hGte+BrNMmYscJ1WNPvCQbheXUbVevrlKB3zP3CaeRjbPQRPHMsqW+037bLOogqjOrh5ssRj53kqQMQdB04t89/1O/w1cDnyilFU=\")\n",
        "# 收發訊息用\n",
        "handler = WebhookHandler(\"de385af73d2121e65ca6fc0490991b02\")"
      ],
      "execution_count": 6,
      "outputs": []
    },
    {
      "cell_type": "code",
      "metadata": {
        "id": "jyIFMBi4EvTl"
      },
      "source": [
        "'''\n",
        "\n",
        "建置主程序的API入口\n",
        "\n",
        "'''\n",
        "\n",
        "# 啟動server對外接口，使Line能丟消息進來\n",
        "@app.route(\"/\", methods=['POST'])\n",
        "def callback():\n",
        "    # get X-Line-Signature header value\n",
        "    signature = request.headers['X-Line-Signature']\n",
        "\n",
        "    # get request body as text\n",
        "    body = request.get_data(as_text=True)\n",
        "    print(body)\n",
        "\n",
        "    # 記錄用戶log\n",
        "    f = open(\"/content/drive/MyDrive/ai-event.log\", \"a\")\n",
        "    f.write(body)\n",
        "    f.close()\n",
        "\n",
        "    # handle webhook body\n",
        "    try:\n",
        "        handler.handle(body, signature)\n",
        "    except InvalidSignatureError:\n",
        "        abort(400)\n",
        "\n",
        "    return 'OK'"
      ],
      "execution_count": 7,
      "outputs": []
    },
    {
      "cell_type": "code",
      "metadata": {
        "id": "CLJukg__Yaal"
      },
      "source": [
        "'''\n",
        "\n",
        "準備QuickReply的Button\n",
        "\n",
        "\n",
        "'''\n",
        "\n",
        "# 引入相關套件\n",
        "from linebot.models import (\n",
        "    MessageAction, URIAction,\n",
        "    PostbackAction, DatetimePickerAction,\n",
        "    CameraAction, CameraRollAction, LocationAction,\n",
        "    QuickReply, QuickReplyButton\n",
        ")\n",
        "\n",
        "# 創建QuickReplyButton \n",
        "\n",
        "## 點擊後，以用戶身份發送文字消息\n",
        "## MessageAction\n",
        "textQuickReplyButton = QuickReplyButton(\n",
        "    action=MessageAction(\n",
        "        label=\"打扁機器人\", \n",
        "        text=\"別打了求你\"\n",
        "    )\n",
        ")\n",
        "\n",
        "## 點擊後，彈跳出選擇時間之視窗\n",
        "## DatetimePickerAction\n",
        "dateQuickReplyButton = QuickReplyButton(\n",
        "    action=DatetimePickerAction(\n",
        "        label=\"時間選擇\",\n",
        "        data=\"data3\",                       \n",
        "        mode=\"date\"\n",
        "    )\n",
        ")\n",
        "\n",
        "\n",
        "## 點擊後，開啟相機\n",
        "## CameraAction\n",
        "cameraQuickReplyButton = QuickReplyButton(\n",
        "    action=CameraAction(label=\"拍照\")\n",
        ")\n",
        "\n",
        "## 點擊後，切換至照片相簿選擇\n",
        "cameraRollQRB = QuickReplyButton(\n",
        "    action=CameraRollAction(label=\"選擇照片\")\n",
        ")\n",
        "\n",
        "## 點擊後，跳出地理位置\n",
        "locationQRB = QuickReplyButton(\n",
        "    action=LocationAction(label=\"地理位置\")\n",
        ")\n",
        "\n",
        "## 點擊後，以Postback事件回應Server \n",
        "postbackQRB = QuickReplyButton(\n",
        "    action=PostbackAction(label=\"我是PostbackEvent\", data=\"data1\")\n",
        ")"
      ],
      "execution_count": 8,
      "outputs": []
    },
    {
      "cell_type": "code",
      "metadata": {
        "id": "wIN_RgjHYiKe"
      },
      "source": [
        "'''\n",
        "\n",
        "以QuickReply封裝該些QuickReply Button\n",
        "\n",
        "'''\n",
        "## 設計QuickReplyButton的List\n",
        "quickReplyList = QuickReply(\n",
        "    items = [textQuickReplyButton, dateQuickReplyButton, cameraQuickReplyButton, cameraRollQRB, locationQRB,postbackQRB]\n",
        ")"
      ],
      "execution_count": 9,
      "outputs": []
    },
    {
      "cell_type": "code",
      "metadata": {
        "id": "QGQAcwWoYlb0"
      },
      "source": [
        "'''\n",
        "\n",
        "製作TextSendMessage，並將剛封裝的QuickReply放入\n",
        "\n",
        "'''\n",
        "## 將quickReplyList 塞入TextSendMessage 中 \n",
        "from linebot.models import (\n",
        "    TextSendMessage,\n",
        ")\n",
        "quick_reply_text_send_message = TextSendMessage(text='發送問題給用戶，請用戶回答', quick_reply=quickReplyList)"
      ],
      "execution_count": 10,
      "outputs": []
    },
    {
      "cell_type": "code",
      "metadata": {
        "id": "iZf8SHFfXYRs"
      },
      "source": [
        "'''\n",
        "訊息事件的表達\n",
        "'''\n",
        "\n",
        "# 將消息模型，文字收取消息與文字寄發消息 引入\n",
        "from linebot.models import (\n",
        "    MessageEvent, TextMessage, TextSendMessage, ImageSendMessage\n",
        ")\n",
        "\n",
        "specific_text_message=TextSendMessage(\"官方建議，用戶以文字消息觸發特殊功能的時候，要加上特殊符號\")\n",
        "\n",
        "analyze_truth_image_message=ImageSendMessage(\n",
        "      original_content_url='https://i.imgur.com/M8jnn9B.png',\n",
        "      preview_image_url='https://i.imgur.com/LtCtgg0.jpg'\n",
        "      )\n",
        "eye_protect_image_message=ImageSendMessage(\n",
        "      original_content_url='https://i.imgur.com/auX0TAub.gif',\n",
        "      preview_image_url='https://i.imgur.com/ZTvcBoub.jpg'\n",
        "      )"
      ],
      "execution_count": 11,
      "outputs": []
    },
    {
      "cell_type": "code",
      "metadata": {
        "id": "kpVdUJ0wTSli"
      },
      "source": [
        "'''\n",
        "Button篇\n",
        "    設定模板消息，指定其參數細節。\n",
        "\n",
        "'''\n",
        "\n",
        "\n",
        "#引入所需要的消息與模板消息\n",
        "from linebot.models import (\n",
        "    MessageEvent, TemplateSendMessage , PostbackEvent\n",
        ")\n",
        "\n",
        "#引入按鍵模板\n",
        "from linebot.models.template import(\n",
        "    ButtonsTemplate\n",
        ")\n",
        "\n",
        "\n",
        "'''\n",
        "alt_text: Line簡覽視窗所出現的說明文字\n",
        "template: 所使用的模板\n",
        "ButtonsTemplate: 按鍵模板\n",
        "    thumbnail_image_url: 展示圖片\n",
        "    title: 標題\n",
        "    text: 說明文字\n",
        "    actions: 模板行為所使用的行為\n",
        "    data: 觸發postback後用戶回傳值，可以對其做商業邏輯處理\n",
        "\n",
        "'''\n",
        "buttons_template_message = TemplateSendMessage(\n",
        "    alt_text='Buttons template',\n",
        "    template=ButtonsTemplate(\n",
        "        title='更多幫助',\n",
        "        text='請點擊下方按鈕獲得更多幫助',\n",
        "        actions=[\n",
        "          {\n",
        "            \"type\": \"postback\",\n",
        "            \"label\": \"企業，查找商業結合方案\",\n",
        "            \"text\": \"[::text:]尋找BD\",\n",
        "            \"data\": \"Data1\"\n",
        "          },\n",
        "          {\n",
        "            \"type\": \"postback\",\n",
        "            \"label\": \"開發者，尋求教學\",\n",
        "            \"text\": \"[::text:]求助專家\",\n",
        "            \"data\": \"Data2\"\n",
        "          },\n",
        "          {\n",
        "            \"type\": \"uri\",\n",
        "            \"label\": \"打電話\",\n",
        "            \"uri\": \"tel://3345678\"\n",
        "          }\n",
        "        ],\n",
        "  )\n",
        ")"
      ],
      "execution_count": 12,
      "outputs": []
    },
    {
      "cell_type": "code",
      "metadata": {
        "id": "CsDjhbugRh9Z"
      },
      "source": [
        "'''\n",
        "\n",
        "設計一個字典\n",
        "    當用戶輸入相應文字消息時，系統會從此挑揀消息\n",
        "\n",
        "'''\n",
        "\n",
        "# 將消息模型，文字收取消息與文字寄發消息 引入\n",
        "from linebot.models import (\n",
        "    MessageEvent, TextMessage, TextSendMessage, ImageSendMessage\n",
        ")\n",
        "\n",
        "# 根據自定義菜單五張故事線的圖，設定相對應image\n",
        "template_message_dict = {\n",
        "  \"@reply\":quick_reply_text_send_message,\n",
        "  \"@more\":buttons_template_message,\n",
        "  \"@123\":specific_text_message,\n",
        "  \"@分析的本質\":analyze_truth_image_message,\n",
        "  \"@養眼一下\":eye_protect_image_message\n",
        "  \n",
        "}"
      ],
      "execution_count": 13,
      "outputs": []
    },
    {
      "cell_type": "code",
      "metadata": {
        "id": "YhyKB6njFHJC"
      },
      "source": [
        "\n",
        "'''\n",
        "\n",
        "撰寫用戶關注時，我們要處理的商業邏輯\n",
        "\n",
        "1. 取得用戶個資，並存回伺服器\n",
        "2. 回應用戶，歡迎用的文字消息\n",
        "\n",
        "'''\n",
        "\n",
        "\n",
        "# 載入Follow事件\n",
        "from linebot.models.events import (\n",
        "    FollowEvent\n",
        ")\n",
        "\n",
        "from linebot.models import(\n",
        "    TextSendMessage, ImageSendMessage\n",
        ")\n",
        "\n",
        "# 載入requests套件\n",
        "import requests\n",
        "\n",
        "\n",
        "# 告知handler，如果收到FollowEvent，則做下面的方法處理\n",
        "@handler.add(FollowEvent)\n",
        "def reply_text_and_get_user_profile(event):\n",
        "    \n",
        "    # 取出消息內User的資料\n",
        "    user_profile = line_bot_api.get_profile(event.source.user_id)\n",
        "        \n",
        "     # 將用戶資訊存在檔案內\n",
        "    with open(\"/content/drive/MyDrive/users.txt\", \"a\") as myfile:\n",
        "        myfile.write(json.dumps(vars(user_profile),sort_keys=True))\n",
        "        myfile.write('\\n')\n",
        "    \n",
        "    # 回覆文字消息與圖片消息\n",
        "    line_bot_api.reply_message(\n",
        "        event.reply_token,\n",
        "        [TextSendMessage('安安，你的個資已被我紀錄了')]\n",
        "    )"
      ],
      "execution_count": 14,
      "outputs": []
    },
    {
      "cell_type": "code",
      "metadata": {
        "id": "dNFhpNPPTywd"
      },
      "source": [
        "#用戶點擊button後，觸發postback event，對其回傳做相對應處理\n",
        "\n",
        "@handler.add(PostbackEvent)\n",
        "def handle_post_message(event):\n",
        "    user_profile = line_bot_api.get_profile(event.source.user_id)\n",
        "    if (event.postback.data.find('Data1')== 0):\n",
        "        with open(\"user_profile_business.txt\", \"a\") as myfile:\n",
        "            myfile.write(json.dumps(vars(user_profile),sort_keys=True))\n",
        "            myfile.write('\\n')\n",
        "            line_bot_api.reply_message(\n",
        "            event.reply_token,\n",
        "                TextMessage(\n",
        "                    text='請稍待，會有專人與您聯繫'\n",
        "                )\n",
        "            )\n",
        "    elif (event.postback.data.find('Data2') == 0):\n",
        "        with open(\"user_profile_tutorial.txt\", \"a\") as myfile:\n",
        "            myfile.write(json.dumps(vars(user_profile),sort_keys=True))\n",
        "            myfile.write('\\n')\n",
        "            line_bot_api.reply_message(\n",
        "            event.reply_token,\n",
        "                TextMessage(\n",
        "                    text='請稍待，我們會派專家與您聯繫'\n",
        "                )\n",
        "            )\n",
        "    else:\n",
        "        pass"
      ],
      "execution_count": 15,
      "outputs": []
    },
    {
      "cell_type": "code",
      "metadata": {
        "id": "gUFnh86kQSzk"
      },
      "source": [
        "# 用戶發出文字消息時， 按條件內容, 回傳文字消息\n",
        "@handler.add(MessageEvent, message=TextMessage)\n",
        "def handle_message(event):\n",
        "    \n",
        "    if(event.message.text.find('@')!= -1):\n",
        "        line_bot_api.reply_message(\n",
        "        event.reply_token,\n",
        "        template_message_dict.get(event.message.text)\n",
        "        )\n",
        "    else:\n",
        "        line_bot_api.reply_message(\n",
        "        event.reply_token,\n",
        "        TextSendMessage(text=\"字典內查無此字，請輸入@123或@分析的本質或@more@養眼一下\")\n",
        "        )"
      ],
      "execution_count": 16,
      "outputs": []
    },
    {
      "cell_type": "code",
      "metadata": {
        "id": "jojZfXmcacqS"
      },
      "source": [
        "'''\n",
        "\n",
        "若收到圖片 影片 音訊消息時，\n",
        "\n",
        "先回覆用戶文字消息，並從Line上將照片拿回。\n",
        "\n",
        "'''\n",
        "\n",
        "from linebot.models import(\n",
        "    MessageEvent, ImageMessage, TextSendMessage, VideoMessage, AudioMessage\n",
        ")\n",
        "\n",
        "@handler.add(MessageEvent, message=ImageMessage)\n",
        "def handle_message(event):\n",
        "    line_bot_api.reply_message(\n",
        "        event.reply_token,\n",
        "        TextSendMessage(text='Image has Upload' + ' ' + event.message.id))\n",
        "    message_content = line_bot_api.get_message_content(event.message.id)\n",
        "    with open(\"/content/drive/MyDrive/line_bot_content/\" + event.message.id + '.jpg', 'wb') as fd:\n",
        "        for chunk in message_content.iter_content():\n",
        "            fd.write(chunk)\n",
        "@handler.add(MessageEvent, message=VideoMessage)\n",
        "def handle_message(event):\n",
        "    line_bot_api.reply_message(\n",
        "        event.reply_token,\n",
        "        TextSendMessage(text='Video has Upload'+ ' ' + event.message.id))\n",
        "    message_content = line_bot_api.get_message_content(event.message.id)\n",
        "    with open(\"/content/drive/MyDrive/line_bot_content/\" + event.message.id+'.jpg', 'wb') as fd:\n",
        "        for chunk in message_content.iter_content():\n",
        "            fd.write(chunk)\n",
        "@handler.add(MessageEvent, message=AudioMessage)\n",
        "def handle_message(event):\n",
        "    line_bot_api.reply_message(\n",
        "        event.reply_token,\n",
        "        TextSendMessage(text='Sound has Upload'+ ' ' + event.message.id))\n",
        "    message_content = line_bot_api.get_message_content(event.message.id)\n",
        "    with open(\"/content/drive/MyDrive/line_bot_content/\" + event.message.id+'.jpg', 'wb') as fd:\n",
        "        for chunk in message_content.iter_content():\n",
        "            fd.write(chunk)"
      ],
      "execution_count": 17,
      "outputs": []
    },
    {
      "cell_type": "code",
      "metadata": {
        "id": "NVkYb65fHY9W",
        "colab": {
          "base_uri": "https://localhost:8080/"
        },
        "outputId": "a9c232df-d49a-4f3e-edd4-e1465de152f2"
      },
      "source": [
        "app.run()"
      ],
      "execution_count": 18,
      "outputs": [
        {
          "output_type": "stream",
          "name": "stdout",
          "text": [
            " * Serving Flask app '__main__'\n",
            " * Debug mode: off\n"
          ]
        },
        {
          "output_type": "stream",
          "name": "stderr",
          "text": [
            "INFO:werkzeug:\u001b[31m\u001b[1mWARNING: This is a development server. Do not use it in a production deployment. Use a production WSGI server instead.\u001b[0m\n",
            " * Running on http://127.0.0.1:5000\n",
            "INFO:werkzeug:\u001b[33mPress CTRL+C to quit\u001b[0m\n"
          ]
        },
        {
          "output_type": "stream",
          "name": "stdout",
          "text": [
            " * Running on http://b01f-35-229-217-80.ngrok.io\n",
            " * Traffic stats available on http://127.0.0.1:4040\n",
            "{\"destination\":\"U54dcf9ab5f592860405fcec0d6979997\",\"events\":[{\"type\":\"message\",\"message\":{\"type\":\"text\",\"id\":\"17811367600316\",\"text\":\"0\"},\"webhookEventId\":\"01GVMM56569VVAC4E51NGCZSQ7\",\"deliveryContext\":{\"isRedelivery\":false},\"timestamp\":1678950701205,\"source\":{\"type\":\"user\",\"userId\":\"Ua19163cfb927dce013b280948e91caf0\"},\"replyToken\":\"0f35c113543840babfd03221d46990a7\",\"mode\":\"active\"}]}\n"
          ]
        },
        {
          "output_type": "stream",
          "name": "stderr",
          "text": [
            "INFO:werkzeug:127.0.0.1 - - [16/Mar/2023 07:11:42] \"POST / HTTP/1.1\" 200 -\n",
            "INFO:werkzeug:127.0.0.1 - - [16/Mar/2023 07:11:47] \"POST / HTTP/1.1\" 200 -\n"
          ]
        },
        {
          "output_type": "stream",
          "name": "stdout",
          "text": [
            "{\"destination\":\"U54dcf9ab5f592860405fcec0d6979997\",\"events\":[{\"type\":\"message\",\"message\":{\"type\":\"text\",\"id\":\"17811368054011\",\"text\":\"@養眼一下\"},\"webhookEventId\":\"01GVMM5BT8PVZ3ECWNAR1RQZ6Z\",\"deliveryContext\":{\"isRedelivery\":false},\"timestamp\":1678950706941,\"source\":{\"type\":\"user\",\"userId\":\"Ua19163cfb927dce013b280948e91caf0\"},\"replyToken\":\"5e07cf7d5f1f4c328b67c89f3f229811\",\"mode\":\"active\"}]}\n",
            "{\"destination\":\"U54dcf9ab5f592860405fcec0d6979997\",\"events\":[{\"type\":\"message\",\"message\":{\"type\":\"image\",\"id\":\"17811369310557\",\"contentProvider\":{\"type\":\"line\"}},\"webhookEventId\":\"01GVMM5VR7JDG154KHS4B0CRA6\",\"deliveryContext\":{\"isRedelivery\":false},\"timestamp\":1678950723074,\"source\":{\"type\":\"user\",\"userId\":\"Ua19163cfb927dce013b280948e91caf0\"},\"replyToken\":\"7889a3b4b35f49fb91c2733756cb6ced\",\"mode\":\"active\"}]}\n"
          ]
        },
        {
          "output_type": "stream",
          "name": "stderr",
          "text": [
            "INFO:werkzeug:127.0.0.1 - - [16/Mar/2023 07:12:04] \"POST / HTTP/1.1\" 200 -\n",
            "INFO:werkzeug:127.0.0.1 - - [16/Mar/2023 07:12:31] \"POST / HTTP/1.1\" 200 -\n"
          ]
        },
        {
          "output_type": "stream",
          "name": "stdout",
          "text": [
            "{\"destination\":\"U54dcf9ab5f592860405fcec0d6979997\",\"events\":[{\"type\":\"message\",\"message\":{\"type\":\"text\",\"id\":\"17811371484192\",\"text\":\"@more\"},\"webhookEventId\":\"01GVMM6PNDP9ZV4AMH34JVQGDT\",\"deliveryContext\":{\"isRedelivery\":false},\"timestamp\":1678950750386,\"source\":{\"type\":\"user\",\"userId\":\"Ua19163cfb927dce013b280948e91caf0\"},\"replyToken\":\"e79f06f007e647fea419ae66c2293cbd\",\"mode\":\"active\"}]}\n"
          ]
        },
        {
          "output_type": "stream",
          "name": "stderr",
          "text": [
            "INFO:werkzeug:127.0.0.1 - - [16/Mar/2023 07:12:45] \"POST / HTTP/1.1\" 200 -\n"
          ]
        },
        {
          "output_type": "stream",
          "name": "stdout",
          "text": [
            "{\"destination\":\"U54dcf9ab5f592860405fcec0d6979997\",\"events\":[{\"type\":\"message\",\"message\":{\"type\":\"text\",\"id\":\"17811372610525\",\"text\":\"@reply\"},\"webhookEventId\":\"01GVMM746MYES3W3APTRFG8FN9\",\"deliveryContext\":{\"isRedelivery\":false},\"timestamp\":1678950764648,\"source\":{\"type\":\"user\",\"userId\":\"Ua19163cfb927dce013b280948e91caf0\"},\"replyToken\":\"ee569f73054a4b37b0b67e944ed18994\",\"mode\":\"active\"}]}\n"
          ]
        }
      ]
    },
    {
      "cell_type": "code",
      "metadata": {
        "id": "ylIDIK3pbu32"
      },
      "source": [],
      "execution_count": 18,
      "outputs": []
    }
  ]
}