{
  "nbformat": 4,
  "nbformat_minor": 0,
  "metadata": {
    "colab": {
      "provenance": [],
      "authorship_tag": "ABX9TyNSvDX1GX6/SurDaJJlaWzM",
      "include_colab_link": true
    },
    "kernelspec": {
      "name": "python3",
      "display_name": "Python 3"
    },
    "language_info": {
      "name": "python"
    }
  },
  "cells": [
    {
      "cell_type": "markdown",
      "metadata": {
        "id": "view-in-github",
        "colab_type": "text"
      },
      "source": [
        "<a href=\"https://colab.research.google.com/github/Howl06/practice/blob/main/python/python_class_test(interface).ipynb\" target=\"_parent\"><img src=\"https://colab.research.google.com/assets/colab-badge.svg\" alt=\"Open In Colab\"/></a>"
      ]
    },
    {
      "cell_type": "code",
      "execution_count": null,
      "metadata": {
        "id": "seTZdTxvgWEu"
      },
      "outputs": [],
      "source": [
        "### Python3\n",
        "\n",
        "class Cat:\n",
        "    def __init__(self, name=\"No-Name\"):\n",
        "        self._name = name\n",
        "        self._shout_num = 3\n",
        "\n",
        "    @property  #{1}only read\n",
        "    def shout_num(self):\n",
        "        return self._shout_num\n",
        "\n",
        "    @shout_num.setter  #{2}\n",
        "    def shout_num(self, num):\n",
        "        if num < 0: \n",
        "            raise ValueError()\n",
        "        self._shout_num = num\n",
        "\n",
        "    def shout(self):\n",
        "        result = \"\"\n",
        "        for _ in range(self.shout_num):\n",
        "            result += \"meow~ \"\n",
        "        return \"My name is \" + self._name + \". \" + result\n",
        "\n",
        "def main():\n",
        "    cat = Cat(\"May\")\n",
        "    cat.shout_num = 5  #{3}\n",
        "    print(cat.shout())\n",
        "    \n",
        "\n",
        "if __name__ == \"__main__\":\n",
        "    main()\n",
        "\n",
        "# output:\n",
        "# My name is May. meow~ meow~ meow~ meow~ meow~"
      ]
    },
    {
      "cell_type": "code",
      "source": [
        "class Bank_acount:\n",
        "    def __init__(self):\n",
        "        self.__password = \"預設密碼 0000\"\n",
        " \n",
        "    @property # func -> attribute\n",
        "    def password(self):\n",
        "        return self.__password\n",
        " \n",
        "    @password.setter\n",
        "    def password(self, value):\n",
        "        self.__password = value\n",
        " \n",
        "    @password.deleter\n",
        "    def password(self):\n",
        "        del self.__password\n",
        "        print('del complite')\n",
        "a = Bank_acount\n",
        "b = a()\n",
        "print(b.password)\n",
        "del b.password"
      ],
      "metadata": {
        "id": "bDzKj8KJggmu"
      },
      "execution_count": null,
      "outputs": []
    },
    {
      "cell_type": "code",
      "source": [
        "\n",
        "class ThisTestClass:\n",
        "    getName = 'Max'  #class.attribute ThisTestClass.getName all class object -> same address\n",
        " \n",
        "    def __init__(self):\n",
        "        self.getNameFromInit = 'Max__init__'  #方法二：把屬性定義寫在init內\n",
        "        pass\n",
        " \n",
        " \n",
        "if __name__ == \"__main__\":\n",
        " \n",
        "    task = ThisTestClass()\n",
        "    task.sendName = 'Max_sendName'  #方法三：自己給屬性與參數\n",
        " \n",
        "    print(task.getName)\n",
        "    print(task.getNameFromInit)\n",
        "    print(task.sendName)\n",
        " "
      ],
      "metadata": {
        "colab": {
          "base_uri": "https://localhost:8080/"
        },
        "id": "x7NMoIvSg9Zd",
        "outputId": "6043b5ee-33f2-4072-efd6-97cdeed4c09e"
      },
      "execution_count": null,
      "outputs": [
        {
          "output_type": "stream",
          "name": "stdout",
          "text": [
            "Max\n",
            "Max__init__\n",
            "Max_sendName\n"
          ]
        }
      ]
    },
    {
      "cell_type": "code",
      "source": [
        "class Employee:\n",
        "    def __init__(self):\n",
        "        self.cut_tree = 3\n",
        " \n",
        "class Andy(Employee):\n",
        "    def __init__(self, get_gold):\n",
        "        super().__init__()\n",
        "        self.get_gold = get_gold\n",
        " \n",
        "    def getDetials(self):\n",
        "        print('==getDetals==')\n",
        "        print('tree:', self.cut_tree)\n",
        "        print('gold:', self.get_gold)\n",
        " \n",
        " \n",
        "if __name__ == \"__main__\":\n",
        "    andy = Andy(1)\n",
        "    andy.getDetials()\n",
        " "
      ],
      "metadata": {
        "colab": {
          "base_uri": "https://localhost:8080/"
        },
        "id": "aa9GgCcGhdiC",
        "outputId": "e06056e8-5a6b-461b-c79a-8fbe4e11494a"
      },
      "execution_count": null,
      "outputs": [
        {
          "output_type": "stream",
          "name": "stdout",
          "text": [
            "==getDetals==\n",
            "tree: 3\n",
            "gold: 1\n"
          ]
        }
      ]
    },
    {
      "cell_type": "code",
      "source": [
        "class Employee:\n",
        "    def __init__(self):\n",
        "        self.cut_tree = 3\n",
        "\n",
        "    def __sleep(self):\n",
        "        print('Sleeping')\n",
        " \n",
        "    def work(self):\n",
        "        self._Employee__sleep()\n",
        "        print('Working')\n",
        " \n",
        "    \n",
        " \n",
        " \n",
        "if __name__ == \"__main__\":\n",
        "    andy = Employee()\n",
        "    andy.work()\n",
        "    print(andy.cut_tree)\n",
        " \n"
      ],
      "metadata": {
        "colab": {
          "base_uri": "https://localhost:8080/"
        },
        "id": "NErf_2TFh0Yc",
        "outputId": "ce03798d-9a0f-4680-9185-3e0e88afca50"
      },
      "execution_count": null,
      "outputs": [
        {
          "output_type": "stream",
          "name": "stdout",
          "text": [
            "Sleeping\n",
            "Working\n",
            "3\n"
          ]
        }
      ]
    },
    {
      "cell_type": "code",
      "source": [
        "class People_StaticMethods:\n",
        "    def __init__(self):\n",
        "        pass\n",
        " \n",
        "    def sleep(self, sleep_hour):\n",
        "        print('Sleeping hours :', sleep_hour)\n",
        "\n",
        "    @staticmethod # \n",
        "    def work(work_hour):\n",
        "        print('Working hours :', work_hour)\n",
        "    # 可以直接當func call\n",
        "    def __call__(self):\n",
        "        print(\"hihi\")\n",
        "\n",
        "# 不用object 可以直接用class call\n",
        "People_StaticMethods.work(4)\n",
        "m = People_StaticMethods()\n",
        "m.sleep(3)\n",
        "m()"
      ],
      "metadata": {
        "colab": {
          "base_uri": "https://localhost:8080/"
        },
        "id": "HApuGD_BkS1a",
        "outputId": "420a6521-474f-4944-fd0c-4fbb44cf629d"
      },
      "execution_count": null,
      "outputs": [
        {
          "output_type": "stream",
          "name": "stdout",
          "text": [
            "Working hours : 4\n",
            "Sleeping hours : 3\n",
            "hihi\n"
          ]
        }
      ]
    },
    {
      "cell_type": "code",
      "source": [
        "\n",
        "class People_ClassMethods:\n",
        "    def __init__(self):\n",
        "        pass\n",
        " \n",
        "    def sleep(self, sleep_hour):\n",
        "        print('Sleeping hours :', sleep_hour)\n",
        "    \n",
        "    @classmethod\n",
        "    def work(cls, work_hour): # cls = class parameter\n",
        "        print('Working hours :', work_hour)\n",
        "        # call class other func，use cls().sleep(6)\n",
        "        cls().sleep(6)\n",
        " \n",
        "# StaticMethods -> classmethod can call class func\n",
        "People_ClassMethods.work(5)"
      ],
      "metadata": {
        "colab": {
          "base_uri": "https://localhost:8080/"
        },
        "id": "t_pHYA9DkSy3",
        "outputId": "c23beb32-df50-40d4-dab0-cfad746e10b3"
      },
      "execution_count": null,
      "outputs": [
        {
          "output_type": "stream",
          "name": "stdout",
          "text": [
            "Working hours : 5\n",
            "Sleeping hours : 6\n"
          ]
        }
      ]
    },
    {
      "cell_type": "code",
      "source": [
        "# 汽車類別\n",
        "class Cars:\n",
        "    # 建構式\n",
        "    def __init__(self):\n",
        "        self.color = \"blue\"\n",
        "    # 實體方法(Instance Method)\n",
        "    def drive(self):\n",
        "        print(f\"{self} is {self.color}.\")\n",
        "a = Cars()\n",
        "a.drive()"
      ],
      "metadata": {
        "colab": {
          "base_uri": "https://localhost:8080/"
        },
        "id": "fx2iBZ1VoGAi",
        "outputId": "16a6146f-c96f-4b32-9012-34fac66a6619"
      },
      "execution_count": null,
      "outputs": [
        {
          "output_type": "stream",
          "name": "stdout",
          "text": [
            "<__main__.Cars object at 0x7fb7a597ffa0> is blue.\n"
          ]
        }
      ]
    },
    {
      "cell_type": "markdown",
      "source": [
        "Java之中只允許單一繼承  python 允許多重繼承  \n",
        "interface 定義抽象func 等同約束class 使用必要func 但是不能有實際的func  \n",
        "python 沒有interface只能利用 Abstract Class 使用 metaclass ABCMeta，  \n",
        "來讓自定義的 Class 有個可以繼承的 Abstract Class (沒有實例的func)來做到行為規範   \n",
        "Abstract Class 不能創建obj"
      ],
      "metadata": {
        "id": "svAEocFnrxnq"
      }
    },
    {
      "cell_type": "code",
      "source": [
        "class Animal:\n",
        "    def __init__(self, name=\"No-Name\"):\n",
        "        self._name = name\n",
        "        self._shout_num = 3\n",
        "\n",
        "    @property\n",
        "    def shout_num(self):\n",
        "        return self._shout_num\n",
        "\n",
        "    @shout_num.setter\n",
        "    def shout_num(self, num):\n",
        "        self._shout_num = num\n",
        "\n",
        "    def shout(self):\n",
        "        result = \"\"\n",
        "        for _ in range(self.shout_num):\n",
        "            result += self._getShoutSound() + \" \"\n",
        "        return \"My name is \" + self._name + \". \" + result\n",
        "\n",
        "    def _getShoutSound(self):  #{1}\n",
        "        raise NotImplementedError\n",
        "\n",
        "class Cat(Animal):\n",
        "    def _getShoutSound(self): #{2}\n",
        "        return \"meow~\"\n",
        "\n",
        "class Dog(Animal):\n",
        "    def _getShoutSound(self):\n",
        "        return \"woof~\"\n",
        "    \n"
      ],
      "metadata": {
        "id": "Z6sgpYc5sjji"
      },
      "execution_count": null,
      "outputs": []
    },
    {
      "cell_type": "code",
      "source": [
        "# 這樣缺點是 IFly 可以拿來創造object\n",
        "class IFly:\n",
        "    def flyTo(self, place): \n",
        "        # NotImplementedError 表示func 未完成錯誤\n",
        "        raise NotImplementedError\n",
        "\n",
        "class FlyingCat(Cat, IFly): #多重繼承 利用沒有實例func 的\n",
        "    def flyTo(self, place):\n",
        "        return self.shout() + \" I'm going to fly to \" + place + \".\";\n",
        "\n",
        "def main():\n",
        "    cat = FlyingCat(\"May\")\n",
        "    print(cat.flyTo(\"Taiwan\"))\n",
        "    b = IFly()\n",
        "\n",
        "if __name__ == \"__main__\":\n",
        "    main()"
      ],
      "metadata": {
        "colab": {
          "base_uri": "https://localhost:8080/"
        },
        "id": "vTtvw6PotkCg",
        "outputId": "94081501-e0ec-42af-dbd1-46e790ea0168"
      },
      "execution_count": null,
      "outputs": [
        {
          "output_type": "stream",
          "name": "stdout",
          "text": [
            "My name is May. meow~ meow~ meow~  I'm going to fly to Taiwan.\n"
          ]
        }
      ]
    },
    {
      "cell_type": "code",
      "source": [
        "import abc\n",
        "\n",
        "class IFly(abc.ABC):\n",
        "    @abc.abstractmethod\n",
        "    def flyTo(self, place): \n",
        "        raise NotImplementedError\n",
        "\n",
        "class FlyingCat(Cat, IFly): #多重繼承 利用沒有實例func 的\n",
        "    def flyTo(self, place):\n",
        "        return self.shout() + \" I'm going to fly to \" + place + \".\";\n",
        "\n",
        "def main():\n",
        "    cat = FlyingCat(\"May\")\n",
        "    print(cat.flyTo(\"Taiwan\"))\n",
        "    # 不能創造obj\n",
        "    # b = IFly()\n",
        "\n",
        "if __name__ == \"__main__\":\n",
        "    main()"
      ],
      "metadata": {
        "colab": {
          "base_uri": "https://localhost:8080/"
        },
        "id": "Mt3gaLuNtr6r",
        "outputId": "6cd362bc-68ca-47c6-ef24-d809d77c0ec8"
      },
      "execution_count": null,
      "outputs": [
        {
          "output_type": "stream",
          "name": "stdout",
          "text": [
            "My name is May. meow~ meow~ meow~  I'm going to fly to Taiwan.\n"
          ]
        }
      ]
    },
    {
      "cell_type": "code",
      "source": [
        "class Person:\n",
        "    def __init__(self, firstname='Asabeneh', lastname='Yetayeh', age=250, country='Finland', city='Helsinki'):\n",
        "        self.firstname = firstname\n",
        "        self.lastname = lastname\n",
        "        self.age = age\n",
        "        self.country = country\n",
        "        self.city = city\n",
        "        self.reset_age()\n",
        "\n",
        "    def person_info(self):\n",
        "        return f'{self.firstname} {self.lastname} is {self.age} years old. He lives in {self.city}, {self.country}.'\n",
        "    def reset_age(self):\n",
        "        self.age = 300\n",
        "        "
      ],
      "metadata": {
        "id": "CLuSL2HM4f_1"
      },
      "execution_count": 8,
      "outputs": []
    },
    {
      "cell_type": "code",
      "source": [
        "bob = Person()\n",
        "print(bob.age)"
      ],
      "metadata": {
        "id": "V9QeXRsc4rFx",
        "outputId": "6b58ca8b-9af9-4136-e07d-e3ef678d7ea5",
        "colab": {
          "base_uri": "https://localhost:8080/"
        }
      },
      "execution_count": 9,
      "outputs": [
        {
          "output_type": "stream",
          "name": "stdout",
          "text": [
            "300\n"
          ]
        }
      ]
    },
    {
      "cell_type": "code",
      "source": [
        "class Student(Person):\n",
        "    def __init__ (self, firstname='Asabeneh', lastname='Yetayeh', age=200, country='Finland', city='Helsinki', gender='male'):\n",
        "        self.gender = gender\n",
        "        super().__init__(firstname, lastname,age, country, city)\n",
        "    def person_info(self):\n",
        "        gender = 'He' if self.gender =='male' else 'She'\n",
        "        return f'{self.firstname} {self.lastname} is {self.age} years old. {gender} lives in {self.city}, {self.country}.'"
      ],
      "metadata": {
        "id": "DgM1n-7r4ll5"
      },
      "execution_count": 17,
      "outputs": []
    },
    {
      "cell_type": "markdown",
      "source": [],
      "metadata": {
        "id": "G7GlOsYc7CER"
      }
    },
    {
      "cell_type": "code",
      "source": [
        "abc = Student()\n",
        "print(abc.age)"
      ],
      "metadata": {
        "id": "fnmJdSOx5ew3",
        "outputId": "cbc0cdc7-e3c2-497f-e7e0-1853c4d73049",
        "colab": {
          "base_uri": "https://localhost:8080/"
        }
      },
      "execution_count": 18,
      "outputs": [
        {
          "output_type": "stream",
          "name": "stdout",
          "text": [
            "300\n"
          ]
        }
      ]
    }
  ]
}