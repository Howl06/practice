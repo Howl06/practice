{
  "nbformat": 4,
  "nbformat_minor": 0,
  "metadata": {
    "colab": {
      "provenance": [],
      "authorship_tag": "ABX9TyOeEKuDt6DyGr++Bkp06zU8",
      "include_colab_link": true
    },
    "kernelspec": {
      "name": "python3",
      "display_name": "Python 3"
    },
    "language_info": {
      "name": "python"
    }
  },
  "cells": [
    {
      "cell_type": "markdown",
      "metadata": {
        "id": "view-in-github",
        "colab_type": "text"
      },
      "source": [
        "<a href=\"https://colab.research.google.com/github/Howl06/practice/blob/main/python/global_%26_local_%26_deepcopy_%26_pickle.ipynb\" target=\"_parent\"><img src=\"https://colab.research.google.com/assets/colab-badge.svg\" alt=\"Open In Colab\"/></a>"
      ]
    },
    {
      "cell_type": "code",
      "execution_count": 28,
      "metadata": {
        "colab": {
          "base_uri": "https://localhost:8080/"
        },
        "id": "V20TGO_9UrN_",
        "outputId": "201fdf5f-6147-4625-a20e-ada4032e9220"
      },
      "outputs": [
        {
          "output_type": "stream",
          "name": "stdout",
          "text": [
            "5 139759694037360\n",
            "7\n",
            "5 139759694037360\n",
            "7 139759694037424\n",
            "5 139759694037360\n"
          ]
        }
      ],
      "source": [
        "a = 5\n",
        "def test():\n",
        "    a = 7 \n",
        "    return a\n",
        "print(a, id(a))\n",
        "print(test())\n",
        "print(a, id(a))\n",
        "a = 7\n",
        "print(a, id(a))\n",
        "b = 5\n",
        "print(b, id(b))"
      ]
    },
    {
      "cell_type": "code",
      "source": [
        "a = 5\n",
        "def test(a):\n",
        "    a = 7 \n",
        "    return a\n",
        "print(a, id(a))\n",
        "print(test(a))\n",
        "print(a, id(a))\n",
        "a = 7\n",
        "print(a, id(a))\n",
        "b = 5\n",
        "print(b, id(b))"
      ],
      "metadata": {
        "colab": {
          "base_uri": "https://localhost:8080/"
        },
        "id": "6GU8xhWFcQaU",
        "outputId": "a49f3a8c-7bb0-4454-cf92-e5d53cacf2a5"
      },
      "execution_count": 31,
      "outputs": [
        {
          "output_type": "stream",
          "name": "stdout",
          "text": [
            "5 139759694037360\n",
            "7\n",
            "5 139759694037360\n",
            "7 139759694037424\n",
            "5 139759694037360\n"
          ]
        }
      ]
    },
    {
      "cell_type": "code",
      "source": [
        "a = [1, 2, 3]"
      ],
      "metadata": {
        "id": "C849JJ7ZWQ_3"
      },
      "execution_count": 7,
      "outputs": []
    },
    {
      "cell_type": "code",
      "source": [
        "a = [1, 2, 3]\n",
        "def test():\n",
        "    global a\n",
        "    a[0] = 7\n",
        "    a = [8, 9, 10]\n",
        "    return a\n",
        "print(a, id(a))\n",
        "print(test())\n",
        "print(a, id(a))"
      ],
      "metadata": {
        "colab": {
          "base_uri": "https://localhost:8080/"
        },
        "id": "z93El-bXVL20",
        "outputId": "02c20bde-5c15-48a7-fc79-d891998e32a4"
      },
      "execution_count": 20,
      "outputs": [
        {
          "output_type": "stream",
          "name": "stdout",
          "text": [
            "[1, 2, 3] 139758864461760\n",
            "[8, 9, 10]\n",
            "[8, 9, 10] 139758864463040\n"
          ]
        }
      ]
    },
    {
      "cell_type": "code",
      "source": [
        "a = [1, 2, 3]\n",
        "def test(a):\n",
        "    a[0] = 7\n",
        "    a = [8, 9, 10]\n",
        "    return a\n",
        "print(a, id(a))\n",
        "print(test(a))\n",
        "print(a, id(a))"
      ],
      "metadata": {
        "colab": {
          "base_uri": "https://localhost:8080/"
        },
        "id": "62r9JfEfcb8B",
        "outputId": "4b8ae102-b08c-448f-b340-6a45ade45ab3"
      },
      "execution_count": 32,
      "outputs": [
        {
          "output_type": "stream",
          "name": "stdout",
          "text": [
            "[1, 2, 3] 139758864537088\n",
            "[8, 9, 10]\n",
            "[7, 2, 3] 139758864537088\n"
          ]
        }
      ]
    },
    {
      "cell_type": "code",
      "source": [
        "a = [1, 2, 3]\n",
        "def test():\n",
        "    a[0] = 7\n",
        "    return (a, id(a))\n",
        "print(a, id(a))\n",
        "print(a[0], id(a[0]))\n",
        "print(test())\n",
        "print(a, id(a))\n",
        "print(a[0], id(a[0]))"
      ],
      "metadata": {
        "colab": {
          "base_uri": "https://localhost:8080/"
        },
        "id": "2S86l3DRXh0j",
        "outputId": "7e12d685-06f1-48d0-ba57-1877601a8fc9"
      },
      "execution_count": 30,
      "outputs": [
        {
          "output_type": "stream",
          "name": "stdout",
          "text": [
            "[1, 2, 3] 139758442260480\n",
            "1 139759694037232\n",
            "([7, 2, 3], 139758442260480)\n",
            "[7, 2, 3] 139758442260480\n",
            "7 139759694037424\n"
          ]
        }
      ]
    },
    {
      "cell_type": "code",
      "source": [
        "a = [1, 2, 3]\n",
        "b = a\n",
        "# zip generate a iterator\n",
        "c = zip(a, b, b[::-1])\n",
        "for i, j, k in c:\n",
        "    print(i ** 2, j ** 3, k ** 4)\n",
        "print(list(c), type(c), id(c))"
      ],
      "metadata": {
        "colab": {
          "base_uri": "https://localhost:8080/"
        },
        "id": "AxfTv56zk_Kd",
        "outputId": "85069e52-632e-414f-b133-84227cd3ba78"
      },
      "execution_count": 15,
      "outputs": [
        {
          "output_type": "stream",
          "name": "stdout",
          "text": [
            "1 1 81\n",
            "4 8 16\n",
            "9 27 1\n",
            "[] <class 'zip'> 140226819517504\n"
          ]
        }
      ]
    },
    {
      "cell_type": "code",
      "source": [
        "func1 = lambda x, y: x + y\n",
        "# map generate a iterator\n",
        "test = map(func1, [5, 6], [7, 8])\n",
        "print(list(test))\n",
        "print(list(test))"
      ],
      "metadata": {
        "colab": {
          "base_uri": "https://localhost:8080/"
        },
        "id": "yDCtsNHznRlG",
        "outputId": "0088c52d-6e60-401f-9533-9add70f939a4"
      },
      "execution_count": 19,
      "outputs": [
        {
          "output_type": "stream",
          "name": "stdout",
          "text": [
            "[12, 14]\n",
            "[]\n"
          ]
        }
      ]
    },
    {
      "cell_type": "code",
      "source": [
        "a = [1, 2, 3]\n",
        "b = a\n",
        "print(id(a) == id(b))\n",
        "b[0] = 9\n",
        "print(a, b)\n",
        "a = [1, 2, [3, 4]]\n",
        "b = a[:]\n",
        "print(id(a) == id(b))\n",
        "b[0] = 9\n",
        "print(a, b)\n",
        "print(id(a[2]) == id(b[2]))\n",
        "b[2][0] = 9\n",
        "print(a, b)\n",
        "# 如果list內有list dict 需要copy.deepcopy() 才會創造一個完全獨立的副本 "
      ],
      "metadata": {
        "colab": {
          "base_uri": "https://localhost:8080/"
        },
        "id": "YMJDqu3RoLNZ",
        "outputId": "86e22840-b78a-4954-ff1b-fe62c09de443"
      },
      "execution_count": 26,
      "outputs": [
        {
          "output_type": "stream",
          "name": "stdout",
          "text": [
            "True\n",
            "[9, 2, 3] [9, 2, 3]\n",
            "False\n",
            "[1, 2, [3, 4]] [9, 2, [3, 4]]\n",
            "True\n",
            "[1, 2, [9, 4]] [9, 2, [9, 4]]\n"
          ]
        }
      ]
    },
    {
      "cell_type": "code",
      "source": [
        "import pickle\n",
        "\n",
        "# save dict\n",
        "my_dict = {'key': 'value'}\n",
        "with open('dict.pickle', 'wb') as f:\n",
        "    pickle.dump(my_dict, f)\n",
        "\n",
        "# reload dict\n",
        "with open('dict.pickle', 'rb') as f:\n",
        "    loaded_dict = pickle.load(f)\n",
        "\n",
        "print(loaded_dict) "
      ],
      "metadata": {
        "colab": {
          "base_uri": "https://localhost:8080/"
        },
        "id": "9k-SXXyl4vOv",
        "outputId": "41a910fe-ba40-4468-8fc1-f2aaf82e68f0"
      },
      "execution_count": 27,
      "outputs": [
        {
          "output_type": "stream",
          "name": "stdout",
          "text": [
            "{'key': 'value'}\n"
          ]
        }
      ]
    },
    {
      "cell_type": "code",
      "source": [
        "def hello_world():\n",
        "    print(\"hello world!\")\n",
        "# save func\n",
        "with open('func.pickle', 'wb') as f:\n",
        "    pickle.dump(hello_world, f)\n",
        "\n",
        "# reload func\n",
        "with open('func.pickle', 'rb') as f:\n",
        "    loaded_func = pickle.load(f)\n",
        "\n",
        "print(loaded_func) \n",
        "loaded_func()"
      ],
      "metadata": {
        "colab": {
          "base_uri": "https://localhost:8080/"
        },
        "id": "WdLMfz_b5NFu",
        "outputId": "54e4d8ab-348d-47f2-dbe1-5e59da6e8625"
      },
      "execution_count": 31,
      "outputs": [
        {
          "output_type": "stream",
          "name": "stdout",
          "text": [
            "<function hello_world at 0x7f8919cff520>\n",
            "hello world!\n"
          ]
        }
      ]
    },
    {
      "cell_type": "code",
      "source": [
        "import json\n",
        "\n",
        "# save dict\n",
        "my_dict = {'key': 'value'}\n",
        "with open('dict.json', 'w') as f:\n",
        "    json.dump(my_dict, f)\n",
        "\n",
        "# reload dict\n",
        "with open('dict.json', 'r') as f:\n",
        "    loaded_dict = json.load(f)\n",
        "\n",
        "print(loaded_dict)  # 输出: {'key': 'value'}"
      ],
      "metadata": {
        "colab": {
          "base_uri": "https://localhost:8080/"
        },
        "id": "TmayNQoa4-6a",
        "outputId": "8d82f73c-1771-4dfb-b385-afe7a02b5c4a"
      },
      "execution_count": 28,
      "outputs": [
        {
          "output_type": "stream",
          "name": "stdout",
          "text": [
            "{'key': 'value'}\n"
          ]
        }
      ]
    },
    {
      "cell_type": "markdown",
      "source": [
        "pickle 和 json 是 Python 中用於序列化和反序列化資料的兩個模組。它們之間的主要區別如下：\n",
        "\n",
        "資料格式：pickle 序列化的資料格式為二進制，而 json 序列化的資料格式為文字。\n",
        "\n",
        "支援的資料類型：pickle 可以序列化幾乎所有的 Python 資料類型，包括自定義類別和函式。json 僅支援基本資料類型，例如字典、串列、字串、整數、浮點數、布林值和 None。\n",
        "\n",
        "跨語言支援：json 是一種通用的資料交換格式，可與多種程式語言進行交互。pickle 是 Python 特定的，不同程式語言之間可能無法相互解析 pickle 格式的資料。\n",
        "\n",
        "安全性：由於 pickle 可以序列化任意物件，存在潛在的安全風險，特別是在處理不受信任的資料時。json 僅是一種資料格式，不會執行任意程式碼，因此相對較安全。\n",
        "\n",
        "總結而言，如果您只需要在 Python 環境中進行資料序列化和反序列化，且對於資料格式沒有特殊要求，可以選擇使用 pickle。如果需要與其他程式語言進行資料交換，或者希望資料格式具有通用性和可讀性，可以選擇使用 json。選擇適合您需求的模組可以提高資料交換的靈活性和安全性。"
      ],
      "metadata": {
        "id": "0lET8G1X5-11"
      }
    }
  ]
}