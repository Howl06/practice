{
  "cells": [
    {
      "cell_type": "code",
      "source": [
        "!pip install line-bot-sdk"
      ],
      "metadata": {
        "id": "rp4pP5rChDh5",
        "outputId": "dc5ba8f7-154f-4e1b-d642-14dfd97711d2",
        "colab": {
          "base_uri": "https://localhost:8080/"
        }
      },
      "execution_count": 1,
      "outputs": [
        {
          "output_type": "stream",
          "name": "stdout",
          "text": [
            "Looking in indexes: https://pypi.org/simple, https://us-python.pkg.dev/colab-wheels/public/simple/\n",
            "Collecting line-bot-sdk\n",
            "  Downloading line_bot_sdk-2.4.2-py2.py3-none-any.whl (90 kB)\n",
            "\u001b[2K     \u001b[90m━━━━━━━━━━━━━━━━━━━━━━━━━━━━━━━━━━━━━━━━\u001b[0m \u001b[32m90.1/90.1 KB\u001b[0m \u001b[31m5.8 MB/s\u001b[0m eta \u001b[36m0:00:00\u001b[0m\n",
            "\u001b[?25hRequirement already satisfied: future in /usr/local/lib/python3.9/dist-packages (from line-bot-sdk) (0.16.0)\n",
            "Collecting aiohttp==3.8.4\n",
            "  Downloading aiohttp-3.8.4-cp39-cp39-manylinux_2_17_x86_64.manylinux2014_x86_64.whl (1.0 MB)\n",
            "\u001b[2K     \u001b[90m━━━━━━━━━━━━━━━━━━━━━━━━━━━━━━━━━━━━━━━━\u001b[0m \u001b[32m1.0/1.0 MB\u001b[0m \u001b[31m20.7 MB/s\u001b[0m eta \u001b[36m0:00:00\u001b[0m\n",
            "\u001b[?25hCollecting requests==2.28.2\n",
            "  Downloading requests-2.28.2-py3-none-any.whl (62 kB)\n",
            "\u001b[2K     \u001b[90m━━━━━━━━━━━━━━━━━━━━━━━━━━━━━━━━━━━━━━━━\u001b[0m \u001b[32m62.8/62.8 KB\u001b[0m \u001b[31m5.5 MB/s\u001b[0m eta \u001b[36m0:00:00\u001b[0m\n",
            "\u001b[?25hCollecting frozenlist>=1.1.1\n",
            "  Downloading frozenlist-1.3.3-cp39-cp39-manylinux_2_5_x86_64.manylinux1_x86_64.manylinux_2_17_x86_64.manylinux2014_x86_64.whl (158 kB)\n",
            "\u001b[2K     \u001b[90m━━━━━━━━━━━━━━━━━━━━━━━━━━━━━━━━━━━━━━\u001b[0m \u001b[32m158.8/158.8 KB\u001b[0m \u001b[31m10.3 MB/s\u001b[0m eta \u001b[36m0:00:00\u001b[0m\n",
            "\u001b[?25hCollecting yarl<2.0,>=1.0\n",
            "  Downloading yarl-1.8.2-cp39-cp39-manylinux_2_17_x86_64.manylinux2014_x86_64.whl (264 kB)\n",
            "\u001b[2K     \u001b[90m━━━━━━━━━━━━━━━━━━━━━━━━━━━━━━━━━━━━━━━\u001b[0m \u001b[32m264.6/264.6 KB\u001b[0m \u001b[31m6.8 MB/s\u001b[0m eta \u001b[36m0:00:00\u001b[0m\n",
            "\u001b[?25hRequirement already satisfied: attrs>=17.3.0 in /usr/local/lib/python3.9/dist-packages (from aiohttp==3.8.4->line-bot-sdk) (22.2.0)\n",
            "Collecting aiosignal>=1.1.2\n",
            "  Downloading aiosignal-1.3.1-py3-none-any.whl (7.6 kB)\n",
            "Collecting async-timeout<5.0,>=4.0.0a3\n",
            "  Downloading async_timeout-4.0.2-py3-none-any.whl (5.8 kB)\n",
            "Collecting multidict<7.0,>=4.5\n",
            "  Downloading multidict-6.0.4-cp39-cp39-manylinux_2_17_x86_64.manylinux2014_x86_64.whl (114 kB)\n",
            "\u001b[2K     \u001b[90m━━━━━━━━━━━━━━━━━━━━━━━━━━━━━━━━━━━━━━━\u001b[0m \u001b[32m114.2/114.2 KB\u001b[0m \u001b[31m2.8 MB/s\u001b[0m eta \u001b[36m0:00:00\u001b[0m\n",
            "\u001b[?25hCollecting charset-normalizer<4.0,>=2.0\n",
            "  Downloading charset_normalizer-3.1.0-cp39-cp39-manylinux_2_17_x86_64.manylinux2014_x86_64.whl (199 kB)\n",
            "\u001b[2K     \u001b[90m━━━━━━━━━━━━━━━━━━━━━━━━━━━━━━━━━━━━━━\u001b[0m \u001b[32m199.2/199.2 KB\u001b[0m \u001b[31m12.8 MB/s\u001b[0m eta \u001b[36m0:00:00\u001b[0m\n",
            "\u001b[?25hRequirement already satisfied: idna<4,>=2.5 in /usr/local/lib/python3.9/dist-packages (from requests==2.28.2->line-bot-sdk) (2.10)\n",
            "Requirement already satisfied: certifi>=2017.4.17 in /usr/local/lib/python3.9/dist-packages (from requests==2.28.2->line-bot-sdk) (2022.12.7)\n",
            "Requirement already satisfied: urllib3<1.27,>=1.21.1 in /usr/local/lib/python3.9/dist-packages (from requests==2.28.2->line-bot-sdk) (1.26.15)\n",
            "Installing collected packages: multidict, frozenlist, charset-normalizer, async-timeout, yarl, requests, aiosignal, aiohttp, line-bot-sdk\n",
            "  Attempting uninstall: requests\n",
            "    Found existing installation: requests 2.25.1\n",
            "    Uninstalling requests-2.25.1:\n",
            "      Successfully uninstalled requests-2.25.1\n",
            "Successfully installed aiohttp-3.8.4 aiosignal-1.3.1 async-timeout-4.0.2 charset-normalizer-3.1.0 frozenlist-1.3.3 line-bot-sdk-2.4.2 multidict-6.0.4 requests-2.28.2 yarl-1.8.2\n"
          ]
        }
      ]
    },
    {
      "cell_type": "code",
      "execution_count": null,
      "metadata": {
        "id": "XYW_1pXQfz9a"
      },
      "outputs": [],
      "source": [
        "'''\n",
        "\n",
        "用戶菜單功能介紹\n",
        "\n",
        "    用戶能透過點擊菜單，進行我方希冀之業務功能。\n",
        "    \n",
        "流程\n",
        "    準備菜單的圖面設定檔\n",
        "    讀取安全設定檔上的參數\n",
        "    將菜單設定檔傳給Line\n",
        "    對Line上傳菜單照片\n",
        "    檢視現有的菜單\n",
        "    將菜單與用戶做綁定\n",
        "    將菜單與用戶解除綁定\n",
        "    刪除菜單\n",
        "\n",
        "'''"
      ]
    },
    {
      "cell_type": "code",
      "execution_count": 5,
      "metadata": {
        "id": "K7e297Fffz9c"
      },
      "outputs": [],
      "source": [
        "'''\n",
        "菜單設定檔\n",
        "\n",
        "    設定圖面大小、按鍵名與功能\n",
        "    \n",
        "'''\n",
        "\n",
        "menuRawData=\"\"\"\n",
        "{\n",
        "  \"size\": {\n",
        "    \"width\": 2500,\n",
        "    \"height\": 1686\n",
        "  },\n",
        "  \"selected\": true,\n",
        "  \"name\": \"區塊鏈自定義菜單\",\n",
        "  \"chatBarText\": \"查看更多資訊\",\n",
        "  \"areas\": [\n",
        "    {\n",
        "      \"bounds\": {\n",
        "        \"x\": 5,\n",
        "        \"y\": 0,\n",
        "        \"width\": 824,\n",
        "        \"height\": 850\n",
        "      },\n",
        "      \"action\": {\n",
        "        \"type\": \"message\",\n",
        "        \"text\": \"[::text:]傳統交易\"\n",
        "      }\n",
        "    },\n",
        "    {\n",
        "      \"bounds\": {\n",
        "        \"x\": 0,\n",
        "        \"y\": 850,\n",
        "        \"width\": 825,\n",
        "        \"height\": 818\n",
        "      },\n",
        "      \"action\": {\n",
        "        \"type\": \"message\",\n",
        "        \"text\": \"[::text:]第三方公證人\"\n",
        "      }\n",
        "    },\n",
        "    {\n",
        "      \"bounds\": {\n",
        "        \"x\": 829,\n",
        "        \"y\": 5,\n",
        "        \"width\": 871,\n",
        "        \"height\": 849\n",
        "      },\n",
        "      \"action\": {\n",
        "        \"type\": \"message\",\n",
        "        \"text\": \"[::text:]多位公證人\"\n",
        "      }\n",
        "    },\n",
        "    {\n",
        "      \"bounds\": {\n",
        "        \"x\": 825,\n",
        "        \"y\": 854,\n",
        "        \"width\": 875,\n",
        "        \"height\": 814\n",
        "      },\n",
        "      \"action\": {\n",
        "        \"type\": \"message\",\n",
        "        \"text\": \"[::text:]多組織多位公證人\"\n",
        "      }\n",
        "    },\n",
        "    {\n",
        "      \"bounds\": {\n",
        "        \"x\": 1700,\n",
        "        \"y\": 0,\n",
        "        \"width\": 800,\n",
        "        \"height\": 858\n",
        "      },\n",
        "      \"action\": {\n",
        "        \"type\": \"message\",\n",
        "        \"text\": \"[::text:]教學訊息\"\n",
        "      }\n",
        "    },\n",
        "    {\n",
        "      \"bounds\": {\n",
        "        \"x\": 1700,\n",
        "        \"y\": 858,\n",
        "        \"width\": 800,\n",
        "        \"height\": 810\n",
        "      },\n",
        "      \"action\": {\n",
        "        \"type\": \"message\",\n",
        "        \"text\": \"[::text:]more\"\n",
        "      }\n",
        "    }\n",
        "  ]\n",
        "}\n",
        "\"\"\""
      ]
    },
    {
      "cell_type": "code",
      "execution_count": 6,
      "metadata": {
        "id": "pEB10xaPfz9d"
      },
      "outputs": [],
      "source": [
        "\n",
        "'''\n",
        "\n",
        "用channel_access_token創建line_bot_api，預備用來跟Line進行溝通\n",
        "\n",
        "'''\n",
        "\n",
        "from linebot import (\n",
        "    LineBotApi, WebhookHandler\n",
        ")\n",
        "# 圖文選單 把用戶跟圖文選單綁定再一起 解除綁定 瀏覽目前有多少張圖文選單\n",
        "line_bot_api = LineBotApi(\"vtaRo4pkLqIZjk50gBJ53fFtMpg+8unl4TvLKbyvENmbWkzdriMNIeVm87ZWRBdTeDL7YM4hGte+BrNMmYscJ1WNPvCQbheXUbVevrlKB3zP3CaeRjbPQRPHMsqW+037bLOogqjOrh5ssRj53kqQMQdB04t89/1O/w1cDnyilFU=\")\n"
      ]
    },
    {
      "cell_type": "code",
      "execution_count": 13,
      "metadata": {
        "id": "bkbrKYl7fz9e",
        "outputId": "06179d19-a820-42e4-e304-fd0a575bfa55",
        "colab": {
          "base_uri": "https://localhost:8080/"
        }
      },
      "outputs": [
        {
          "output_type": "stream",
          "name": "stdout",
          "text": [
            "richmenu-cc7757e2a7661cd62b203373a411e89f\n"
          ]
        }
      ],
      "source": [
        "'''\n",
        "\n",
        "載入前面的圖文選單設定，\n",
        "\n",
        "並要求line_bot_api將圖文選單上傳至Line\n",
        "    \n",
        "\n",
        "'''\n",
        "\n",
        "from linebot.models import RichMenu\n",
        "import requests\n",
        "import json\n",
        "# 讀取圖文選單設定\n",
        "menuJson=json.loads(menuRawData)\n",
        "# 用line_bot_spi的 create_rich_menu方法 創造圖文選單id\n",
        "# rich menu : RichMenu\n",
        "# new from_json_dict 可以從json裡面生成richMenu物件\n",
        "lineRichMenuId = line_bot_api.create_rich_menu(rich_menu=RichMenu.new_from_json_dict(menuJson))\n",
        "print(lineRichMenuId)"
      ]
    },
    {
      "cell_type": "code",
      "execution_count": 14,
      "metadata": {
        "id": "uURvUA1cfz9e",
        "outputId": "20b560c8-30fa-4399-b6e3-fb995851e2e9",
        "colab": {
          "base_uri": "https://localhost:8080/"
        }
      },
      "outputs": [
        {
          "output_type": "stream",
          "name": "stdout",
          "text": [
            "None\n"
          ]
        }
      ],
      "source": [
        "'''\n",
        "\n",
        "將先前準備的菜單照片，以Post消息寄發給Line\n",
        "\n",
        "    載入照片\n",
        "    要求line_bot_api，將圖片傳到先前的圖文選單id\n",
        "圖文選單id要好好保存\n",
        "richmenu-d3ab9cf94b935b60c00feaafe5aa6db7\n",
        "'''\n",
        "\n",
        "# 開啟圖檔\n",
        "uploadImageFile=open(\"blockchain_demo.jpg\",'rb')\n",
        "# 讓line_bot_api上傳圖片 並把那生成的id跟圖文選單的圖片綁再一起\n",
        "setImageResponse = line_bot_api.set_rich_menu_image(lineRichMenuId,'image/jpeg',uploadImageFile)\n",
        "\n",
        "print(setImageResponse)"
      ]
    },
    {
      "cell_type": "code",
      "execution_count": 22,
      "metadata": {
        "id": "4tQFhZDdfz9e",
        "outputId": "623cf10b-8cd2-4d87-b779-057acd015124",
        "colab": {
          "base_uri": "https://localhost:8080/"
        }
      },
      "outputs": [
        {
          "output_type": "stream",
          "name": "stdout",
          "text": [
            "None\n"
          ]
        }
      ],
      "source": [
        "'''\n",
        "\n",
        "將選單綁定到特定用戶身上\n",
        "    取出上面得到的菜單Id及用戶id\n",
        "    要求line_bot_api告知Line，將用戶與圖文選單做綁定\n",
        "\n",
        "'''\n",
        "\n",
        "# https://api.line.me/v2/bot/user/{userId}/richmenu/{richMenuId}\n",
        "\n",
        "# 讓line_bot_api告知line把圖文選單給指定的user ID\n",
        "linkResult=line_bot_api.link_rich_menu_to_user(\"Ua19163cfb927dce013b280948e91caf0\", lineRichMenuId)\n",
        "\n",
        "print(linkResult)"
      ]
    },
    {
      "cell_type": "code",
      "source": [
        "from google.colab import drive\n",
        "drive.mount('/content/drive')"
      ],
      "metadata": {
        "id": "vnpQv05-kdGW",
        "outputId": "6189ca1e-4dbc-409e-eff3-a3ae0b4b4c53",
        "colab": {
          "base_uri": "https://localhost:8080/"
        }
      },
      "execution_count": 16,
      "outputs": [
        {
          "output_type": "stream",
          "name": "stdout",
          "text": [
            "Mounted at /content/drive\n"
          ]
        }
      ]
    },
    {
      "cell_type": "code",
      "execution_count": 23,
      "metadata": {
        "id": "DwfD_Xsxfz9f",
        "outputId": "e7946851-64af-4539-a333-b10814f1a55b",
        "colab": {
          "base_uri": "https://localhost:8080/"
        }
      },
      "outputs": [
        {
          "output_type": "stream",
          "name": "stdout",
          "text": [
            "richmenu-cc7757e2a7661cd62b203373a411e89f\n"
          ]
        }
      ],
      "source": [
        "'''\n",
        "\n",
        "檢視用戶目前所綁定的菜單\n",
        "    取出用戶id，並告知line_bot_api，\n",
        "    line_bot_api傳回用戶所綁定的菜單\n",
        "    印出\n",
        "\n",
        "'''\n",
        "\n",
        "#  https://api.line.me/v2/bot/user/{userId}/richmenu\n",
        "\n",
        "\n",
        "rich_menu_id = line_bot_api.get_rich_menu_id_of_user(\"Ua19163cfb927dce013b280948e91caf0\")\n",
        "print(rich_menu_id)"
      ]
    },
    {
      "cell_type": "code",
      "execution_count": 24,
      "metadata": {
        "id": "6CH-StcKfz9f",
        "outputId": "f813e1f7-c195-4185-e923-970840df2e62",
        "colab": {
          "base_uri": "https://localhost:8080/"
        }
      },
      "outputs": [
        {
          "output_type": "stream",
          "name": "stdout",
          "text": [
            "None\n"
          ]
        }
      ],
      "source": [
        "'''\n",
        "\n",
        "解除選單與特定用戶的綁定\n",
        "    取出用戶id，並告知line_bot_api，\n",
        "    line_bot_api解除用戶所綁定的菜單\n",
        "'''\n",
        "\n",
        "lineUnregisterUserMenuResponse=line_bot_api.unlink_rich_menu_from_user(\"Ua19163cfb927dce013b280948e91caf0\")\n",
        "print(lineUnregisterUserMenuResponse)"
      ]
    },
    {
      "cell_type": "code",
      "execution_count": 20,
      "metadata": {
        "id": "D8QwklOzfz9f",
        "outputId": "8267cef1-4600-4f59-b551-437ffdb1187b",
        "colab": {
          "base_uri": "https://localhost:8080/"
        }
      },
      "outputs": [
        {
          "output_type": "stream",
          "name": "stdout",
          "text": [
            "richmenu-d3ab9cf94b935b60c00feaafe5aa6db7\n",
            "richmenu-cc7757e2a7661cd62b203373a411e89f\n"
          ]
        }
      ],
      "source": [
        "'''\n",
        "\n",
        "檢視帳號內，有哪些選單\n",
        "    要求line_bot_api，向line查詢我方的圖文選單列表\n",
        "    打印\n",
        "\n",
        "'''\n",
        "\n",
        "rich_menu_list = line_bot_api.get_rich_menu_list()\n",
        "for rich_menu in rich_menu_list:\n",
        "    print(rich_menu.rich_menu_id)"
      ]
    }
  ],
  "metadata": {
    "kernelspec": {
      "display_name": "Python 3",
      "language": "python",
      "name": "python3"
    },
    "language_info": {
      "codemirror_mode": {
        "name": "ipython",
        "version": 3
      },
      "file_extension": ".py",
      "mimetype": "text/x-python",
      "name": "python",
      "nbconvert_exporter": "python",
      "pygments_lexer": "ipython3",
      "version": "3.8.6"
    },
    "colab": {
      "provenance": []
    }
  },
  "nbformat": 4,
  "nbformat_minor": 0
}
