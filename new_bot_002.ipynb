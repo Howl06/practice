{
  "nbformat": 4,
  "nbformat_minor": 0,
  "metadata": {
    "colab": {
      "provenance": [],
      "authorship_tag": "ABX9TyMOoLk25/MKyQRFFaJt3O9i",
      "include_colab_link": true
    },
    "kernelspec": {
      "name": "python3",
      "display_name": "Python 3"
    },
    "language_info": {
      "name": "python"
    }
  },
  "cells": [
    {
      "cell_type": "markdown",
      "metadata": {
        "id": "view-in-github",
        "colab_type": "text"
      },
      "source": [
        "<a href=\"https://colab.research.google.com/github/Howl06/practice/blob/main/new_bot_002.ipynb\" target=\"_parent\"><img src=\"https://colab.research.google.com/assets/colab-badge.svg\" alt=\"Open In Colab\"/></a>"
      ]
    },
    {
      "cell_type": "code",
      "execution_count": 1,
      "metadata": {
        "colab": {
          "base_uri": "https://localhost:8080/"
        },
        "id": "_BYsIjXjOY4S",
        "outputId": "2c9e679c-522f-48dd-834c-626ab6a86bad"
      },
      "outputs": [
        {
          "output_type": "stream",
          "name": "stdout",
          "text": [
            "Mounted at /content/drive\n"
          ]
        }
      ],
      "source": [
        "from google.colab import drive\n",
        "drive.mount('/content/drive')"
      ]
    },
    {
      "cell_type": "code",
      "source": [
        "\n",
        "# 安裝套件\n",
        "!pip install line-bot-sdk flask flask-ngrok"
      ],
      "metadata": {
        "colab": {
          "base_uri": "https://localhost:8080/"
        },
        "id": "08HRufz6R7jy",
        "outputId": "18e25412-5d72-42b7-d10a-16c839723bfd"
      },
      "execution_count": 2,
      "outputs": [
        {
          "output_type": "stream",
          "name": "stdout",
          "text": [
            "Looking in indexes: https://pypi.org/simple, https://us-python.pkg.dev/colab-wheels/public/simple/\n",
            "Collecting line-bot-sdk\n",
            "  Downloading line_bot_sdk-2.4.2-py2.py3-none-any.whl (90 kB)\n",
            "\u001b[2K     \u001b[90m━━━━━━━━━━━━━━━━━━━━━━━━━━━━━━━━━━━━━━━━\u001b[0m \u001b[32m90.1/90.1 KB\u001b[0m \u001b[31m5.8 MB/s\u001b[0m eta \u001b[36m0:00:00\u001b[0m\n",
            "\u001b[?25hRequirement already satisfied: flask in /usr/local/lib/python3.8/dist-packages (1.1.4)\n",
            "Collecting flask-ngrok\n",
            "  Downloading flask_ngrok-0.0.25-py3-none-any.whl (3.1 kB)\n",
            "Requirement already satisfied: future in /usr/local/lib/python3.8/dist-packages (from line-bot-sdk) (0.16.0)\n",
            "Collecting requests==2.28.2\n",
            "  Downloading requests-2.28.2-py3-none-any.whl (62 kB)\n",
            "\u001b[2K     \u001b[90m━━━━━━━━━━━━━━━━━━━━━━━━━━━━━━━━━━━━━━━━\u001b[0m \u001b[32m62.8/62.8 KB\u001b[0m \u001b[31m9.3 MB/s\u001b[0m eta \u001b[36m0:00:00\u001b[0m\n",
            "\u001b[?25hRequirement already satisfied: aiohttp==3.8.4 in /usr/local/lib/python3.8/dist-packages (from line-bot-sdk) (3.8.4)\n",
            "Requirement already satisfied: multidict<7.0,>=4.5 in /usr/local/lib/python3.8/dist-packages (from aiohttp==3.8.4->line-bot-sdk) (6.0.4)\n",
            "Requirement already satisfied: yarl<2.0,>=1.0 in /usr/local/lib/python3.8/dist-packages (from aiohttp==3.8.4->line-bot-sdk) (1.8.2)\n",
            "Requirement already satisfied: async-timeout<5.0,>=4.0.0a3 in /usr/local/lib/python3.8/dist-packages (from aiohttp==3.8.4->line-bot-sdk) (4.0.2)\n",
            "Requirement already satisfied: charset-normalizer<4.0,>=2.0 in /usr/local/lib/python3.8/dist-packages (from aiohttp==3.8.4->line-bot-sdk) (3.0.1)\n",
            "Requirement already satisfied: attrs>=17.3.0 in /usr/local/lib/python3.8/dist-packages (from aiohttp==3.8.4->line-bot-sdk) (22.2.0)\n",
            "Requirement already satisfied: frozenlist>=1.1.1 in /usr/local/lib/python3.8/dist-packages (from aiohttp==3.8.4->line-bot-sdk) (1.3.3)\n",
            "Requirement already satisfied: aiosignal>=1.1.2 in /usr/local/lib/python3.8/dist-packages (from aiohttp==3.8.4->line-bot-sdk) (1.3.1)\n",
            "Requirement already satisfied: urllib3<1.27,>=1.21.1 in /usr/local/lib/python3.8/dist-packages (from requests==2.28.2->line-bot-sdk) (1.24.3)\n",
            "Requirement already satisfied: certifi>=2017.4.17 in /usr/local/lib/python3.8/dist-packages (from requests==2.28.2->line-bot-sdk) (2022.12.7)\n",
            "Requirement already satisfied: idna<4,>=2.5 in /usr/local/lib/python3.8/dist-packages (from requests==2.28.2->line-bot-sdk) (2.10)\n",
            "Requirement already satisfied: click<8.0,>=5.1 in /usr/local/lib/python3.8/dist-packages (from flask) (7.1.2)\n",
            "Requirement already satisfied: Jinja2<3.0,>=2.10.1 in /usr/local/lib/python3.8/dist-packages (from flask) (2.11.3)\n",
            "Requirement already satisfied: itsdangerous<2.0,>=0.24 in /usr/local/lib/python3.8/dist-packages (from flask) (1.1.0)\n",
            "Requirement already satisfied: Werkzeug<2.0,>=0.15 in /usr/local/lib/python3.8/dist-packages (from flask) (1.0.1)\n",
            "Requirement already satisfied: MarkupSafe>=0.23 in /usr/local/lib/python3.8/dist-packages (from Jinja2<3.0,>=2.10.1->flask) (2.0.1)\n",
            "Installing collected packages: requests, line-bot-sdk, flask-ngrok\n",
            "  Attempting uninstall: requests\n",
            "    Found existing installation: requests 2.25.1\n",
            "    Uninstalling requests-2.25.1:\n",
            "      Successfully uninstalled requests-2.25.1\n",
            "Successfully installed flask-ngrok-0.0.25 line-bot-sdk-2.4.2 requests-2.28.2\n"
          ]
        }
      ]
    },
    {
      "cell_type": "code",
      "source": [
        "# web server\n",
        "from flask import Flask, request, abort, jsonify\n",
        "import json\n",
        "from flask_ngrok import run_with_ngrok\n",
        "from linebot import(\n",
        "    LineBotApi,WebhookHandler\n",
        ")\n",
        "# 引用無效簽章錯誤\n",
        "from linebot.exceptions import(\n",
        "    InvalidSignatureError\n",
        ")"
      ],
      "metadata": {
        "id": "FuC3wt-iR7Yt"
      },
      "execution_count": 3,
      "outputs": []
    },
    {
      "cell_type": "code",
      "source": [
        "# 建置handler 與 line_bot_api\n",
        "app = Flask(__name__,static_url_path = \"/material\", static_folder = \"./material/\")\n",
        "run_with_ngrok(app)\n",
        "#生成實體物件\n",
        "line_bot_api = LineBotApi(\"vtaRo4pkLqIZjk50gBJ53fFtMpg+8unl4TvLKbyvENmbWkzdriMNIeVm87ZWRBdTeDL7YM4hGte+BrNMmYscJ1WNPvCQbheXUbVevrlKB3zP3CaeRjbPQRPHMsqW+037bLOogqjOrh5ssRj53kqQMQdB04t89/1O/w1cDnyilFU=\")\n",
        "handler = WebhookHandler(\"de385af73d2121e65ca6fc0490991b02\")"
      ],
      "metadata": {
        "id": "znbWPK4dTOS1"
      },
      "execution_count": 4,
      "outputs": []
    },
    {
      "cell_type": "code",
      "source": [
        "\"\"\"\n",
        "建置主程序API入口 接收line傳來消息\n",
        "並取出消息內容\n",
        "將消息內容存在google drive的檔案內\n",
        "並請handler 進行消息驗證與轉發\n",
        "\"\"\"\n",
        "@app.route(\"/\",methods=[\"POST\"])\n",
        "def callback():\n",
        "    # get X-Line-Signature header value\n",
        "    signature = request.headers[\"X-Line-Signature\"]\n",
        "\n",
        "    # get request body as text\n",
        "    body = request.get_data(as_text=True)\n",
        "    print(body)\n",
        "\n",
        "    #紀錄用戶 log\n",
        "    with open(\"/content/drive/MyDrive/ai-event.log\", \"a\") as f:\n",
        "        f.write(body)\n",
        "\n",
        "    # handle webhook body\n",
        "    try:\n",
        "        handler.handle(body, signature)\n",
        "    except InvalidSignatureError:\n",
        "        abort(400)\n",
        "    return \"OK\""
      ],
      "metadata": {
        "id": "nsxfU7-fT8eF"
      },
      "execution_count": 5,
      "outputs": []
    },
    {
      "cell_type": "code",
      "source": [
        "\"\"\"\n",
        "撰寫用戶關注時,我們要處理的商業邏輯\n",
        "1.取得用戶個資,並存回伺服器\n",
        "2.回應用戶,歡迎用的文字消息\n",
        "\"\"\"\n",
        "\n",
        "\n",
        "# 載入Follow事件\n",
        "from linebot.models.events import (\n",
        "    FollowEvent\n",
        ")\n",
        "\n",
        "from linebot.models import(\n",
        "    TextSendMessage, ImageSendMessage\n",
        ")\n",
        "\n",
        "# 告知handler，如果收到FollowEvent，則做下面的方法處理\n",
        "@handler.add(FollowEvent)\n",
        "def reply_text_and_get_user_profile(event):\n",
        "    \n",
        "    # 取出消息內User的資料\n",
        "    user_profile = line_bot_api.get_profile(event.source.user_id)\n",
        "        \n",
        "     # 將用戶資訊存在檔案內\n",
        "    with open(\"/content/drive/MyDrive/users.txt\", \"a\") as myfile:\n",
        "        myfile.write(json.dumps(vars(user_profile),sort_keys=True))\n",
        "        myfile.write('\\n')\n",
        "    \n",
        "    # 回覆文字消息與圖片消息\n",
        "    line_bot_api.reply_message(\n",
        "        event.reply_token,\n",
        "        [TextSendMessage('安安，你的個資已被我紀錄了')]\n",
        "    )"
      ],
      "metadata": {
        "id": "9nVB5ccHVhwh"
      },
      "execution_count": 13,
      "outputs": []
    },
    {
      "cell_type": "code",
      "source": [
        "# 運行主程序\n",
        "app.run()"
      ],
      "metadata": {
        "colab": {
          "base_uri": "https://localhost:8080/"
        },
        "id": "D-NaOq9BXEkG",
        "outputId": "cdb83bee-5d86-4273-ed8f-4eb3ab080134"
      },
      "execution_count": 14,
      "outputs": [
        {
          "output_type": "stream",
          "name": "stdout",
          "text": [
            " * Serving Flask app \"__main__\" (lazy loading)\n",
            " * Environment: production\n",
            "\u001b[31m   WARNING: This is a development server. Do not use it in a production deployment.\u001b[0m\n",
            "\u001b[2m   Use a production WSGI server instead.\u001b[0m\n",
            " * Debug mode: off\n"
          ]
        },
        {
          "output_type": "stream",
          "name": "stderr",
          "text": [
            "INFO:werkzeug: * Running on http://127.0.0.1:5000/ (Press CTRL+C to quit)\n"
          ]
        },
        {
          "output_type": "stream",
          "name": "stdout",
          "text": [
            " * Running on http://4cdf-34-125-100-47.ngrok.io\n",
            " * Traffic stats available on http://127.0.0.1:4040\n"
          ]
        },
        {
          "output_type": "stream",
          "name": "stderr",
          "text": [
            "INFO:werkzeug:127.0.0.1 - - [16/Mar/2023 03:39:32] \"\u001b[37mPOST / HTTP/1.1\u001b[0m\" 200 -\n"
          ]
        },
        {
          "output_type": "stream",
          "name": "stdout",
          "text": [
            "{\"destination\":\"U54dcf9ab5f592860405fcec0d6979997\",\"events\":[{\"type\":\"unfollow\",\"webhookEventId\":\"01GVM80QNQ9K7C1WYWB709GR28\",\"deliveryContext\":{\"isRedelivery\":false},\"timestamp\":1678937972291,\"source\":{\"type\":\"user\",\"userId\":\"Ua19163cfb927dce013b280948e91caf0\"},\"mode\":\"active\"}]}\n",
            "{\"destination\":\"U54dcf9ab5f592860405fcec0d6979997\",\"events\":[{\"type\":\"follow\",\"webhookEventId\":\"01GVM80RTJ48G614HBEEQ5XVGX\",\"deliveryContext\":{\"isRedelivery\":false},\"timestamp\":1678937973253,\"source\":{\"type\":\"user\",\"userId\":\"Ua19163cfb927dce013b280948e91caf0\"},\"replyToken\":\"a86da190c97c44ffa7d9e838a10caa32\",\"mode\":\"active\"}]}\n"
          ]
        },
        {
          "output_type": "stream",
          "name": "stderr",
          "text": [
            "INFO:werkzeug:127.0.0.1 - - [16/Mar/2023 03:39:35] \"\u001b[37mPOST / HTTP/1.1\u001b[0m\" 200 -\n",
            "INFO:werkzeug:127.0.0.1 - - [16/Mar/2023 03:39:42] \"\u001b[37mPOST / HTTP/1.1\u001b[0m\" 200 -\n"
          ]
        },
        {
          "output_type": "stream",
          "name": "stdout",
          "text": [
            "{\"destination\":\"U54dcf9ab5f592860405fcec0d6979997\",\"events\":[{\"type\":\"message\",\"message\":{\"type\":\"text\",\"id\":\"17810338149536\",\"text\":\"終於\\n\"},\"webhookEventId\":\"01GVM810YCK40152WHVVRT0N5R\",\"deliveryContext\":{\"isRedelivery\":false},\"timestamp\":1678937981834,\"source\":{\"type\":\"user\",\"userId\":\"Ua19163cfb927dce013b280948e91caf0\"},\"replyToken\":\"5104c12f85f84ba2a54ab49d5bfff720\",\"mode\":\"active\"}]}\n"
          ]
        }
      ]
    }
  ]
}