{
  "nbformat": 4,
  "nbformat_minor": 0,
  "metadata": {
    "colab": {
      "provenance": [],
      "authorship_tag": "ABX9TyOpbGXzznpmbkqckBdrW4ox",
      "include_colab_link": true
    },
    "kernelspec": {
      "name": "python3",
      "display_name": "Python 3"
    },
    "language_info": {
      "name": "python"
    }
  },
  "cells": [
    {
      "cell_type": "markdown",
      "metadata": {
        "id": "view-in-github",
        "colab_type": "text"
      },
      "source": [
        "<a href=\"https://colab.research.google.com/github/Howl06/practice/blob/main/mysql.ipynb\" target=\"_parent\"><img src=\"https://colab.research.google.com/assets/colab-badge.svg\" alt=\"Open In Colab\"/></a>"
      ]
    },
    {
      "cell_type": "code",
      "execution_count": null,
      "metadata": {
        "colab": {
          "base_uri": "https://localhost:8080/"
        },
        "id": "nUe2lVE4BoeV",
        "outputId": "14560687-32b7-4e46-e738-5157676e77c8"
      },
      "outputs": [
        {
          "output_type": "stream",
          "name": "stdout",
          "text": [
            "Looking in indexes: https://pypi.org/simple, https://us-python.pkg.dev/colab-wheels/public/simple/\n",
            "Collecting pymysql\n",
            "  Downloading PyMySQL-1.0.2-py3-none-any.whl (43 kB)\n",
            "\u001b[2K     \u001b[90m━━━━━━━━━━━━━━━━━━━━━━━━━━━━━━━━━━━━━━━━\u001b[0m \u001b[32m43.8/43.8 KB\u001b[0m \u001b[31m1.5 MB/s\u001b[0m eta \u001b[36m0:00:00\u001b[0m\n",
            "\u001b[?25hInstalling collected packages: pymysql\n",
            "Successfully installed pymysql-1.0.2\n"
          ]
        }
      ],
      "source": [
        "!pip install pymysql"
      ]
    },
    {
      "cell_type": "code",
      "source": [
        "import pymysql\n",
        "import prettytable\n",
        "# host_name = input(\"請輸入主機位置：\")\n",
        "# user_name = input(\"請輸入資料庫帳號：\")\n",
        "# passwd_name = input(\"請輸入資料庫密碼：\")\n",
        "# port_name = input(\"請輸入資料庫Port：\")\n",
        "# db_name = input(\"請輸入資料庫名稱：\")\n",
        "db = pymysql.connect(host=\"0.tcp.jp.ngrok.io\", port=18881 ,user=\"root\", passwd=\"\", db='2023-03-08', charset='utf8')"
      ],
      "metadata": {
        "id": "sArPgweDIBHY"
      },
      "execution_count": null,
      "outputs": []
    },
    {
      "cell_type": "code",
      "source": [
        "def name_br_addr() -> tuple:\n",
        "    name_m = input(\"請輸入會員姓名：\") \n",
        "    birthday_m = input(\"請輸入會員生日：\") \n",
        "    address_m = input(\"請輸入會員地址：\")\n",
        "    return [name_m, birthday_m, address_m]"
      ],
      "metadata": {
        "id": "_BTxjd6rrhmS"
      },
      "execution_count": null,
      "outputs": []
    },
    {
      "cell_type": "code",
      "source": [
        "def add_member() -> None:\n",
        "    member_data = name_br_addr()\n",
        "    cursor = db.cursor()\n",
        "    sql = \"\"\"\n",
        "        INSERT INTO `member` (`name`,`birthday`,`address`)\n",
        "        VALUES (%s,%s,%s)\n",
        "        \"\"\"\n",
        "    cursor.execute(sql, tuple(member_data))\n",
        "    db.commit()"
      ],
      "metadata": {
        "id": "L4gzMipxoAK8"
      },
      "execution_count": null,
      "outputs": []
    },
    {
      "cell_type": "code",
      "source": [
        "def delete_member() -> None:\n",
        "    id_m = int(input(\"請選擇你要刪除的資料編號：\"))\n",
        "    cursor = db.cursor()\n",
        "    sql = \"\"\"\n",
        "        DELETE FROM `member` WHERE \n",
        "        `id` = %s \n",
        "        \"\"\"\n",
        "    cursor.execute(sql, (id_m))\n",
        "    db.commit()\n"
      ],
      "metadata": {
        "id": "9zJ-QRRVTRZy"
      },
      "execution_count": null,
      "outputs": []
    },
    {
      "cell_type": "code",
      "source": [
        "def show_all_member() -> None:\n",
        "    cursor = db.cursor()\n",
        "    sql = \"\"\"\n",
        "        SELECT * FROM `member` \n",
        "        \"\"\"\n",
        "    cursor.execute(sql)\n",
        "    b_table = prettytable.PrettyTable([\"編號\", \"姓名\", \"生日\", \"地址\"], encoding=\"utf-8\")\n",
        "    b_table.add_rows(cursor.fetchall())\n",
        "    print(b_table)\n"
      ],
      "metadata": {
        "id": "F-kUw5a0WidI"
      },
      "execution_count": null,
      "outputs": []
    },
    {
      "cell_type": "code",
      "source": [
        "def update_member() -> None:\n",
        "    id_m = int(input(\"請選擇你要修改的資料編號：\"))\n",
        "    member_data = name_br_addr()\n",
        "    member_data.append(id_m)\n",
        "    cursor = db.cursor()\n",
        "    sql = \"\"\"\n",
        "        UPDATE `member` SET \n",
        "        `name` = %s ,\n",
        "        `birthday` = %s ,\n",
        "        `address` = %s\n",
        "        WHERE\n",
        "        `id` = %s\n",
        "        \"\"\"\n",
        "    cursor.execute(sql, tuple(member_data))\n",
        "    db.commit()"
      ],
      "metadata": {
        "id": "zwJ1d1aOXQfL"
      },
      "execution_count": null,
      "outputs": []
    },
    {
      "cell_type": "code",
      "source": [
        "import pymysql\n",
        "import prettytable\n",
        "\n",
        "host_name = input(\"請輸入主機位置：\")\n",
        "user_name = input(\"請輸入資料庫帳號：\")\n",
        "passwd_name = input(\"請輸入資料庫密碼：\")\n",
        "port_name = int(input(\"請輸入資料庫Port：\"))\n",
        "db_name = input(\"請輸入資料庫名稱：\")\n",
        "# db = pymysql.connect(host=\"0.tcp.jp.ngrok.io\", port=18881 ,user=\"root\", passwd=\"\", db='2023-03-08', charset='utf8')\n",
        "while True:\n",
        "    db = pymysql.connect(host=host_name, port=port_name ,user=user_name, passwd=\"\", db=db_name, charset='utf8')\n",
        "    print(\"(0) 離開程式\")\n",
        "    print(\"(1) 顯示會員列表\")\n",
        "    print(\"(2) 新增會員列表\")\n",
        "    print(\"(3) 更新會員列表\")\n",
        "    print(\"(4) 刪除會員列表\")\n",
        "    order = input(\"指令:\")\n",
        "    if order == \"0\":\n",
        "        print(\"掰掰\")\n",
        "        db.close()\n",
        "        break\n",
        "    elif order == \"1\":\n",
        "        show_all_member()\n",
        "    elif order == \"2\":\n",
        "        add_member()\n",
        "    elif order == \"3\":\n",
        "        show_all_member()\n",
        "        update_member()\n",
        "    elif order == \"4\":\n",
        "        show_all_member()\n",
        "        delete_member()"
      ],
      "metadata": {
        "id": "8wyrhC0nkXnc"
      },
      "execution_count": null,
      "outputs": []
    },
    {
      "cell_type": "code",
      "source": [
        "import pymysql\n",
        "import prettytable\n",
        "\n",
        "\n",
        "def name_br_addr() -> tuple:\n",
        "    name_m = input(\"請輸入會員姓名：\")\n",
        "    birthday_m = input(\"請輸入會員生日：\")\n",
        "    address_m = input(\"請輸入會員地址：\")\n",
        "    return [name_m, birthday_m, address_m]\n",
        "\n",
        "\n",
        "def show_all_member() -> None:\n",
        "    cursor = db.cursor()\n",
        "    sql = \"\"\"\n",
        "        SELECT * FROM `member` \n",
        "        \"\"\"\n",
        "    cursor.execute(sql)\n",
        "    b_table = prettytable.PrettyTable([\"編號\", \"姓名\", \"生日\", \"地址\"],\n",
        "                                      encoding=\"utf-8\")\n",
        "    b_table.add_rows(cursor.fetchall())\n",
        "    print(b_table)\n",
        "\n",
        "\n",
        "def add_member() -> None:\n",
        "    member_data = name_br_addr()\n",
        "    cursor = db.cursor()\n",
        "    sql = \"\"\"\n",
        "        INSERT INTO `member` (`name`,`birthday`,`address`)\n",
        "        VALUES (%s,%s,%s)\n",
        "        \"\"\"\n",
        "    cursor.execute(sql, tuple(member_data))\n",
        "    db.commit()\n",
        "\n",
        "\n",
        "def update_member() -> None:\n",
        "    id_m = int(input(\"請選擇你要修改的資料編號：\"))\n",
        "    member_data = name_br_addr()\n",
        "    member_data.append(id_m)\n",
        "    cursor = db.cursor()\n",
        "    sql = \"\"\"\n",
        "        UPDATE `member` SET \n",
        "        `name` = %s ,\n",
        "        `birthday` = %s ,\n",
        "        `address` = %s\n",
        "        WHERE\n",
        "        `id` = %s\n",
        "        \"\"\"\n",
        "    cursor.execute(sql, tuple(member_data))\n",
        "    db.commit()\n",
        "\n",
        "\n",
        "def delete_member() -> None:\n",
        "    id_m = int(input(\"請選擇你要刪除的資料編號：\"))\n",
        "    cursor = db.cursor()\n",
        "    sql = \"\"\"\n",
        "        DELETE FROM `member` WHERE \n",
        "        `id` = %s \n",
        "        \"\"\"\n",
        "    cursor.execute(sql, (id_m))\n",
        "    db.commit()\n",
        "\n",
        "\n",
        "host_name = input(\"請輸入主機位置：\")\n",
        "user_name = input(\"請輸入資料庫帳號：\")\n",
        "passwd_name = input(\"請輸入資料庫密碼：\")\n",
        "port_name = int(input(\"請輸入資料庫Port：\"))\n",
        "db_name = input(\"請輸入資料庫名稱：\")\n",
        "\n",
        "while True:\n",
        "    db = pymysql.connect(host=host_name,\n",
        "                         port=port_name,\n",
        "                         user=user_name,\n",
        "                         passwd=\"\",\n",
        "                         db=db_name,\n",
        "                         charset='utf8')\n",
        "    print(\"(0) 離開程式\")\n",
        "    print(\"(1) 顯示會員列表\")\n",
        "    print(\"(2) 新增會員列表\")\n",
        "    print(\"(3) 更新會員列表\")\n",
        "    print(\"(4) 刪除會員列表\")\n",
        "    order = input(\"指令:\")\n",
        "    if order == \"0\":\n",
        "        print(\"掰掰\")\n",
        "        db.close()\n",
        "        break\n",
        "    elif order == \"1\":\n",
        "        show_all_member()\n",
        "    elif order == \"2\":\n",
        "        add_member()\n",
        "    elif order == \"3\":\n",
        "        show_all_member()\n",
        "        update_member()\n",
        "    elif order == \"4\":\n",
        "        show_all_member()\n",
        "        delete_member()"
      ],
      "metadata": {
        "colab": {
          "base_uri": "https://localhost:8080/"
        },
        "id": "grWMwxxC4UG5",
        "outputId": "b048b7da-7d7a-4b81-f939-fa230c5e83ae"
      },
      "execution_count": null,
      "outputs": [
        {
          "output_type": "stream",
          "name": "stdout",
          "text": [
            "請輸入主機位置：0.tcp.jp.ngrok.io\n",
            "請輸入資料庫帳號：root\n",
            "請輸入資料庫密碼：\n",
            "請輸入資料庫Port：18881\n",
            "請輸入資料庫名稱：2023-03-08\n",
            "(0) 離開程式\n",
            "(1) 顯示會員列表\n",
            "(2) 新增會員列表\n",
            "(3) 更新會員列表\n",
            "(4) 刪除會員列表\n",
            "指令:1\n",
            "+------+--------+------------+--------------+\n",
            "| 編號 |  姓名  |    生日    |     地址     |\n",
            "+------+--------+------------+--------------+\n",
            "|  1   | 陳文在 | 1993-11-01 | 台北市中山區 |\n",
            "|  2   | 蕭宇殷 | 1990-05-22 | 新北市板橋區 |\n",
            "|  4   | 林致世 | 1992-10-10 | 新竹縣竹東鎮 |\n",
            "|  5   | 呂來來 | 1997-03-01 | 新北市萬里區 |\n",
            "|  10  | 蔡杉智 | 1993-07-05 | 台北市大安區 |\n",
            "|  11  | 姚文武 | 1995-07-11 | 台北市北投區 |\n",
            "|  30  |  233   | 0000-00-00 |      3       |\n",
            "+------+--------+------------+--------------+\n",
            "(0) 離開程式\n",
            "(1) 顯示會員列表\n",
            "(2) 新增會員列表\n",
            "(3) 更新會員列表\n",
            "(4) 刪除會員列表\n",
            "指令:2\n",
            "請輸入會員姓名：56\n",
            "請輸入會員生日：56\n",
            "請輸入會員地址：56\n",
            "(0) 離開程式\n",
            "(1) 顯示會員列表\n",
            "(2) 新增會員列表\n",
            "(3) 更新會員列表\n",
            "(4) 刪除會員列表\n",
            "指令:1\n",
            "+------+--------+------------+--------------+\n",
            "| 編號 |  姓名  |    生日    |     地址     |\n",
            "+------+--------+------------+--------------+\n",
            "|  1   | 陳文在 | 1993-11-01 | 台北市中山區 |\n",
            "|  2   | 蕭宇殷 | 1990-05-22 | 新北市板橋區 |\n",
            "|  4   | 林致世 | 1992-10-10 | 新竹縣竹東鎮 |\n",
            "|  5   | 呂來來 | 1997-03-01 | 新北市萬里區 |\n",
            "|  10  | 蔡杉智 | 1993-07-05 | 台北市大安區 |\n",
            "|  11  | 姚文武 | 1995-07-11 | 台北市北投區 |\n",
            "|  30  |  233   | 0000-00-00 |      3       |\n",
            "|  31  |   56   | 0000-00-00 |      56      |\n",
            "+------+--------+------------+--------------+\n",
            "(0) 離開程式\n",
            "(1) 顯示會員列表\n",
            "(2) 新增會員列表\n",
            "(3) 更新會員列表\n",
            "(4) 刪除會員列表\n",
            "指令:3\n",
            "+------+--------+------------+--------------+\n",
            "| 編號 |  姓名  |    生日    |     地址     |\n",
            "+------+--------+------------+--------------+\n",
            "|  1   | 陳文在 | 1993-11-01 | 台北市中山區 |\n",
            "|  2   | 蕭宇殷 | 1990-05-22 | 新北市板橋區 |\n",
            "|  4   | 林致世 | 1992-10-10 | 新竹縣竹東鎮 |\n",
            "|  5   | 呂來來 | 1997-03-01 | 新北市萬里區 |\n",
            "|  10  | 蔡杉智 | 1993-07-05 | 台北市大安區 |\n",
            "|  11  | 姚文武 | 1995-07-11 | 台北市北投區 |\n",
            "|  30  |  233   | 0000-00-00 |      3       |\n",
            "|  31  |   56   | 0000-00-00 |      56      |\n",
            "+------+--------+------------+--------------+\n",
            "請選擇你要修改的資料編號：31\n",
            "請輸入會員姓名：566\n",
            "請輸入會員生日：5566\n",
            "請輸入會員地址：5566\n",
            "(0) 離開程式\n",
            "(1) 顯示會員列表\n",
            "(2) 新增會員列表\n",
            "(3) 更新會員列表\n",
            "(4) 刪除會員列表\n",
            "指令:1\n",
            "+------+--------+------------+--------------+\n",
            "| 編號 |  姓名  |    生日    |     地址     |\n",
            "+------+--------+------------+--------------+\n",
            "|  1   | 陳文在 | 1993-11-01 | 台北市中山區 |\n",
            "|  2   | 蕭宇殷 | 1990-05-22 | 新北市板橋區 |\n",
            "|  4   | 林致世 | 1992-10-10 | 新竹縣竹東鎮 |\n",
            "|  5   | 呂來來 | 1997-03-01 | 新北市萬里區 |\n",
            "|  10  | 蔡杉智 | 1993-07-05 | 台北市大安區 |\n",
            "|  11  | 姚文武 | 1995-07-11 | 台北市北投區 |\n",
            "|  30  |  233   | 0000-00-00 |      3       |\n",
            "|  31  |  566   | 0000-00-00 |     5566     |\n",
            "+------+--------+------------+--------------+\n",
            "(0) 離開程式\n",
            "(1) 顯示會員列表\n",
            "(2) 新增會員列表\n",
            "(3) 更新會員列表\n",
            "(4) 刪除會員列表\n",
            "指令:4\n",
            "+------+--------+------------+--------------+\n",
            "| 編號 |  姓名  |    生日    |     地址     |\n",
            "+------+--------+------------+--------------+\n",
            "|  1   | 陳文在 | 1993-11-01 | 台北市中山區 |\n",
            "|  2   | 蕭宇殷 | 1990-05-22 | 新北市板橋區 |\n",
            "|  4   | 林致世 | 1992-10-10 | 新竹縣竹東鎮 |\n",
            "|  5   | 呂來來 | 1997-03-01 | 新北市萬里區 |\n",
            "|  10  | 蔡杉智 | 1993-07-05 | 台北市大安區 |\n",
            "|  11  | 姚文武 | 1995-07-11 | 台北市北投區 |\n",
            "|  30  |  233   | 0000-00-00 |      3       |\n",
            "|  31  |  566   | 0000-00-00 |     5566     |\n",
            "+------+--------+------------+--------------+\n",
            "請選擇你要刪除的資料編號：31\n",
            "(0) 離開程式\n",
            "(1) 顯示會員列表\n",
            "(2) 新增會員列表\n",
            "(3) 更新會員列表\n",
            "(4) 刪除會員列表\n",
            "指令:0\n",
            "掰掰\n"
          ]
        }
      ]
    }
  ]
}