{
  "nbformat": 4,
  "nbformat_minor": 0,
  "metadata": {
    "colab": {
      "provenance": [],
      "mount_file_id": "1iaqtKxj2jZMsX8HsbdSn_3Gem_R-U05b",
      "authorship_tag": "ABX9TyMuPMepedtEoEA1tWqdUNn5",
      "include_colab_link": true
    },
    "kernelspec": {
      "name": "python3",
      "display_name": "Python 3"
    },
    "language_info": {
      "name": "python"
    }
  },
  "cells": [
    {
      "cell_type": "markdown",
      "metadata": {
        "id": "view-in-github",
        "colab_type": "text"
      },
      "source": [
        "<a href=\"https://colab.research.google.com/github/Howl06/practice/blob/main/crawl.ipynb\" target=\"_parent\"><img src=\"https://colab.research.google.com/assets/colab-badge.svg\" alt=\"Open In Colab\"/></a>"
      ]
    },
    {
      "cell_type": "code",
      "source": [
        "import requests\n",
        "import codecs\n",
        "import io"
      ],
      "metadata": {
        "id": "Ukr3mieDKsv4"
      },
      "execution_count": null,
      "outputs": []
    },
    {
      "cell_type": "code",
      "execution_count": null,
      "metadata": {
        "id": "CN1jUll9EMfg"
      },
      "outputs": [],
      "source": [
        "url = \"https://encrypted-tbn0.gstatic.com/images?q=tbn:ANd9GcS-Sgyam3IFUZyhiQPprl3GptGUDL2NXvw3tg&usqp=CAU\"\n",
        "req = requests.get(url)"
      ]
    },
    {
      "cell_type": "code",
      "source": [
        "with open(\"/content/drive/MyDrive/recommend_icon17.png\",\"wb\") as f:\n",
        "    f.write(req.content)"
      ],
      "metadata": {
        "id": "ynr9hgCkK8RU"
      },
      "execution_count": null,
      "outputs": []
    },
    {
      "cell_type": "code",
      "source": [
        "url = \"http://teaching.bo-yuan.net/\"\n",
        "req = requests.post(\n",
        "    url,\n",
        "    headers={\n",
        "        \"User-Agent\": \"Mozilla/5.0 (Windows NT 10.0; Win64; x64) AppleWebKit/537.36 (KHTML, like Gecko) Chrome/110.0.0.0 Safari/537.36\",\n",
        "        \"Referer\": \"http://teaching.bo-yuan.net/\",\n",
        "        \"Cookie\": \"PHPSESSID=22o3hluoa9dol0csh1echl2lv3\"\n",
        "        },\n",
        "    params={\n",
        "        \"ex\":\"login\"\n",
        "    },\n",
        "    data={\n",
        "        \"ex[class]\": \"6400867314b39\",\n",
        "        \"ex[username]\": \"10王晨宇\",\n",
        "        \"ex[password]\": \"7bBStekRu5BgX95\"\n",
        "    }\n",
        "                   )\n",
        "req"
      ],
      "metadata": {
        "colab": {
          "base_uri": "https://localhost:8080/"
        },
        "id": "mW-r2qlCAJv0",
        "outputId": "602da78c-6e4d-4975-dec0-0db445fabb66"
      },
      "execution_count": null,
      "outputs": [
        {
          "output_type": "execute_result",
          "data": {
            "text/plain": [
              "<Response [200]>"
            ]
          },
          "metadata": {},
          "execution_count": 83
        }
      ]
    },
    {
      "cell_type": "code",
      "source": [
        "import requests\n",
        "\n",
        "url = \"https://xapi.pcone.com.tw/search/commodities\"\n",
        "keyword = input(\"搜尋項目: \")\n",
        "header_s = {\"user-agent\": \"Mozilla/5.0 (Windows NT 10.0; Win64; x64) AppleWebKit/537.36 (KHTML, like Gecko) Chrome/110.0.0.0 Safari/537.36\"}\n",
        "param_s = {\n",
        "    \"site\": \"pcone\",\n",
        "    \"direction\": \"asc\",\n",
        "    \"page\": \"2\",\n",
        "    \"q\": f\"{keyword}\",\n",
        "    \"sorting\": \"default\",\n",
        "    \"device\": \"desktop\",\n",
        "    \"aid\": \"null\"\n",
        "    }\n",
        "\n",
        "for page in range(5):\n",
        "    param_s[\"page\"] = f\"{page}\"\n",
        "    print(f\"第{page}頁\")\n",
        "    req = requests.get(url, headers=header_s, params=param_s)\n",
        "    d = req.json()\n",
        "    for i in range(len(d[\"data\"][\"commodities\"])):\n",
        "        print(d[\"data\"][\"commodities\"][i][\"name\"], d[\"data\"][\"commodities\"][i][\"price\"])"
      ],
      "metadata": {
        "id": "6_Ns54uYf3ou"
      },
      "execution_count": null,
      "outputs": []
    },
    {
      "cell_type": "code",
      "source": [
        "import requests\n",
        "from bs4 import BeautifulSoup\n",
        "import prettytable\n",
        "\n",
        "url = \"https://www.cwb.gov.tw/V8/C/W/County_TempTop.html\"\n",
        "header_info = {\n",
        "}\n",
        "b_table = prettytable.PrettyTable([\"地區\", \"氣溫\"])\n",
        "\n",
        "req = requests.get(url, headers=header_info)\n",
        "url_target = \"https://www.cwb.gov.tw/V8/C/W/TemperatureTop/County_TMax_T.html\"\n",
        "req_target = requests.get(url_target, params={\"id\": req.headers[\"date\"]}).text\n",
        "loc_temp = BeautifulSoup(req_target, \"html5lib\")\n",
        "temp_tag = loc_temp.find_all(\"span\", class_=\"tem-C is-active\")\n",
        "for temp in temp_tag:\n",
        "    text_before = list(temp.previous_siblings)\n",
        "    loc = text_before[0][-3:]\n",
        "    b_table.add_row([loc, temp.text])\n",
        "print(b_table)"
      ],
      "metadata": {
        "id": "4OtYq6qym6ag",
        "colab": {
          "base_uri": "https://localhost:8080/"
        },
        "outputId": "99599406-8545-4a09-c582-d13ff71b5ca2"
      },
      "execution_count": null,
      "outputs": [
        {
          "output_type": "stream",
          "name": "stdout",
          "text": [
            "+--------+------+\n",
            "|  地區  | 氣溫 |\n",
            "+--------+------+\n",
            "| 基隆市 | 24.9 |\n",
            "| 臺北市 | 24.7 |\n",
            "| 新北市 | 25.9 |\n",
            "| 桃園市 | 24.7 |\n",
            "| 新竹市 | 23.5 |\n",
            "| 新竹縣 | 26.4 |\n",
            "| 苗栗縣 | 24.3 |\n",
            "| 臺中市 | 25.3 |\n",
            "| 彰化縣 | 26.6 |\n",
            "| 南投縣 | 26.2 |\n",
            "| 雲林縣 | 26.9 |\n",
            "| 嘉義市 | 26.9 |\n",
            "| 嘉義縣 | 27.4 |\n",
            "| 臺南市 | 28.8 |\n",
            "| 高雄市 | 29.8 |\n",
            "| 屏東縣 | 28.2 |\n",
            "| 宜蘭縣 | 23.8 |\n",
            "| 花蓮縣 | 26.5 |\n",
            "| 臺東縣 | 26.3 |\n",
            "| 澎湖縣 | 21.8 |\n",
            "| 金門縣 | 25.3 |\n",
            "| 連江縣 | 19.4 |\n",
            "+--------+------+\n"
          ]
        }
      ]
    },
    {
      "cell_type": "code",
      "source": [
        "import requests\n",
        "from bs4 import BeautifulSoup\n",
        "import codecs\n",
        "\n",
        "url = \"https://www.mol.gov.tw/1607/1632/1633/lpsimplelist\"\n",
        "param_s = {\n",
        "    \"Page\": \"1\",\n",
        "    \"PageSize\": \"10\"\n",
        "    }\n",
        "for page in range(1,6):\n",
        "    param_s[\"Page\"] = f\"{page}\"\n",
        "    print(f\"第{page}頁\")\n",
        "    req = requests.get(url, params=param_s)\n",
        "    bs_1 = BeautifulSoup(req.text, \"html.parser\")\n",
        "    bs_2 = bs_1.find_all(\"div\", class_=\"item_list2\")\n",
        "    for tag in bs_2:\n",
        "        title_ch = tag.find(\"a\").text\n",
        "        article_address = \"https://www.mol.gov.tw\" + tag.find(\"a\").attrs[\"href\"]\n",
        "        ar_req = requests.get(article_address)\n",
        "        ar_bs = BeautifulSoup(ar_req.text, \"html.parser\").find_all(\"p\", {\"style\": \"font-weight: 400;\"})\n",
        "        with codecs.open(f\"/content/drive/MyDrive/勞動部新聞/{title_ch}.txt\", \"w\", encoding=\"utf-8\") as f:\n",
        "            f.write(title_ch + \"\\n\")\n",
        "            f.write(article_address + \"\\n\")\n",
        "            bs_3 = tag.find_all(\"span\")\n",
        "            f.write(\"\\n\")\n",
        "            for data_tag in bs_3:\n",
        "                f.write(data_tag.text + \" \")\n",
        "            f.write(\"\\n\"+\"\\n\")\n",
        "            for article in ar_bs:\n",
        "                f.write(article.text + \"\\n\")\n",
        "            "
      ],
      "metadata": {
        "colab": {
          "base_uri": "https://localhost:8080/"
        },
        "id": "9PfViGRZdE6m",
        "outputId": "7ad6e5a8-b523-412c-82da-581e9211eb7b"
      },
      "execution_count": null,
      "outputs": [
        {
          "output_type": "stream",
          "name": "stdout",
          "text": [
            "第1頁\n",
            "第2頁\n",
            "第3頁\n",
            "第4頁\n",
            "第5頁\n"
          ]
        }
      ]
    },
    {
      "cell_type": "code",
      "source": [
        "import requests\n",
        "from bs4 import BeautifulSoup\n",
        "import codecs \n",
        "\n",
        "url = \"https://udn.com/api/more\"\n",
        "param_s = {\n",
        "    \"page\": \"2\",\n",
        "    \"id\": \"\",\n",
        "    \"channelId\": \"1\",\n",
        "    \"cate_id\": \"0\",\n",
        "    \"type\": \"breaknews\" ,\n",
        "    \"totalRecNo\": \"26307n\"}\n",
        "for page in range(5):\n",
        "    param_s[\"page\"] = f\"{page}\"\n",
        "    print(f\"第{page}頁\")\n",
        "    req = requests.get(url, params=param_s)\n",
        "    d = req.json()\n",
        "    for i in range(len(d[\"lists\"])):\n",
        "        article_url = \"https://udn.com\" + d[\"lists\"][i][\"titleLink\"]\n",
        "        req_art = requests.get(article_url)\n",
        "        if req_art.status_code == 200:\n",
        "            title_udn = d[\"lists\"][i][\"title\"]\n",
        "            bs_section = BeautifulSoup(req_art.text).find(\"section\", class_=\"article-content__editor \")\n",
        "            try:\n",
        "                article_bs_list = bs_section.find_all(\"p\")\n",
        "                with codecs.open(f\"/content/drive/MyDrive/聯合新聞/{title_udn}.txt\", \"w\", \"utf-8\") as f:\n",
        "                    f.write(d[\"lists\"][i][\"time\"][\"date\"] + title_udn + \"/n\")\n",
        "                    for article in article_bs_list:\n",
        "                        f.write(article.text + \"/n\")\n",
        "                print(d[\"lists\"][i][\"time\"][\"date\"], title_udn, \"OK\")\n",
        "            except AttributeError:\n",
        "                print(d[\"lists\"][i][\"time\"][\"date\"], title_udn, \"False\")\n",
        "                pass\n",
        "\n",
        "    \n"
      ],
      "metadata": {
        "colab": {
          "base_uri": "https://localhost:8080/"
        },
        "id": "2UepEX-1-DuA",
        "outputId": "8c77b092-5ada-49ac-896c-ffc1d040e8f5"
      },
      "execution_count": null,
      "outputs": [
        {
          "output_type": "stream",
          "name": "stdout",
          "text": [
            "第0頁\n",
            "2023-03-06 16:47 開徵塞車稅、禁私家車救內湖交通？ 交通局：不會貿然做 OK\n",
            "2023-03-06 16:45 房市走勢溫和收斂？ 林右昌：房地不應該再繼續漲價 OK\n",
            "2023-03-06 16:44 記得儲水！桃園市桃園區八德區明天停水 影響9200戶 OK\n",
            "2023-03-06 16:44 身高矮可能更長壽？研究結果曝光超意外 OK\n",
            "2023-03-06 16:42 嘉市南田市場木造房屋起火 波及3戶幸無人受傷 OK\n",
            "2023-03-06 16:42 民雄出租套房、新港住宅接連火警  套房男房客送醫 OK\n",
            "2023-03-06 16:42 土耳其強震後，重災區阿德亞曼的「重建陰影」 False\n",
            "2023-03-06 16:38 經典賽／連戰中華、古巴都敲安 宋晟睿提醒睡眠重要性 OK\n",
            "2023-03-06 16:35 萊爾富婦女節咖啡買2送1 母親節名店蛋糕預購搶先開跑 OK\n",
            "2023-03-06 16:31 長照新商機！ 科技助長者參與社會 OK\n",
            "2023-03-06 16:29 影／基捷費用暴增至53.85億 謝國樑：中央應主要負擔 OK\n",
            "2023-03-06 16:29 中國擬限制太陽能技術出口 專家指傷到自己 OK\n",
            "2023-03-06 16:26 經典賽／前軟銀隊真砂勇介貢獻2安 中國不敵西部瓦斯 OK\n",
            "2023-03-06 16:23 經典賽／鄭浩均拾起喜歡的止滑粉 被強襲球無大礙 OK\n",
            "2023-03-06 16:20 債券現在是買點嗎？專家教如何買進：相對股票安全性高出許多 OK\n",
            "2023-03-06 16:19 影音／是男人都需要它！任天堂新體感遊戲 靠「1捲衛生紙」才能玩電流急急棒 OK\n",
            "2023-03-06 16:17 最爽兼職！工時不到半小時爽領全日薪 網暴動：介紹給我 OK\n",
            "2023-03-06 16:14 柯文哲將以民眾黨總統參選人身分訪美 拜會國務院、國會議員 False\n",
            "2023-03-06 16:08 加速危險建築重建 桃園擴大自主都更補助範圍 OK\n",
            "2023-03-06 16:07 經典賽／兄弟體驗「晚接午」賽程 助總提醒這一點 OK\n",
            "第1頁\n",
            "2023-03-06 16:47 開徵塞車稅、禁私家車救內湖交通？ 交通局：不會貿然做 OK\n",
            "2023-03-06 16:45 房市走勢溫和收斂？ 林右昌：房地不應該再繼續漲價 OK\n",
            "2023-03-06 16:44 記得儲水！桃園市桃園區八德區明天停水 影響9200戶 OK\n",
            "2023-03-06 16:44 身高矮可能更長壽？研究結果曝光超意外 OK\n",
            "2023-03-06 16:42 嘉市南田市場木造房屋起火 波及3戶幸無人受傷 OK\n",
            "2023-03-06 16:42 民雄出租套房、新港住宅接連火警  套房男房客送醫 OK\n",
            "2023-03-06 16:42 土耳其強震後，重災區阿德亞曼的「重建陰影」 False\n",
            "2023-03-06 16:38 經典賽／連戰中華、古巴都敲安 宋晟睿提醒睡眠重要性 OK\n",
            "2023-03-06 16:35 萊爾富婦女節咖啡買2送1 母親節名店蛋糕預購搶先開跑 OK\n",
            "2023-03-06 16:31 長照新商機！ 科技助長者參與社會 OK\n",
            "2023-03-06 16:29 影／基捷費用暴增至53.85億 謝國樑：中央應主要負擔 OK\n",
            "2023-03-06 16:29 中國擬限制太陽能技術出口 專家指傷到自己 OK\n",
            "2023-03-06 16:26 經典賽／前軟銀隊真砂勇介貢獻2安 中國不敵西部瓦斯 OK\n",
            "2023-03-06 16:23 經典賽／鄭浩均拾起喜歡的止滑粉 被強襲球無大礙 OK\n",
            "2023-03-06 16:20 債券現在是買點嗎？專家教如何買進：相對股票安全性高出許多 OK\n",
            "2023-03-06 16:19 影音／是男人都需要它！任天堂新體感遊戲 靠「1捲衛生紙」才能玩電流急急棒 OK\n",
            "2023-03-06 16:17 最爽兼職！工時不到半小時爽領全日薪 網暴動：介紹給我 OK\n",
            "2023-03-06 16:14 柯文哲將以民眾黨總統參選人身分訪美 拜會國務院、國會議員 False\n",
            "2023-03-06 16:08 加速危險建築重建 桃園擴大自主都更補助範圍 OK\n",
            "2023-03-06 16:07 經典賽／兄弟體驗「晚接午」賽程 助總提醒這一點 OK\n",
            "第2頁\n",
            "2023-03-06 16:07 中衛精品口罩熱銷再客製寶格麗手環 大手筆贈員工 OK\n",
            "2023-03-06 16:07 【重磅快評】阿兵哥變魯賓遜 全動法讓人拳頭都硬了 OK\n",
            "2023-03-06 16:04 疫後國際觀光客日韓最多 台灣2伴手禮成熱門首選 OK\n",
            "2023-03-06 16:04 基隆男子磯釣一夜未歸 頭部卡岩縫喪命 OK\n",
            "2023-03-06 16:02 看懂股價上升、下降趨勢線 買進和賣出信號是怎麼形成的？ 以鴻海及華新科為例 OK\n",
            "2023-03-06 16:00 誠品信義熄燈後24小時書店無縫接軌 這2據點呼聲最高 OK\n",
            "2023-03-06 16:00 南投補選敗在「且戰且走」策略失當 國民黨該醒醒了 False\n",
            "2023-03-06 15:58 經典賽／大聯盟戰將加入戰力升級 古巴教頭：毋庸置疑 OK\n",
            "2023-03-06 15:56 大貓屁孩不知死活偷咬老爸蛋蛋！雄獅氣瘋「拔腿追殺」熊孩子嚇到整個呆掉 OK\n",
            "2023-03-06 15:55 六都與新竹去年房價全站上千萬元 類雙北化都成天龍國 OK\n",
            "2023-03-06 15:55 嘉市國小生許願改造糯米橋 市府耗資千萬4月底將完工 OK\n",
            "2023-03-06 15:55 再戰2024立委？ 李彥秀透露：有人勸進哪裡跌倒哪裡站起來 OK\n",
            "2023-03-06 15:52 南台科大實習生改善日本道路交通提案 獲當地巿府青睞 OK\n",
            "2023-03-06 15:52 創意前2月營收大增逾4成！但大客戶遭美制裁 法人保守以對 OK\n",
            "2023-03-06 15:51 00878存到100張…月薪35K花多久可達成？ 他：想辦法增加主動收入 OK\n",
            "2023-03-06 15:50 閎康2月營收年增41% 歷年同期新高 OK\n",
            "2023-03-06 15:48 中捷藍線出入口直通金錢豹？ 中巿府這麼說 OK\n",
            "2023-03-06 15:46 加開直達車受挫！自強號加停南港成真 謝國樑表欣慰感謝 OK\n",
            "2023-03-06 15:45 集邦：3月TV面板價格全面起漲 IT用面板止跌持穩 OK\n",
            "2023-03-06 15:44 跆拳道／教練劉聰達稱羅嘉翎心存僥倖！苗博雅反揭他10年前黑襪事件 OK\n",
            "第3頁\n",
            "2023-03-06 15:44 跆拳道／教練劉聰達稱羅嘉翎心存僥倖！苗博雅反揭他10年前黑襪事件 OK\n",
            "2023-03-06 15:40 求職詐騙3死案「S姐」淚灑法庭懺悔 首腦尚未付5百萬安家費 OK\n",
            "2023-03-06 15:39 等不及！近4成旅客盼今年來台 客製化包團受青睞 OK\n",
            "2023-03-06 15:37 企業在瘋的綠色存款是什麼？為何讓銀行承作飆百億？ False\n",
            "2023-03-06 15:37 經典賽即將登場 新北11日辦直播趴、市集讓球迷嗨整天 OK\n",
            "2023-03-06 15:36 屏東「南國表藝節」將登場  開啟藝文展演新視界 OK\n",
            "2023-03-06 15:36 台中震大金鬱金香酒店開幕 顏莉敏身分證5號對中免費住 OK\n",
            "2023-03-06 15:36 經典賽／想對大谷故意死球惹事 高祐錫登板遭日媒檢視 OK\n",
            "2023-03-06 15:34 缺蛋！台南排隊名店「名東蛋糕」也撐不住了 只能提早打烊 OK\n",
            "2023-03-06 15:34 近期無降雨！竹科3月起實施用水大戶自主節水5％ OK\n",
            "2023-03-06 15:34 21天跑4城市！柯文哲下月以民眾黨總統候選人身分訪美國務院 OK\n",
            "2023-03-06 15:33 星宇航空第2架自購A350聯貸案正式簽約 總金額40.6億元 OK\n",
            "2023-03-06 15:33 中國軍費成長較GDP高 學者：強軍隊優於強民生 OK\n",
            "2023-03-06 15:33 林明溱敗選檢討 李彥秀曝2月初就發現氛圍不對 OK\n",
            "2023-03-06 15:33 智慧科技生活化 再創明日未來 False\n",
            "2023-03-06 15:31 高市65歲以上長輩即起接種次世代疫苗 可獲500元獎勵 OK\n",
            "2023-03-06 15:31 國民黨南投敗選找戰犯風暴 張善政覺沒必要：選輸就檢討 OK\n",
            "2023-03-06 15:30 德總理蕭茲指中國保證不軍援俄 歐盟主席：未見到北京軍援證據 OK\n",
            "2023-03-06 15:29 因應美頻頻「卡脖子」 習近平拚穩增長：力破核心技術 OK\n",
            "2023-03-06 15:29 宏達電2月營收月增17% 王雪紅四度MWC演講 OK\n",
            "第4頁\n",
            "2023-03-06 15:26 10天內 中國科技部長二度談ChatGPT：像梅西踢球 OK\n",
            "2023-03-06 15:25 愛將康威離婚「反川律師」丈夫 川普發文恭喜：離開怪老公 OK\n",
            "2023-03-06 15:24 【重磅快評】李克強捎春風不是姿態 避戰是北京的共識 OK\n",
            "2023-03-06 15:23 北高雄兩處山區半小時接連冒出無名火 消防分隊疲於奔命 OK\n",
            "2023-03-06 15:21 動物園萌虎圍觀撿手機 網：幸好是「幼兒園」 OK\n",
            "2023-03-06 15:20 美議員被AI「嚇壞」 有人跑去進修、有人嘆法規跟不上 OK\n",
            "2023-03-06 15:19 台股收漲155.09點 三大法人買超156.55億元 OK\n",
            "2023-03-06 15:19 習近平兩會上主動招呼李家超 李躬身作揖 OK\n",
            "2023-03-06 15:18 電動車寒冬下太耗能 科學家加緊研發新電池 OK\n",
            "2023-03-06 15:16 天冷木棉花延遲開花 彰化三鄉鎮各辦花季互別苗頭 OK\n",
            "2023-03-06 15:16 好讀周報／企鵝孵蛋小屋 助瀕危物種養育後代 OK\n",
            "2023-03-06 15:14 第一夫人挺拜登拚連任 批海理「認知測試」荒謬 OK\n",
            "2023-03-06 15:13 紅包來了！永豐金現增今起申購、每人可抽5張 中籤獲利逾萬元 OK\n",
            "2023-03-06 15:13 經典賽／完全體古巴轟炸兄弟 2次五星級美技饗球迷 OK\n",
            "2023-03-06 15:12 台灣籃球名人堂名人專題系列講座2.0 三八婦女節劉美玲佛光大學開講 OK\n",
            "2023-03-06 15:12 她汽車共乘拼到「無禮乘客」不穿鞋腳還跨到腿上！網直呼：你別不識抬舉 OK\n",
            "2023-03-06 15:12 部落孤僻老人伴兒屍 伍麗華慰喪收下他這一紙...令她好感慨 OK\n",
            "2023-03-06 15:07 NBA／勇士本季客場一條蟲 柯瑞：打得跟垃圾一樣 OK\n",
            "2023-03-06 15:06 7都房價全站上千萬！新竹最苦、晚4年買多400萬 OK\n",
            "2023-03-06 15:06 閉展倒數！「咒術迴戰展」好評不斷 趕緊把握機會朝聖 OK\n"
          ]
        }
      ]
    },
    {
      "cell_type": "code",
      "source": [
        "import requests\n",
        "import prettytable\n",
        "\n",
        "\n",
        "search_w = input(\"關鍵字: \")\n",
        "\n",
        "\n",
        "def tabel_print(key_word: str, page_id: str) -> None:\n",
        "    pretty_table = prettytable.PrettyTable([\"名稱\", \"價格\"], encoding=\"uft-8\")\n",
        "    url = f\"https://ecshweb.pchome.com.tw/search/v3.3/all/results?q={key_word}&page={page_id}&sort=sale/dc\"\n",
        "    req = requests.get(url)\n",
        "    content = req.json()\n",
        "    for obj in content[\"prods\"]:\n",
        "        pretty_table.add_row([obj[\"name\"], obj[\"price\"]])\n",
        "    pretty_table.align[\"名稱\"] = \"l\"\n",
        "    pretty_table.align[\"價格\"] = \"l\"\n",
        "    print(pretty_table)\n",
        "    total_page = content[\"totalPage\"]\n",
        "    page_i = input(\"前往頁碼: \")\n",
        "    while True:\n",
        "        if page_i.isdigit():\n",
        "            if int(page_i) <= int(total_page):\n",
        "                tabel_print(search_w, page_i)\n",
        "                break\n",
        "            else:\n",
        "                page_i = input(f\"最大頁碼為{total_page}, 請重新輸入: \")\n",
        "        elif page_i == \"esc\":\n",
        "            print(\"謝謝使用\")\n",
        "            break\n",
        "        else:\n",
        "            page_i = input(\"請輸入正確數字: \")\n",
        "\n",
        "\n",
        "tabel_print(search_w, \"1\")\n"
      ],
      "metadata": {
        "colab": {
          "base_uri": "https://localhost:8080/"
        },
        "id": "5C6llA5L7P9M",
        "outputId": "4b7dc267-6269-44c7-c5ae-6d4a5c0b1477"
      },
      "execution_count": null,
      "outputs": [
        {
          "output_type": "stream",
          "name": "stdout",
          "text": [
            "關鍵字: 神奇\n",
            "+----------------------------------------------------------------------------+-------+\n",
            "| 名稱                                                                       | 價格  |\n",
            "+----------------------------------------------------------------------------+-------+\n",
            "| 甜蜜約定 Doraemon 神奇哆啦A夢黃金皮繩手鍊                                  | 28190 |\n",
            "| AVEDA 木質髮梳(24.8X8.6cm)-大 神奇髮梳子                                   | 640   |\n",
            "| 桂格神奇高鈣燕麥片(700g/罐)                                                | 119   |\n",
            "| 古寶無患子神奇檸檬泡沫水垢清潔劑500g(噴瓶)                                 | 299   |\n",
            "| 神奇透明無痕奈米膠帶強力膠條 重複使用雙面 壓克力膠帶-超值500公分x3CM kiret | 265   |\n",
            "| AVEDA 隨行按摩梳(18.8X6.6cm)-小神奇髮梳子                                  | 579   |\n",
            "| 神奇柑仔店（1）帶來幸福的錢天堂（臺灣獨家限定特裝版）                      | 221   |\n",
            "| 【MS】神奇多功能電力電費監控器(瓦特計 功率計 電流計 110V)                  | 499   |\n",
            "| 【套書】神奇柑仔店（1-10）                                                 | 1986  |\n",
            "| ALLgood 神奇金盞花萬用妙妙膏 2oz                                           | 229   |\n",
            "| PurLab 神奇動物逗貓棒│蹦迪駝 - F                                           | 190   |\n",
            "| 美國瑪莉莎 Melissa & Doug 神奇水畫冊 - 英文字母學習A-Z                     | 249   |\n",
            "| PEAK DESIGN 快裝神奇背帶 Slide (沈穩黑)                                    | 2990  |\n",
            "| PEAK DESIGN 纖細版快裝神奇背帶 Slide Lite (沈穩黑)                         | 2530  |\n",
            "| Embryolisse 恩倍思 神奇保濕霜75ML                                          | 520   |\n",
            "| 檸檬酸神奇清潔劑280g                                                       | 79    |\n",
            "| 戰鬥紙陀螺（最終進化版）核心增強！更神奇的旋轉力！（附限定版特別花紋色紙） | 277   |\n",
            "| 古寶無患子神奇檸檬泡沫水垢清潔劑500g(補充瓶)                               | 259   |\n",
            "| PEAK DESIGN 快裝神奇背帶 Slide (鼠尾草綠)                                  | 2990  |\n",
            "| 神奇柑仔店系列5～8（共四冊）                                               | 900   |\n",
            "+----------------------------------------------------------------------------+-------+\n",
            "前往頁碼: 5\n",
            "+-------------------------------------------------------------------------------------------------+------+\n",
            "| 名稱                                                                                            | 價格 |\n",
            "+-------------------------------------------------------------------------------------------------+------+\n",
            "| NARUKO牛爾 茶樹神奇痘痘黑面膜 24片                                                              | 543  |\n",
            "| 神奇的自然呼吸：消除痠痛、舒緩壓力、提升免疫力，身心平衡的37組呼吸練習                          | 261  |\n",
            "| 神奇柑仔店（10）順風耳軟糖的報應                                                                | 237  |\n",
            "| u-clean神奇除菌洗淨粉1000g                                                                      | 399  |\n",
            "| 多益得神奇蘆薈清潔膏(60g/瓶)                                                                    | 129  |\n",
            "| 【華歌爾】摩奇X-Good Fit Bra A-C罩杯神奇魔力線內衣(星夜黑)-ZB4677BL                             | 1190 |\n",
            "| 神奇柑仔店（5）我不要帥哥面具！                                                                 | 237  |\n",
            "| 神奇柑仔店（2）我不想吃音樂果                                                                   | 221  |\n",
            "| 日本神奇靜電雙向寵物除毛刷/除毛球器                                                             | 429  |\n",
            "| 神奇柑仔店（3）誰需要除皺酸梅                                                                   | 221  |\n",
            "| 神奇柑仔店9~12套書                                                                              | 900  |\n",
            "| 神奇冷熱敷兩用袋(S)*2入 重複使用無限次                                                          | 381  |\n",
            "| 醫學瑜伽解痛聖經：乾針名醫Dr.Victor精準對症，打造36式神奇醫學瑜伽療法，無解的常年痠疼痛都能自癒 | 316  |\n",
            "| LIFECODE 超大型-神奇可伸縮X型曬衣架 (帝芬妮藍)                                                  | 1360 |\n",
            "| 房裡無蟑 好神奇 殺蟑魔粒 家用型 15克 (2入)                                                      | 578  |\n",
            "| Pokemon 寶可夢 神奇寶貝 變形球 皮卡丘 噴火龍 超夢 3款1組                                        | 999  |\n",
            "| Bioli Bac 得立潔酵素神奇清潔粉 170g                                                             | 750  |\n",
            "| 華歌爾-Good Fit Bra B-C罩杯神奇內衣(膚)四層三段專利-貼身舒適-VB3658UR                           | 1190 |\n",
            "| invisibobble神奇魔髮圈 魔髮甜甜圈-聖多里尼                                                      | 280  |\n",
            "| 妙潔 神奇抹布-超值包                                                                            | 159  |\n",
            "+-------------------------------------------------------------------------------------------------+------+\n"
          ]
        }
      ]
    }
  ]
}