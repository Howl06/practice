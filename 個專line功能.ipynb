{
  "nbformat": 4,
  "nbformat_minor": 0,
  "metadata": {
    "colab": {
      "provenance": [],
      "include_colab_link": true
    },
    "kernelspec": {
      "name": "python3",
      "display_name": "Python 3"
    }
  },
  "cells": [
    {
      "cell_type": "markdown",
      "metadata": {
        "id": "view-in-github",
        "colab_type": "text"
      },
      "source": [
        "<a href=\"https://colab.research.google.com/github/Howl06/practice/blob/main/%E5%80%8B%E5%B0%88line%E5%8A%9F%E8%83%BD.ipynb\" target=\"_parent\"><img src=\"https://colab.research.google.com/assets/colab-badge.svg\" alt=\"Open In Colab\"/></a>"
      ]
    },
    {
      "cell_type": "code",
      "metadata": {
        "id": "ylkDvkEfEZIw",
        "colab": {
          "base_uri": "https://localhost:8080/",
          "height": 36
        },
        "outputId": "aa414241-2606-4902-f77e-54ff75eb4cb0"
      },
      "source": [
        "'''\n",
        "掛載Google硬碟\n",
        "安裝套件\n",
        "引用套件\n",
        "APP應用準備\n",
        "消息準備\n",
        "handler執行方法設計\n",
        "啟動應用\n",
        "\n",
        "'''"
      ],
      "execution_count": 1,
      "outputs": [
        {
          "output_type": "execute_result",
          "data": {
            "text/plain": [
              "'\\n掛載Google硬碟\\n安裝套件\\n引用套件\\nAPP應用準備\\n消息準備\\nhandler執行方法設計\\n啟動應用\\n\\n'"
            ],
            "application/vnd.google.colaboratory.intrinsic+json": {
              "type": "string"
            }
          },
          "metadata": {},
          "execution_count": 1
        }
      ]
    },
    {
      "cell_type": "code",
      "metadata": {
        "id": "2mDqhB78Fxp6",
        "outputId": "64dcf540-adc1-46f3-d7db-7c533908ec59",
        "colab": {
          "base_uri": "https://localhost:8080/"
        }
      },
      "source": [
        "'''\n",
        "\n",
        "資料 mapping 至google drive\n",
        "\n",
        "把資料寫在/content/drive\n",
        "\n",
        "即可保存在 google drive內\n",
        "\n",
        "'''\n",
        "from google.colab import drive\n",
        "drive.mount('/content/drive')"
      ],
      "execution_count": 2,
      "outputs": [
        {
          "output_type": "stream",
          "name": "stdout",
          "text": [
            "Drive already mounted at /content/drive; to attempt to forcibly remount, call drive.mount(\"/content/drive\", force_remount=True).\n"
          ]
        }
      ]
    },
    {
      "cell_type": "code",
      "metadata": {
        "id": "4iGRs1oYD6Ca",
        "colab": {
          "base_uri": "https://localhost:8080/",
          "height": 36
        },
        "outputId": "85ea2bc6-badd-4547-f455-e031ae8bcaf2"
      },
      "source": [
        "'''\n",
        "\n",
        "流程解析\n",
        "\n",
        "'''\n"
      ],
      "execution_count": 3,
      "outputs": [
        {
          "output_type": "execute_result",
          "data": {
            "text/plain": [
              "'\\n\\n流程解析\\n\\n'"
            ],
            "application/vnd.google.colaboratory.intrinsic+json": {
              "type": "string"
            }
          },
          "metadata": {},
          "execution_count": 3
        }
      ]
    },
    {
      "cell_type": "code",
      "metadata": {
        "id": "JyhJqq8KImyR",
        "outputId": "0b466c65-c8a7-4a87-ca0e-b6470513e2da",
        "colab": {
          "base_uri": "https://localhost:8080/"
        }
      },
      "source": [
        "!pip install line-bot-sdk flask flask-ngrok"
      ],
      "execution_count": 4,
      "outputs": [
        {
          "output_type": "stream",
          "name": "stdout",
          "text": [
            "Looking in indexes: https://pypi.org/simple, https://us-python.pkg.dev/colab-wheels/public/simple/\n",
            "Requirement already satisfied: line-bot-sdk in /usr/local/lib/python3.9/dist-packages (2.4.2)\n",
            "Requirement already satisfied: flask in /usr/local/lib/python3.9/dist-packages (2.2.3)\n",
            "Requirement already satisfied: flask-ngrok in /usr/local/lib/python3.9/dist-packages (0.0.25)\n",
            "Requirement already satisfied: aiohttp==3.8.4 in /usr/local/lib/python3.9/dist-packages (from line-bot-sdk) (3.8.4)\n",
            "Requirement already satisfied: requests==2.28.2 in /usr/local/lib/python3.9/dist-packages (from line-bot-sdk) (2.28.2)\n",
            "Requirement already satisfied: future in /usr/local/lib/python3.9/dist-packages (from line-bot-sdk) (0.18.3)\n",
            "Requirement already satisfied: async-timeout<5.0,>=4.0.0a3 in /usr/local/lib/python3.9/dist-packages (from aiohttp==3.8.4->line-bot-sdk) (4.0.2)\n",
            "Requirement already satisfied: multidict<7.0,>=4.5 in /usr/local/lib/python3.9/dist-packages (from aiohttp==3.8.4->line-bot-sdk) (6.0.4)\n",
            "Requirement already satisfied: frozenlist>=1.1.1 in /usr/local/lib/python3.9/dist-packages (from aiohttp==3.8.4->line-bot-sdk) (1.3.3)\n",
            "Requirement already satisfied: attrs>=17.3.0 in /usr/local/lib/python3.9/dist-packages (from aiohttp==3.8.4->line-bot-sdk) (22.2.0)\n",
            "Requirement already satisfied: charset-normalizer<4.0,>=2.0 in /usr/local/lib/python3.9/dist-packages (from aiohttp==3.8.4->line-bot-sdk) (2.0.12)\n",
            "Requirement already satisfied: aiosignal>=1.1.2 in /usr/local/lib/python3.9/dist-packages (from aiohttp==3.8.4->line-bot-sdk) (1.3.1)\n",
            "Requirement already satisfied: yarl<2.0,>=1.0 in /usr/local/lib/python3.9/dist-packages (from aiohttp==3.8.4->line-bot-sdk) (1.8.2)\n",
            "Requirement already satisfied: urllib3<1.27,>=1.21.1 in /usr/local/lib/python3.9/dist-packages (from requests==2.28.2->line-bot-sdk) (1.26.15)\n",
            "Requirement already satisfied: idna<4,>=2.5 in /usr/local/lib/python3.9/dist-packages (from requests==2.28.2->line-bot-sdk) (3.4)\n",
            "Requirement already satisfied: certifi>=2017.4.17 in /usr/local/lib/python3.9/dist-packages (from requests==2.28.2->line-bot-sdk) (2022.12.7)\n",
            "Requirement already satisfied: Werkzeug>=2.2.2 in /usr/local/lib/python3.9/dist-packages (from flask) (2.2.3)\n",
            "Requirement already satisfied: itsdangerous>=2.0 in /usr/local/lib/python3.9/dist-packages (from flask) (2.1.2)\n",
            "Requirement already satisfied: click>=8.0 in /usr/local/lib/python3.9/dist-packages (from flask) (8.1.3)\n",
            "Requirement already satisfied: Jinja2>=3.0 in /usr/local/lib/python3.9/dist-packages (from flask) (3.1.2)\n",
            "Requirement already satisfied: importlib-metadata>=3.6.0 in /usr/local/lib/python3.9/dist-packages (from flask) (6.0.0)\n",
            "Requirement already satisfied: zipp>=0.5 in /usr/local/lib/python3.9/dist-packages (from importlib-metadata>=3.6.0->flask) (3.15.0)\n",
            "Requirement already satisfied: MarkupSafe>=2.0 in /usr/local/lib/python3.9/dist-packages (from Jinja2>=3.0->flask) (2.1.2)\n"
          ]
        }
      ]
    },
    {
      "cell_type": "code",
      "metadata": {
        "id": "rJDNE2TYEaYA"
      },
      "source": [
        "'''\n",
        "\n",
        "\n",
        "'''\n",
        "\n",
        "# 引用Web Server套件\n",
        "from flask import Flask, request, abort, jsonify\n",
        "\n",
        "# 載入json處理套件\n",
        "import json\n",
        "\n",
        "# 外部連結自動生成套件\n",
        "from flask_ngrok import run_with_ngrok\n",
        "\n",
        "# 從linebot 套件包裡引用 LineBotApi 與 WebhookHandler 類別\n",
        "from linebot import (\n",
        "    LineBotApi, WebhookHandler\n",
        ")\n",
        "\n",
        "# 引用無效簽章錯誤\n",
        "from linebot.exceptions import (\n",
        "    InvalidSignatureError\n",
        ")\n"
      ],
      "execution_count": 5,
      "outputs": []
    },
    {
      "cell_type": "code",
      "metadata": {
        "id": "XssY97Y9Eahe"
      },
      "source": [
        "'''\n",
        "建置主程序\n",
        "\n",
        "建置handler與 line_bot_api\n",
        "'''\n",
        "\n",
        "# 設定Server啟用細節\n",
        "app = Flask(__name__,static_url_path = \"/material\" , static_folder = \"./material/\")\n",
        "run_with_ngrok(app)\n",
        "\n",
        "# 生成實體物件\n",
        "# 跟line 溝通用\n",
        "line_bot_api = LineBotApi(\"vtaRo4pkLqIZjk50gBJ53fFtMpg+8unl4TvLKbyvENmbWkzdriMNIeVm87ZWRBdTeDL7YM4hGte+BrNMmYscJ1WNPvCQbheXUbVevrlKB3zP3CaeRjbPQRPHMsqW+037bLOogqjOrh5ssRj53kqQMQdB04t89/1O/w1cDnyilFU=\")\n",
        "# 收發訊息用\n",
        "handler = WebhookHandler(\"de385af73d2121e65ca6fc0490991b02\")"
      ],
      "execution_count": 6,
      "outputs": []
    },
    {
      "cell_type": "code",
      "metadata": {
        "id": "jyIFMBi4EvTl"
      },
      "source": [
        "'''\n",
        "\n",
        "建置主程序的API入口\n",
        "\n",
        "'''\n",
        "\n",
        "# 啟動server對外接口，使Line能丟消息進來\n",
        "@app.route(\"/\", methods=['POST'])\n",
        "def callback():\n",
        "    # get X-Line-Signature header value\n",
        "    signature = request.headers['X-Line-Signature']\n",
        "\n",
        "    # get request body as text\n",
        "    body = request.get_data(as_text=True)\n",
        "    print(body)\n",
        "\n",
        "    # 記錄用戶log\n",
        "    f = open(\"/content/drive/MyDrive/ai-event.log\", \"a\")\n",
        "    f.write(body)\n",
        "    f.close()\n",
        "\n",
        "    # handle webhook body\n",
        "    try:\n",
        "        handler.handle(body, signature)\n",
        "    except InvalidSignatureError:\n",
        "        abort(400)\n",
        "\n",
        "    return 'OK'"
      ],
      "execution_count": 7,
      "outputs": []
    },
    {
      "cell_type": "code",
      "source": [
        "'''\n",
        "消息判斷器\n",
        "讀取指定的json檔案後，把json解析成不同格式的SendMessage\n",
        "讀取檔案，\n",
        "把內容轉換成json\n",
        "將json轉換成消息\n",
        "放回array中，並把array傳出。\n",
        "'''\n",
        "\n",
        "# 引用會用到的套件\n",
        "from linebot.models import (\n",
        "    ImagemapSendMessage,TextSendMessage,ImageSendMessage,LocationSendMessage,FlexSendMessage,VideoSendMessage\n",
        "    ,StickerSendMessage,AudioSendMessage\n",
        ")\n",
        "\n",
        "from linebot.models.template import (\n",
        "    ButtonsTemplate,CarouselTemplate,ConfirmTemplate,ImageCarouselTemplate\n",
        "    \n",
        ")\n",
        "\n",
        "from linebot.models.template import *\n",
        "\n",
        "def detect_json_array_to_new_message_array(json_data):\n",
        "    \n",
        "    \n",
        "    # 解析json\n",
        "    returnArray = []\n",
        "    for jsonObject in json_data:\n",
        "\n",
        "        # 讀取其用來判斷的元件\n",
        "        message_type = jsonObject.get('type')\n",
        "        \n",
        "        # 轉換\n",
        "        if message_type == 'text':\n",
        "            returnArray.append(TextSendMessage.new_from_json_dict(jsonObject))\n",
        "        elif message_type == 'imagemap':\n",
        "            returnArray.append(ImagemapSendMessage.new_from_json_dict(jsonObject))\n",
        "        elif message_type == 'template':\n",
        "            returnArray.append(TemplateSendMessage.new_from_json_dict(jsonObject))\n",
        "        elif message_type == 'image':\n",
        "            returnArray.append(ImageSendMessage.new_from_json_dict(jsonObject))\n",
        "        elif message_type == 'sticker':\n",
        "            returnArray.append(StickerSendMessage.new_from_json_dict(jsonObject))  \n",
        "        elif message_type == 'audio':\n",
        "            returnArray.append(AudioSendMessage.new_from_json_dict(jsonObject))  \n",
        "        elif message_type == 'location':\n",
        "            returnArray.append(LocationSendMessage.new_from_json_dict(jsonObject))\n",
        "        elif message_type == 'flex':\n",
        "            returnArray.append(FlexSendMessage.new_from_json_dict(jsonObject))  \n",
        "        elif message_type == 'video':\n",
        "            returnArray.append(VideoSendMessage.new_from_json_dict(jsonObject))    \n",
        "\n",
        "\n",
        "    # 回傳\n",
        "    return returnArray"
      ],
      "metadata": {
        "id": "4miLZHdmW1l6"
      },
      "execution_count": 27,
      "outputs": []
    },
    {
      "cell_type": "code",
      "metadata": {
        "id": "CLJukg__Yaal"
      },
      "source": [
        "'''\n",
        "\n",
        "準備QuickReply的Button\n",
        "\n",
        "\n",
        "'''\n",
        "\n",
        "# 引入相關套件\n",
        "from linebot.models import (\n",
        "    MessageAction, URIAction,\n",
        "    PostbackAction, DatetimePickerAction,\n",
        "    CameraAction, CameraRollAction, LocationAction,\n",
        "    QuickReply, QuickReplyButton, TextSendMessage\n",
        ")\n",
        "\n",
        "# 創建QuickReplyButton \n",
        "\n",
        "# 點擊後，以用戶身份發送文字消息\n",
        "# MessageAction\n",
        "textQuickReplyButton = QuickReplyButton(\n",
        "    action=MessageAction(\n",
        "        label=\"處罰\", \n",
        "        text='''\n",
        "        chatgpt(age, character, gender, race)\n",
        "        請給我五十字以內 稱呼我老闆 以60歲男性強悍的口氣跟我求饒  結尾加上貓叫狀聲詞\n",
        "        '''\n",
        "    )\n",
        ")\n",
        "\n",
        "# 點擊後，彈跳出選擇時間之視窗\n",
        "# DatetimePickerAction\n",
        "dateQuickReplyButton = QuickReplyButton(\n",
        "    action=DatetimePickerAction(\n",
        "        label=\"時間選擇\",\n",
        "        data=\"data3\",                       \n",
        "        mode=\"date\"\n",
        "    )\n",
        ")\n",
        "\n",
        "\n",
        "# 點擊後，開啟相機\n",
        "# CameraAction\n",
        "cameraQuickReplyButton = QuickReplyButton(\n",
        "    action=CameraAction(label=\"拍照\")\n",
        ")\n",
        "\n",
        "# 點擊後，切換至照片相簿選擇\n",
        "cameraRollQRB = QuickReplyButton(\n",
        "    action=CameraRollAction(label=\"選擇照片\")\n",
        ")\n",
        "\n",
        "# 點擊後，跳出地理位置\n",
        "locationQRB = QuickReplyButton(\n",
        "    action=LocationAction(label=\"地理位置\")\n",
        ")\n",
        "\n",
        "# 點擊後，以Postback事件回應Server \n",
        "postbackQRB = QuickReplyButton(\n",
        "    action=PostbackAction(label=\"我是PostbackEvent\",\n",
        "    text='''chatgpt(age, character, gender, race)\n",
        "        請給我五十字以內 稱呼我老闆 以60歲男性強悍的口氣跟我求饒  結尾加上貓叫狀聲詞\n",
        "        ''',\n",
        "    data=\"Data1\"))"
      ],
      "execution_count": 28,
      "outputs": []
    },
    {
      "cell_type": "code",
      "metadata": {
        "id": "wIN_RgjHYiKe"
      },
      "source": [
        "'''\n",
        "\n",
        "以QuickReply封裝該些QuickReply Button\n",
        "\n",
        "'''\n",
        "# 設計QuickReplyButton的List\n",
        "quickReplyList = QuickReply(\n",
        "    items = [textQuickReplyButton, dateQuickReplyButton, cameraQuickReplyButton, cameraRollQRB, locationQRB,postbackQRB]\n",
        ")"
      ],
      "execution_count": 29,
      "outputs": []
    },
    {
      "cell_type": "code",
      "metadata": {
        "id": "QGQAcwWoYlb0"
      },
      "source": [
        "'''\n",
        "\n",
        "製作TextSendMessage，並將剛封裝的QuickReply放入\n",
        "\n",
        "'''\n",
        "# 將quickReplyList 塞入TextSendMessage 中 \n",
        "from linebot.models import (\n",
        "    TextSendMessage,\n",
        ")\n",
        "quick_reply_text_send_message = TextSendMessage(text='發送問題給用戶，請用戶回答', quick_reply=quickReplyList)"
      ],
      "execution_count": 30,
      "outputs": []
    },
    {
      "cell_type": "code",
      "source": [
        "'''\n",
        "\n",
        "準備Adventure_QReply的Button\n",
        "\n",
        "\n",
        "'''\n",
        "\n",
        "# 引入相關套件\n",
        "from linebot.models import (\n",
        "    MessageAction, QuickReply, QuickReplyButton, TextSendMessage,\n",
        ")\n",
        "\n",
        "# 創建QuickReplyButton \n",
        "\n",
        "# 點擊後，以用戶身份發送文字消息\n",
        "# 故事結構\n",
        "story_list = {\n",
        "        \"魔法\": {\"world_role\": (\"戰士\", \"法師\", \"弓手\"), \"world_weight\": \"戰力\"},\n",
        "\t    \"武俠\": {\"world_role\": (\"刀客\", \"拳師\", \"劍客\"), \"world_weight\": \"內力\"},\n",
        "        \"科幻\": {\"world_role\": (\"機甲\", \"槍手\", \"船長\"), \"world_weight\": \"權力\"},\n",
        "        \"養成\": {\"world_role\": (\"商業菁英\", \"農夫\", \"畜牧業者\"), \"world_weight\": \"財富\"},\n",
        "        \"兇殺\": {\"world_role\": (\"警察\", \"罪犯\"), \"world_weight\": \"生命\"},\n",
        "        \"盜墓\": {\"world_role\": (\"法師\", \"遊客\"), \"world_weight\": \"San值\"}\n",
        "        }\n",
        "story_condition = {\n",
        "        \"魔法\": {\"獨自冒險\": (\"成功\", \"失敗\"), \"組隊冒險\": (\"成功\", \"失敗\")},\n",
        "\t    \"武俠\": {\"獨自闖江湖\": (\"成功\", \"失敗\"), \"合作闖江湖\": (\"成功\", \"失敗\")},\n",
        "        \"科幻\": {\"冒險星際旅行\": (\"成功\", \"失敗\"), \"地球旅行\": (\"成功\", \"失敗\")},\n",
        "        \"養成\": {\"冒險經營\": (\"成功\", \"失敗\"), \"穩定經營\": (\"成功\", \"失敗\")},\n",
        "        \"兇殺\": {\"獨自去兇案現場\": (\"成功\", \"失敗\"), \"遠離兇案現場\": (\"成功\", \"失敗\")},\n",
        "        \"盜墓\": {\"獨自深入\": (\"法師\", \"遊客\"), \"在外面看看\": \"San值\"}\n",
        "        }\n",
        "story_end = {\n",
        "        \"魔法\": (\"成功\", \"普通\", \"殘廢\"),\n",
        "\t    \"武俠\": (\"成功\", \"普通\", \"殘廢\"),\n",
        "        \"科幻\": (\"成功\", \"普通\", \"殘廢\"),\n",
        "        \"養成\": (\"成功\", \"普通\", \"破產\"),\n",
        "        \"兇殺\": (\"成功\", \"普通\", \"殘廢\"),\n",
        "        \"盜墓\": (\"成功\", \"普通\", \"被附身\"),\n",
        "        }\n",
        "# 故事class\n",
        "class story_type:\n",
        "    def __init__(self, type):\n",
        "        self.type = type\n",
        "\n",
        "    def story_button(self):\n",
        "        button = QuickReplyButton(\n",
        "            action=PostbackAction(label=f\"{self.type}\", text='故事描述如下',\n",
        "                       data=f\"Story,{self.type}\"\n",
        "                        ))\n",
        "        return button\n",
        "\n",
        "# 職業\n",
        "class role_type:\n",
        "    def __init__(self, type):\n",
        "        self.type = type\n",
        "\n",
        "    def story_button(self):\n",
        "        button = QuickReplyButton(\n",
        "            action=PostbackAction(label=f\"{self.type}\", text='故事描述如下',\n",
        "                       data=f\"Story,{self.type}\"\n",
        "                        ))\n",
        "        return button\n",
        "\n",
        "\n",
        "'''\n",
        "\n",
        "以QuickReply封裝該些QuickReply Button\n",
        "\n",
        "'''\n",
        "# 設計QuickReplyButton的List\n",
        "ad_quickReplyList = QuickReply(\n",
        "    items = [\n",
        "        story_type(\"魔法\").story_button(), story_type(\"武俠\").story_button(),\n",
        "        story_type(\"科幻\").story_button(), story_type(\"商業\").story_button(),\n",
        "        story_type(\"兇殺\").story_button(), story_type(\"盜墓\").story_button()\n",
        "        ]\n",
        ")\n",
        "\n",
        "'''\n",
        "\n",
        "製作TextSendMessage，並將剛封裝的QuickReply放入\n",
        "\n",
        "'''\n",
        "# 將quickReplyList 塞入TextSendMessage 中 \n",
        "from linebot.models import (\n",
        "    TextSendMessage,\n",
        ")\n",
        "ad_quick_reply_adventure_send_message = TextSendMessage(text='請選擇故事類型，故事開始你的旅途將被記錄:', quick_reply=ad_quickReplyList)\n"
      ],
      "metadata": {
        "id": "74gVqBCKvBGb"
      },
      "execution_count": 31,
      "outputs": []
    },
    {
      "cell_type": "code",
      "metadata": {
        "id": "iZf8SHFfXYRs"
      },
      "source": [
        "'''\n",
        "訊息事件的表達\n",
        "'''\n",
        "\n",
        "# 將消息模型，文字收取消息與文字寄發消息 引入\n",
        "from linebot.models import (\n",
        "    MessageEvent, TextMessage, TextSendMessage, ImageSendMessage\n",
        ")\n",
        "\n",
        "specific_text_message=TextSendMessage(\"官方建議，用戶以文字消息觸發特殊功能的時候，要加上特殊符號\")\n",
        "\n",
        "analyze_truth_image_message=ImageSendMessage(\n",
        "      original_content_url='https://i.imgur.com/M8jnn9B.png',\n",
        "      preview_image_url='https://i.imgur.com/LtCtgg0.jpg'\n",
        "      )\n",
        "eye_protect_image_message=ImageSendMessage(\n",
        "      original_content_url='https://i.imgur.com/auX0TAub.gif',\n",
        "      preview_image_url='https://i.imgur.com/ZTvcBoub.jpg'\n",
        "      )"
      ],
      "execution_count": 32,
      "outputs": []
    },
    {
      "cell_type": "code",
      "metadata": {
        "id": "kpVdUJ0wTSli"
      },
      "source": [
        "'''\n",
        "Button篇\n",
        "    設定模板消息，指定其參數細節。\n",
        "\n",
        "'''\n",
        "\n",
        "\n",
        "#引入所需要的消息與模板消息\n",
        "from linebot.models import (\n",
        "    MessageEvent, TemplateSendMessage , PostbackEvent\n",
        ")\n",
        "\n",
        "#引入按鍵模板\n",
        "from linebot.models.template import(\n",
        "    ButtonsTemplate\n",
        ")\n",
        "\n",
        "\n",
        "'''\n",
        "alt_text: Line簡覽視窗所出現的說明文字\n",
        "template: 所使用的模板\n",
        "ButtonsTemplate: 按鍵模板\n",
        "    thumbnail_image_url: 展示圖片\n",
        "    title: 標題\n",
        "    text: 說明文字\n",
        "    actions: 模板行為所使用的行為\n",
        "    data: 觸發postback後用戶回傳值，可以對其做商業邏輯處理\n",
        "\n",
        "'''\n",
        "buttons_template_message = TemplateSendMessage(\n",
        "    alt_text='Buttons template',\n",
        "    template=ButtonsTemplate(\n",
        "        title='更多幫助',\n",
        "        text='請點擊下方按鈕獲得更多幫助',\n",
        "        actions=[\n",
        "          {\n",
        "            \"type\": \"postback\",\n",
        "            \"label\": \"企業，查找商業結合方案\",\n",
        "            \"text\": \"[::text:]尋找BD\",\n",
        "            \"data\": \"Data1\"\n",
        "          },\n",
        "          {\n",
        "            \"type\": \"postback\",\n",
        "            \"label\": \"開發者，尋求教學\",\n",
        "            \"text\": \"[::text:]求助專家\",\n",
        "            \"data\": \"Data2\"\n",
        "          },\n",
        "          {\n",
        "            \"type\": \"uri\",\n",
        "            \"label\": \"打電話\",\n",
        "            \"uri\": \"tel://3345678\"\n",
        "          }\n",
        "        ],\n",
        "  )\n",
        ")"
      ],
      "execution_count": 33,
      "outputs": []
    },
    {
      "cell_type": "code",
      "metadata": {
        "id": "CsDjhbugRh9Z"
      },
      "source": [
        "'''\n",
        "\n",
        "設計一個字典\n",
        "    當用戶輸入相應文字消息時，系統會從此挑揀消息\n",
        "\n",
        "'''\n",
        "\n",
        "# 將消息模型，文字收取消息與文字寄發消息 引入\n",
        "from linebot.models import (\n",
        "    MessageEvent, TextMessage, TextSendMessage, ImageSendMessage\n",
        ")\n",
        "\n",
        "# 根據自定義菜單五張故事線的圖，設定相對應image\n",
        "template_message_dict = {\n",
        "  \"@reply\":quick_reply_text_send_message,\n",
        "  \"@more\":buttons_template_message,\n",
        "  \"@123\":specific_text_message,\n",
        "  \"@分析的本質\":analyze_truth_image_message,\n",
        "  \"@養眼一下\":eye_protect_image_message,\n",
        "  \"@故事\":ad_quick_reply_adventure_send_message\n",
        "}"
      ],
      "execution_count": 34,
      "outputs": []
    },
    {
      "cell_type": "code",
      "source": [],
      "metadata": {
        "id": "BxgZmzCsUTeL"
      },
      "execution_count": 34,
      "outputs": []
    },
    {
      "cell_type": "code",
      "metadata": {
        "id": "YhyKB6njFHJC"
      },
      "source": [
        "\n",
        "'''\n",
        "\n",
        "撰寫用戶關注時，我們要處理的商業邏輯\n",
        "\n",
        "1. 取得用戶個資，並存回伺服器\n",
        "2. 回應用戶，歡迎用的文字消息\n",
        "\n",
        "'''\n",
        "\n",
        "\n",
        "# 載入Follow事件\n",
        "from linebot.models.events import (\n",
        "    FollowEvent\n",
        ")\n",
        "\n",
        "from linebot.models import(\n",
        "    TextSendMessage, ImageSendMessage\n",
        ")\n",
        "\n",
        "# 載入requests套件\n",
        "import requests\n",
        "import os\n",
        "\n",
        "# 告知handler，如果收到FollowEvent，則做下面的方法處理\n",
        "@handler.add(FollowEvent)\n",
        "def reply_text_and_get_user_profile(event):\n",
        "    \n",
        "    # 取出消息內User的資料\n",
        "    user_profile = line_bot_api.get_profile(event.source.user_id)\n",
        "    user_directory = f'/content/drive/MyDrive/p_project/user_data/{event.source.user_id}'\n",
        "    print(user_profile)\n",
        "\n",
        "    # 創用戶資料夾\n",
        "    if not os.path.exists(user_directory):\n",
        "        directory_init = (\"\", \"/story\", \"/video\", \"/pic\", \"/audio\")\n",
        "        for name in directory_init:\n",
        "            os.makedirs(user_directory + name)    \n",
        "\n",
        "    # 將用戶資訊存在全用戶檔案內\n",
        "    with open('/content/drive/MyDrive/p_project/user_data/totalusers.txt', \"a\") as myfile:\n",
        "        myfile.write(json.dumps(vars(user_profile),sort_keys=True))\n",
        "        myfile.write('\\n')\n",
        "    \n",
        "    # 將用戶資訊存在個人檔案內\n",
        "    with open(user_directory + \"/users.txt\", \"a\") as myfile:\n",
        "        myfile.write(json.dumps(vars(user_profile),sort_keys=True))\n",
        "        myfile.write('\\n')\n",
        "\n",
        "    # 創建用戶冒險檔案 虛擬助手對話檔案 用戶對話標籤 用戶對話摘取關鍵訊息\n",
        "    file_list = [\"/adventure.txt\", \"/assistant_record.txt\", \"/user_label.txt\", \"user_info.txt\"]\n",
        "    for file in file_list:\n",
        "        with open(user_directory + file, \"a\") as myfile:\n",
        "            myfile.write('\\n')\n",
        "\n",
        "\n",
        "    # 開始故事\n",
        "    line_bot_api.reply_message(\n",
        "        event.reply_token,\n",
        "        [ad_quick_reply_adventure_send_message]\n",
        "        )\n",
        "    "
      ],
      "execution_count": 35,
      "outputs": []
    },
    {
      "cell_type": "code",
      "source": [
        "def chargpt(quest):\n",
        "    return \"嗨嗨這是故事喔\""
      ],
      "metadata": {
        "id": "qlQDm09b79Or"
      },
      "execution_count": 42,
      "outputs": []
    },
    {
      "cell_type": "code",
      "metadata": {
        "id": "dNFhpNPPTywd"
      },
      "source": [
        "#用戶點擊button後，觸發postback event，對其回傳做相對應處理\n",
        "\n",
        "@handler.add(PostbackEvent)\n",
        "def handle_post_message(event):\n",
        "    user_profile = line_bot_api.get_profile(event.source.user_id)\n",
        "    if (event.postback.data.find('Story')== 0):\n",
        "        story_type_p = event.postback.data.split(\",\")[-1]\n",
        "        quest_gpt = f\"用60字寫一個{story_type_p}故事的背景描述\"\n",
        "        user_story_text = chargpt(quest_gpt)\n",
        "        context_type = [{'role': 'user', 'content': quest_gpt}, {'role': 'assistant', 'content': user_story_text}]\n",
        "        user_directory = f'/content/drive/MyDrive/p_project/user_data/{event.source.user_id}'\n",
        "        user_story_path = user_directory + \"/story/story.txt\"\n",
        "        message_json = [{\n",
        "                \"type\": \"image\",\n",
        "                \"original_content_url\": 'https://i.imgur.com/auX0TAub.gif',\n",
        "                \"preview_image_url\":' https://i.imgur.com/ZTvcBoub.jpg'\n",
        "                },\n",
        "                {\n",
        "                \"type\": \"text\",\n",
        "                \"text\": user_story_text\n",
        "                }\n",
        "                ]\n",
        "        with open(user_directory + \"/adventure.txt\", \"w\", encoding=\"utf-8\") as myfile:\n",
        "            myfile.write(story_type_p)\n",
        "        with open(user_story_path, \"w\", encoding=\"utf-8\") as myfile:\n",
        "            myfile.write(str(context_type))\n",
        "            line_bot_api.reply_message(\n",
        "            event.reply_token,\n",
        "            detect_json_array_to_new_message_array(message_json)\n",
        "                )    \n",
        "    elif (event.postback.data.find('Data1')== 0):\n",
        "        with open(\"user_profile_business.txt\", \"a\") as myfile:\n",
        "            myfile.write(json.dumps(vars(user_profile),sort_keys=True))\n",
        "            myfile.write('\\n')\n",
        "            line_bot_api.reply_message(\n",
        "            event.reply_token,\n",
        "                TextSendMessage(\n",
        "                    text='請稍待，會有專人與您聯繫'\n",
        "                )\n",
        "            )\n",
        "    elif (event.postback.data.find('Data2') == 0):\n",
        "        with open(\"user_profile_tutorial.txt\", \"a\") as myfile:\n",
        "            myfile.write(json.dumps(vars(user_profile),sort_keys=True))\n",
        "            myfile.write('\\n')\n",
        "            line_bot_api.reply_message(\n",
        "            event.reply_token,\n",
        "                TextMessage(\n",
        "                    text='請稍待，我們會派專家與您聯繫'\n",
        "                )\n",
        "            )\n",
        "    else:\n",
        "        pass"
      ],
      "execution_count": 44,
      "outputs": []
    },
    {
      "cell_type": "code",
      "metadata": {
        "id": "gUFnh86kQSzk"
      },
      "source": [
        "# 用戶發出文字消息時， 按條件內容, 回傳文字消息\n",
        "@handler.add(MessageEvent, message=TextMessage)\n",
        "def handle_message(event):\n",
        "    \n",
        "    if (event.message.text.find('$') == 0):\n",
        "        line_bot_api.reply_message(\n",
        "        event.reply_token,\n",
        "        TextSendMessage(text=\"chargpt\")\n",
        "        )\n",
        "    elif (event.message.text.find('@')== 0):\n",
        "        if event.message.text in template_message_dict:\n",
        "            line_bot_api.reply_message(\n",
        "            event.reply_token,\n",
        "            template_message_dict.get(event.message.text)\n",
        "            )\n",
        "        else:\n",
        "            line_bot_api.reply_message(\n",
        "            event.reply_token,\n",
        "            TextSendMessage(text=\"字典內查無此字，請輸入@123或@分析的本質或@more@養眼一下@reply\")\n",
        "            )\n"
      ],
      "execution_count": 45,
      "outputs": []
    },
    {
      "cell_type": "code",
      "metadata": {
        "id": "jojZfXmcacqS"
      },
      "source": [
        "'''\n",
        "\n",
        "若收到圖片 影片 音訊消息時，\n",
        "\n",
        "先回覆用戶文字消息，並從Line上將照片拿回。\n",
        "\n",
        "'''\n",
        "\n",
        "from linebot.models import(\n",
        "    MessageEvent, ImageMessage, TextSendMessage, VideoMessage, AudioMessage\n",
        ")\n",
        "\n",
        "@handler.add(MessageEvent, message=ImageMessage)\n",
        "def handle_message(event):\n",
        "    line_bot_api.reply_message(\n",
        "        event.reply_token,\n",
        "        TextSendMessage(text='Image has Upload' + ' ' + event.message.id))\n",
        "    message_content = line_bot_api.get_message_content(event.message.id)\n",
        "    with open(\"/content/drive/MyDrive/line_bot_content/\" + event.message.id + '.jpg', 'wb') as fd:\n",
        "        for chunk in message_content.iter_content():\n",
        "            fd.write(chunk)\n",
        "@handler.add(MessageEvent, message=VideoMessage)\n",
        "def handle_message(event):\n",
        "    line_bot_api.reply_message(\n",
        "        event.reply_token,\n",
        "        TextSendMessage(text='Video has Upload'+ ' ' + event.message.id))\n",
        "    message_content = line_bot_api.get_message_content(event.message.id)\n",
        "    with open(\"/content/drive/MyDrive/line_bot_content/\" + event.message.id+'.jpg', 'wb') as fd:\n",
        "        for chunk in message_content.iter_content():\n",
        "            fd.write(chunk)\n",
        "@handler.add(MessageEvent, message=AudioMessage)\n",
        "def handle_message(event):\n",
        "    line_bot_api.reply_message(\n",
        "        event.reply_token,\n",
        "        TextSendMessage(text='Sound has Upload'+ ' ' + event.message.id))\n",
        "    message_content = line_bot_api.get_message_content(event.message.id)\n",
        "    with open(\"/content/drive/MyDrive/line_bot_content/\" + event.message.id+'.jpg', 'wb') as fd:\n",
        "        for chunk in message_content.iter_content():\n",
        "            fd.write(chunk)"
      ],
      "execution_count": 46,
      "outputs": []
    },
    {
      "cell_type": "code",
      "source": [
        "from google.colab import drive\n",
        "drive.mount('/content/drive')"
      ],
      "metadata": {
        "id": "RP9GLRCitH67",
        "outputId": "badf2dee-e4d4-47e4-f0d9-50a0e3d5618e",
        "colab": {
          "base_uri": "https://localhost:8080/"
        }
      },
      "execution_count": 47,
      "outputs": [
        {
          "output_type": "stream",
          "name": "stdout",
          "text": [
            "Drive already mounted at /content/drive; to attempt to forcibly remount, call drive.mount(\"/content/drive\", force_remount=True).\n"
          ]
        }
      ]
    },
    {
      "cell_type": "code",
      "metadata": {
        "id": "NVkYb65fHY9W",
        "colab": {
          "base_uri": "https://localhost:8080/"
        },
        "outputId": "9de12c42-982b-44ff-f4fe-9ecbe9fe3b59"
      },
      "source": [
        "app.run()"
      ],
      "execution_count": 48,
      "outputs": [
        {
          "output_type": "stream",
          "name": "stdout",
          "text": [
            " * Serving Flask app '__main__'\n",
            " * Debug mode: off\n"
          ]
        },
        {
          "output_type": "stream",
          "name": "stderr",
          "text": [
            "INFO:werkzeug:\u001b[31m\u001b[1mWARNING: This is a development server. Do not use it in a production deployment. Use a production WSGI server instead.\u001b[0m\n",
            " * Running on http://127.0.0.1:5000\n",
            "INFO:werkzeug:\u001b[33mPress CTRL+C to quit\u001b[0m\n"
          ]
        },
        {
          "output_type": "stream",
          "name": "stdout",
          "text": [
            " * Running on http://a9b0-34-74-6-157.ngrok.io\n",
            " * Traffic stats available on http://127.0.0.1:4040\n"
          ]
        },
        {
          "output_type": "stream",
          "name": "stderr",
          "text": [
            "INFO:werkzeug:127.0.0.1 - - [19/Mar/2023 15:10:57] \"POST / HTTP/1.1\" 200 -\n"
          ]
        },
        {
          "output_type": "stream",
          "name": "stdout",
          "text": [
            "{\"destination\":\"U54dcf9ab5f592860405fcec0d6979997\",\"events\":[{\"type\":\"unfollow\",\"webhookEventId\":\"01GVX6RX06TYGEFSP1RT8AT4V0\",\"deliveryContext\":{\"isRedelivery\":false},\"timestamp\":1679238656918,\"source\":{\"type\":\"user\",\"userId\":\"Ua19163cfb927dce013b280948e91caf0\"},\"mode\":\"active\"}]}\n",
            "{\"destination\":\"U54dcf9ab5f592860405fcec0d6979997\",\"events\":[{\"type\":\"follow\",\"webhookEventId\":\"01GVX6RY5CCE5540D6C5HCD29F\",\"deliveryContext\":{\"isRedelivery\":false},\"timestamp\":1679238657713,\"source\":{\"type\":\"user\",\"userId\":\"Ua19163cfb927dce013b280948e91caf0\"},\"replyToken\":\"b2e43f0ecbab4becbfe99749dfb1491e\",\"mode\":\"active\"}]}\n",
            "{\"displayName\": \"\\u970d\\u723e\", \"language\": \"zh-TW\", \"pictureUrl\": \"https://sprofile.line-scdn.net/0h0mTsRgj-b0J5CkAlQuURPQlabChaezZQAGp3dksINydCMiwSBj8mIk0OYnMQPyASUmUmJUVfYnZ1GRgkZ1yTdn46MXVDOy4RXWgioA\", \"userId\": \"Ua19163cfb927dce013b280948e91caf0\"}\n"
          ]
        },
        {
          "output_type": "stream",
          "name": "stderr",
          "text": [
            "INFO:werkzeug:127.0.0.1 - - [19/Mar/2023 15:11:00] \"POST / HTTP/1.1\" 200 -\n"
          ]
        },
        {
          "output_type": "stream",
          "name": "stdout",
          "text": [
            "{\"destination\":\"U54dcf9ab5f592860405fcec0d6979997\",\"events\":[{\"type\":\"postback\",\"postback\":{\"data\":\"Story,武俠\"},\"webhookEventId\":\"01GVX6S2RCHANAENMVGC82XJDK\",\"deliveryContext\":{\"isRedelivery\":false},\"timestamp\":1679238662422,\"source\":{\"type\":\"user\",\"userId\":\"Ua19163cfb927dce013b280948e91caf0\"},\"replyToken\":\"7bbf62f296604ca8815a8511952818dd\",\"mode\":\"active\"},{\"type\":\"message\",\"message\":{\"type\":\"text\",\"id\":\"17830529988182\",\"text\":\"故事描述如下\"},\"webhookEventId\":\"01GVX6S2RDYWYC2KQNJGDZNVAN\",\"deliveryContext\":{\"isRedelivery\":false},\"timestamp\":1679238662422,\"source\":{\"type\":\"user\",\"userId\":\"Ua19163cfb927dce013b280948e91caf0\"},\"replyToken\":\"8c5c5fade28f4eccb85a681727a9aa85\",\"mode\":\"active\"}]}\n"
          ]
        },
        {
          "output_type": "stream",
          "name": "stderr",
          "text": [
            "INFO:werkzeug:127.0.0.1 - - [19/Mar/2023 15:11:04] \"POST / HTTP/1.1\" 200 -\n"
          ]
        }
      ]
    },
    {
      "cell_type": "code",
      "metadata": {
        "id": "ylIDIK3pbu32"
      },
      "source": [],
      "execution_count": 48,
      "outputs": []
    }
  ]
}