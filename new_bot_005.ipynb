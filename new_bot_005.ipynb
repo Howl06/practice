{
  "cells": [
    {
      "cell_type": "code",
      "execution_count": 1,
      "metadata": {
        "id": "ylkDvkEfEZIw",
        "colab": {
          "base_uri": "https://localhost:8080/",
          "height": 35
        },
        "outputId": "3872ff7c-e2ec-4702-a020-125dfff6d6a7"
      },
      "outputs": [
        {
          "output_type": "execute_result",
          "data": {
            "text/plain": [
              "'\\n掛載Google硬碟\\n安裝套件\\n引用套件\\nAPP應用準備\\n消息準備\\nhandler執行方法設計\\n啟動應用\\n\\n'"
            ],
            "application/vnd.google.colaboratory.intrinsic+json": {
              "type": "string"
            }
          },
          "metadata": {},
          "execution_count": 1
        }
      ],
      "source": [
        "'''\n",
        "掛載Google硬碟\n",
        "安裝套件\n",
        "引用套件\n",
        "APP應用準備\n",
        "消息準備\n",
        "handler執行方法設計\n",
        "啟動應用\n",
        "\n",
        "'''"
      ]
    },
    {
      "cell_type": "code",
      "execution_count": 2,
      "metadata": {
        "id": "2mDqhB78Fxp6",
        "colab": {
          "base_uri": "https://localhost:8080/"
        },
        "outputId": "cfc385aa-2ed2-4ac8-9af1-5b94d487ca96"
      },
      "outputs": [
        {
          "output_type": "stream",
          "name": "stdout",
          "text": [
            "Drive already mounted at /content/drive; to attempt to forcibly remount, call drive.mount(\"/content/drive\", force_remount=True).\n"
          ]
        }
      ],
      "source": [
        "'''\n",
        "\n",
        "資料 mapping 至google drive\n",
        "\n",
        "把資料寫在/content/drive\n",
        "\n",
        "即可保存在 google drive內\n",
        "\n",
        "'''\n",
        "from google.colab import drive\n",
        "drive.mount('/content/drive')"
      ]
    },
    {
      "cell_type": "code",
      "execution_count": 3,
      "metadata": {
        "id": "4iGRs1oYD6Ca",
        "colab": {
          "base_uri": "https://localhost:8080/",
          "height": 35
        },
        "outputId": "b49ea8b4-6fff-40ce-9773-38cf39c956be"
      },
      "outputs": [
        {
          "output_type": "execute_result",
          "data": {
            "text/plain": [
              "'\\n\\n流程解析\\n\\n'"
            ],
            "application/vnd.google.colaboratory.intrinsic+json": {
              "type": "string"
            }
          },
          "metadata": {},
          "execution_count": 3
        }
      ],
      "source": [
        "'''\n",
        "\n",
        "流程解析\n",
        "\n",
        "'''\n"
      ]
    },
    {
      "cell_type": "code",
      "execution_count": 4,
      "metadata": {
        "id": "JyhJqq8KImyR",
        "colab": {
          "base_uri": "https://localhost:8080/"
        },
        "outputId": "c5ee6b01-fde2-4802-fe01-f3d860bf0d6b"
      },
      "outputs": [
        {
          "output_type": "stream",
          "name": "stdout",
          "text": [
            "Looking in indexes: https://pypi.org/simple, https://us-python.pkg.dev/colab-wheels/public/simple/\n",
            "Requirement already satisfied: line-bot-sdk in /usr/local/lib/python3.9/dist-packages (2.4.2)\n",
            "Requirement already satisfied: flask in /usr/local/lib/python3.9/dist-packages (2.2.3)\n",
            "Requirement already satisfied: flask-ngrok in /usr/local/lib/python3.9/dist-packages (0.0.25)\n",
            "Requirement already satisfied: aiohttp==3.8.4 in /usr/local/lib/python3.9/dist-packages (from line-bot-sdk) (3.8.4)\n",
            "Requirement already satisfied: requests==2.28.2 in /usr/local/lib/python3.9/dist-packages (from line-bot-sdk) (2.28.2)\n",
            "Requirement already satisfied: future in /usr/local/lib/python3.9/dist-packages (from line-bot-sdk) (0.16.0)\n",
            "Requirement already satisfied: aiosignal>=1.1.2 in /usr/local/lib/python3.9/dist-packages (from aiohttp==3.8.4->line-bot-sdk) (1.3.1)\n",
            "Requirement already satisfied: charset-normalizer<4.0,>=2.0 in /usr/local/lib/python3.9/dist-packages (from aiohttp==3.8.4->line-bot-sdk) (3.1.0)\n",
            "Requirement already satisfied: async-timeout<5.0,>=4.0.0a3 in /usr/local/lib/python3.9/dist-packages (from aiohttp==3.8.4->line-bot-sdk) (4.0.2)\n",
            "Requirement already satisfied: multidict<7.0,>=4.5 in /usr/local/lib/python3.9/dist-packages (from aiohttp==3.8.4->line-bot-sdk) (6.0.4)\n",
            "Requirement already satisfied: frozenlist>=1.1.1 in /usr/local/lib/python3.9/dist-packages (from aiohttp==3.8.4->line-bot-sdk) (1.3.3)\n",
            "Requirement already satisfied: attrs>=17.3.0 in /usr/local/lib/python3.9/dist-packages (from aiohttp==3.8.4->line-bot-sdk) (22.2.0)\n",
            "Requirement already satisfied: yarl<2.0,>=1.0 in /usr/local/lib/python3.9/dist-packages (from aiohttp==3.8.4->line-bot-sdk) (1.8.2)\n",
            "Requirement already satisfied: certifi>=2017.4.17 in /usr/local/lib/python3.9/dist-packages (from requests==2.28.2->line-bot-sdk) (2022.12.7)\n",
            "Requirement already satisfied: urllib3<1.27,>=1.21.1 in /usr/local/lib/python3.9/dist-packages (from requests==2.28.2->line-bot-sdk) (1.26.15)\n",
            "Requirement already satisfied: idna<4,>=2.5 in /usr/local/lib/python3.9/dist-packages (from requests==2.28.2->line-bot-sdk) (2.10)\n",
            "Requirement already satisfied: Werkzeug>=2.2.2 in /usr/local/lib/python3.9/dist-packages (from flask) (2.2.3)\n",
            "Requirement already satisfied: itsdangerous>=2.0 in /usr/local/lib/python3.9/dist-packages (from flask) (2.1.2)\n",
            "Requirement already satisfied: click>=8.0 in /usr/local/lib/python3.9/dist-packages (from flask) (8.1.3)\n",
            "Requirement already satisfied: importlib-metadata>=3.6.0 in /usr/local/lib/python3.9/dist-packages (from flask) (6.0.0)\n",
            "Requirement already satisfied: Jinja2>=3.0 in /usr/local/lib/python3.9/dist-packages (from flask) (3.1.2)\n",
            "Requirement already satisfied: zipp>=0.5 in /usr/local/lib/python3.9/dist-packages (from importlib-metadata>=3.6.0->flask) (3.15.0)\n",
            "Requirement already satisfied: MarkupSafe>=2.0 in /usr/local/lib/python3.9/dist-packages (from Jinja2>=3.0->flask) (2.1.2)\n"
          ]
        }
      ],
      "source": [
        "!pip install line-bot-sdk flask flask-ngrok"
      ]
    },
    {
      "cell_type": "code",
      "execution_count": 5,
      "metadata": {
        "id": "rJDNE2TYEaYA"
      },
      "outputs": [],
      "source": [
        "'''\n",
        "引用套件\n",
        "'''\n",
        "\n",
        "# 引用Web Server套件\n",
        "from flask import Flask, request, abort, jsonify\n",
        "\n",
        "# 載入json處理套件\n",
        "import json\n",
        "\n",
        "# 外部連結自動生成套件\n",
        "from flask_ngrok import run_with_ngrok\n",
        "\n",
        "# 從linebot 套件包裡引用 LineBotApi 與 WebhookHandler 類別\n",
        "from linebot import (\n",
        "    LineBotApi, WebhookHandler\n",
        ")\n",
        "\n",
        "# 引用無效簽章錯誤\n",
        "from linebot.exceptions import (\n",
        "    InvalidSignatureError\n",
        ")\n"
      ]
    },
    {
      "cell_type": "code",
      "execution_count": 6,
      "metadata": {
        "id": "XssY97Y9Eahe"
      },
      "outputs": [],
      "source": [
        "'''\n",
        "建置主程序\n",
        "\n",
        "建置handler與 line_bot_api\n",
        "'''\n",
        "\n",
        "# 設定Server啟用細節\n",
        "app = Flask(__name__,static_url_path = \"/material\" , static_folder = \"./material/\")\n",
        "run_with_ngrok(app)\n",
        "\n",
        "# 生成實體物件\n",
        "# 跟line 溝通用\n",
        "line_bot_api = LineBotApi(\"vtaRo4pkLqIZjk50gBJ53fFtMpg+8unl4TvLKbyvENmbWkzdriMNIeVm87ZWRBdTeDL7YM4hGte+BrNMmYscJ1WNPvCQbheXUbVevrlKB3zP3CaeRjbPQRPHMsqW+037bLOogqjOrh5ssRj53kqQMQdB04t89/1O/w1cDnyilFU=\")\n",
        "# 收發訊息用\n",
        "handler = WebhookHandler(\"de385af73d2121e65ca6fc0490991b02\")"
      ]
    },
    {
      "cell_type": "code",
      "execution_count": 7,
      "metadata": {
        "id": "jyIFMBi4EvTl"
      },
      "outputs": [],
      "source": [
        "'''\n",
        "建置主程序的API入口\n",
        "  接受Line傳過來的消息\n",
        "  並取出消息內容\n",
        "  將消息內容存在google drive的檔案內\n",
        "  並請handler 進行消息驗證與轉發\n",
        "'''\n",
        "\n",
        "\n",
        "# 啟動server對外接口，使Line能丟消息進來\n",
        "@app.route(\"/\", methods=['POST'])\n",
        "def callback():\n",
        "    # get X-Line-Signature header value\n",
        "    signature = request.headers['X-Line-Signature']\n",
        "\n",
        "    # get request body as text\n",
        "    body = request.get_data(as_text=True)\n",
        "    print(body)\n",
        "\n",
        "    # 記錄用戶log\n",
        "    f = open(\"/content/drive/MyDrive/ai-event.log\", \"a\")\n",
        "    f.write(body)\n",
        "    f.close()\n",
        "\n",
        "    # handle webhook body\n",
        "    try:\n",
        "        handler.handle(body, signature)\n",
        "    except InvalidSignatureError:\n",
        "        abort(400)\n",
        "\n",
        "    return 'OK'"
      ]
    },
    {
      "cell_type": "code",
      "execution_count": 30,
      "metadata": {
        "id": "CLJukg__Yaal"
      },
      "outputs": [],
      "source": [
        "'''\n",
        "\n",
        "準備QuickReply的Button\n",
        "QuickReply 快速回復\n",
        "有很多小按鍵,按鍵使用後消失\n",
        "準備準備QuickReply 必須先把按鍵準備好\n",
        "\n",
        "'''\n",
        "\n",
        "# 引入相關套件\n",
        "from linebot.models import (\n",
        "    MessageAction, URIAction,\n",
        "    PostbackAction, DatetimePickerAction,\n",
        "    CameraAction, CameraRollAction, LocationAction,\n",
        "    QuickReply, QuickReplyButton\n",
        ")\n",
        "\n",
        "# 創建QuickReplyButton \n",
        "\n",
        "## 點擊後，以用戶身份發送文字消息\n",
        "## MessageAction\n",
        "\"\"\"\n",
        "QuickReplyButton\n",
        "action >> 填 action\n",
        "MessageAction 以用戶發文字\n",
        "label 按鍵的文字\n",
        "text 以用戶角度講話\n",
        "\"\"\" \n",
        "textQuickReplyButton = QuickReplyButton(\n",
        "    action=MessageAction(\n",
        "        label=\"不是很開心喔\", \n",
        "        text=\"你怎麼敢跟我這樣說話!\"\n",
        "    )\n",
        ")\n",
        "\n",
        "## 點擊後，彈跳出選擇時間之視窗\n",
        "## DatetimePickerAction\n",
        "\"\"\"\n",
        "DatetimePickerAction\n",
        "label 按鍵的文字\n",
        "data 隱藏資訊給用戶\n",
        "mode date 給用戶輸入的畫面是天數\n",
        "\"\"\" \n",
        "dateQuickReplyButton = QuickReplyButton(\n",
        "    action=DatetimePickerAction(\n",
        "        label=\"時間選擇\",\n",
        "        data=\"data3\",                       \n",
        "        mode=\"date\"\n",
        "    )\n",
        ")\n",
        "\n",
        "\n",
        "## 點擊後，開啟相機\n",
        "## CameraAction\n",
        "cameraQuickReplyButton = QuickReplyButton(\n",
        "    action=CameraAction(label=\"拍照\")\n",
        ")\n",
        "\n",
        "## 點擊後，切換至照片相簿選擇\n",
        "cameraRollQRB = QuickReplyButton(\n",
        "    action=CameraRollAction(label=\"選擇照片\")\n",
        ")\n",
        "\n",
        "## 點擊後，跳出地理位置\n",
        "# GPS地理位子\n",
        "locationQRB = QuickReplyButton(\n",
        "    action=LocationAction(label=\"地理位置\")\n",
        ")\n",
        "\n",
        "## 點擊後，以Postback事件回應Server \n",
        "\"\"\"\n",
        "利用自己設計的Data1 做很多特殊功能\n",
        "\"\"\"\n",
        "postbackQRB = QuickReplyButton(\n",
        "    action=PostbackAction(label=\"我是PostbackEvent\", data=\"Data1\")\n",
        ")"
      ]
    },
    {
      "cell_type": "code",
      "execution_count": 24,
      "metadata": {
        "id": "wIN_RgjHYiKe"
      },
      "outputs": [],
      "source": [
        "'''\n",
        "\n",
        "以QuickReply封裝該些QuickReply Button\n",
        "\n",
        "'''\n",
        "## 設計QuickReplyButton的List\n",
        "# QuickReplyButton的參數 items 通常為一個list\n",
        "# list 裡面放那些buttons\n",
        "quickReplyList = QuickReply(\n",
        "    items = [textQuickReplyButton, dateQuickReplyButton, cameraQuickReplyButton, cameraRollQRB, locationQRB,postbackQRB]\n",
        ")"
      ]
    },
    {
      "cell_type": "code",
      "execution_count": 25,
      "metadata": {
        "id": "QGQAcwWoYlb0"
      },
      "outputs": [],
      "source": [
        "'''\n",
        "\n",
        "製作TextSendMessage，並將剛封裝的QuickReply放入\n",
        "\n",
        "'''\n",
        "## 將quickReplyList 塞入TextSendMessage 中 \n",
        "from linebot.models import (\n",
        "    TextSendMessage,\n",
        ")\n",
        "# quick reply 通常必須夾帶在 xxxSendMessage的裡面\n",
        "# xxxxxSendMessage\n",
        "# 都會有quick reply參數 此參數就是放在QuickReply\n",
        "quick_reply_text_send_message = TextSendMessage(text='發送問題給用戶，請用戶回答', quick_reply=quickReplyList)"
      ]
    },
    {
      "cell_type": "code",
      "execution_count": 26,
      "metadata": {
        "id": "CsDjhbugRh9Z"
      },
      "outputs": [],
      "source": [
        "'''\n",
        "\n",
        "設計一個字典\n",
        "    當用戶輸入相應文字消息時，系統會從此挑揀消息\n",
        "\n",
        "'''\n",
        "\n",
        "# 將消息模型，文字收取消息與文字寄發消息 引入\n",
        "from linebot.models import (\n",
        "    MessageEvent, TextMessage, TextSendMessage, ImageSendMessage\n",
        ")\n",
        "\n",
        "# 根據自定義菜單四張故事線的圖，設定相對應image\n",
        "# 用戶輸入@reply\n",
        "template_message_dict = {\n",
        "  \"@reply\":quick_reply_text_send_message,\n",
        "}"
      ]
    },
    {
      "cell_type": "code",
      "execution_count": 27,
      "metadata": {
        "id": "dNFhpNPPTywd"
      },
      "outputs": [],
      "source": [
        "#用戶點擊button後，觸發postback event，對其回傳做相對應處理\n",
        "from linebot.models import PostbackEvent\n",
        "\n",
        "# Postback很重要 結合QuuckReply 可以做很多好玩的不可逆消息\n",
        "@handler.add(PostbackEvent)\n",
        "def handle_post_message(event):\n",
        "    user_profile = line_bot_api.get_profile(event.source.user_id)\n",
        "    if (event.postback.data.find('Data1')== 0):\n",
        "        with open(\"user_profile_business.txt\", \"a\") as myfile:\n",
        "            myfile.write(json.dumps(vars(user_profile),sort_keys=True))\n",
        "            myfile.write('\\n')\n",
        "            line_bot_api.reply_message(\n",
        "            event.reply_token,\n",
        "                TextSendMessage(\n",
        "                    text='請稍待，會有專人與您聯繫'\n",
        "                )\n",
        "            )\n",
        "    elif (event.postback.data.find('Data2') == 0):\n",
        "        with open(\"user_profile_tutorial.txt\", \"a\") as myfile:\n",
        "            myfile.write(json.dumps(vars(user_profile),sort_keys=True))\n",
        "            myfile.write('\\n')\n",
        "            line_bot_api.reply_message(\n",
        "            event.reply_token,\n",
        "                TextSendMessage(\n",
        "                    text='請稍待，我們會派專家您聯繫'\n",
        "                )\n",
        "            )\n",
        "    else:\n",
        "        pass"
      ]
    },
    {
      "cell_type": "code",
      "execution_count": 28,
      "metadata": {
        "id": "gUFnh86kQSzk"
      },
      "outputs": [],
      "source": [
        "# 用戶發出文字消息時， 按條件內容, 回傳文字消息\n",
        "# 為了要觸發字典裡的消息 設計當用戶發文字 就會到字典裡找消息\n",
        "@handler.add(MessageEvent, message=TextMessage)\n",
        "def handle_message(event):\n",
        "    \n",
        "    if(event.message.text.find('@')!= -1):\n",
        "        line_bot_api.reply_message(\n",
        "        event.reply_token,\n",
        "        template_message_dict.get(event.message.text)\n",
        "        )\n",
        "    else:\n",
        "        line_bot_api.reply_message(\n",
        "        event.reply_token,\n",
        "        TextSendMessage(text=\"字典內查無此字，請輸入@reply\")\n",
        "        )"
      ]
    },
    {
      "cell_type": "code",
      "execution_count": 29,
      "metadata": {
        "id": "NVkYb65fHY9W",
        "colab": {
          "base_uri": "https://localhost:8080/"
        },
        "outputId": "a5de0f55-ff20-446a-b434-9121c40c288a"
      },
      "outputs": [
        {
          "output_type": "stream",
          "name": "stdout",
          "text": [
            " * Serving Flask app '__main__'\n",
            " * Debug mode: off\n"
          ]
        },
        {
          "output_type": "stream",
          "name": "stderr",
          "text": [
            "INFO:werkzeug:\u001b[31m\u001b[1mWARNING: This is a development server. Do not use it in a production deployment. Use a production WSGI server instead.\u001b[0m\n",
            " * Running on http://127.0.0.1:5000\n",
            "INFO:werkzeug:\u001b[33mPress CTRL+C to quit\u001b[0m\n"
          ]
        },
        {
          "output_type": "stream",
          "name": "stdout",
          "text": [
            " * Running on http://7b63-35-243-189-45.ngrok.io\n",
            " * Traffic stats available on http://127.0.0.1:4040\n",
            "{\"destination\":\"U54dcf9ab5f592860405fcec0d6979997\",\"events\":[{\"type\":\"message\",\"message\":{\"type\":\"text\",\"id\":\"17811108493675\",\"text\":\"還好\"},\"webhookEventId\":\"01GVMH02B2R71RA8MEYCV3RED5\",\"deliveryContext\":{\"isRedelivery\":false},\"timestamp\":1678947387239,\"source\":{\"type\":\"user\",\"userId\":\"Ua19163cfb927dce013b280948e91caf0\"},\"replyToken\":\"2a74991f9562464da30d3030109257be\",\"mode\":\"active\"}]}\n"
          ]
        },
        {
          "output_type": "stream",
          "name": "stderr",
          "text": [
            "INFO:werkzeug:127.0.0.1 - - [16/Mar/2023 06:16:29] \"POST / HTTP/1.1\" 200 -\n",
            "ERROR:__main__:Exception on / [POST]\n",
            "Traceback (most recent call last):\n",
            "  File \"/usr/local/lib/python3.9/dist-packages/flask/app.py\", line 2528, in wsgi_app\n",
            "    response = self.full_dispatch_request()\n",
            "  File \"/usr/local/lib/python3.9/dist-packages/flask/app.py\", line 1825, in full_dispatch_request\n",
            "    rv = self.handle_user_exception(e)\n",
            "  File \"/usr/local/lib/python3.9/dist-packages/flask/app.py\", line 1823, in full_dispatch_request\n",
            "    rv = self.dispatch_request()\n",
            "  File \"/usr/local/lib/python3.9/dist-packages/flask/app.py\", line 1799, in dispatch_request\n",
            "    return self.ensure_sync(self.view_functions[rule.endpoint])(**view_args)\n",
            "  File \"<ipython-input-7-76ebdfe53b31>\", line 27, in callback\n",
            "    handler.handle(body, signature)\n",
            "  File \"/usr/local/lib/python3.9/dist-packages/linebot/webhook.py\", line 263, in handle\n",
            "    self.__invoke_func(func, event, payload)\n",
            "  File \"/usr/local/lib/python3.9/dist-packages/linebot/webhook.py\", line 275, in __invoke_func\n",
            "    func(event)\n",
            "  File \"<ipython-input-28-a9ad40078788>\", line 7, in handle_message\n",
            "    line_bot_api.reply_message(\n",
            "  File \"/usr/local/lib/python3.9/dist-packages/linebot/api.py\", line 112, in reply_message\n",
            "    'messages': [message.as_json_dict() for message in messages],\n",
            "  File \"/usr/local/lib/python3.9/dist-packages/linebot/api.py\", line 112, in <listcomp>\n",
            "    'messages': [message.as_json_dict() for message in messages],\n",
            "AttributeError: 'NoneType' object has no attribute 'as_json_dict'\n",
            "INFO:werkzeug:127.0.0.1 - - [16/Mar/2023 06:16:37] \"\u001b[35m\u001b[1mPOST / HTTP/1.1\u001b[0m\" 500 -\n"
          ]
        },
        {
          "output_type": "stream",
          "name": "stdout",
          "text": [
            "{\"destination\":\"U54dcf9ab5f592860405fcec0d6979997\",\"events\":[{\"type\":\"message\",\"message\":{\"type\":\"text\",\"id\":\"17811109245119\",\"text\":\"@more\"},\"webhookEventId\":\"01GVMH0BEH3ZV4WKSAY9E1TJ5B\",\"deliveryContext\":{\"isRedelivery\":false},\"timestamp\":1678947396773,\"source\":{\"type\":\"user\",\"userId\":\"Ua19163cfb927dce013b280948e91caf0\"},\"replyToken\":\"2d8c748eead6475699e162341be4cffc\",\"mode\":\"active\"}]}\n",
            "{\"destination\":\"U54dcf9ab5f592860405fcec0d6979997\",\"events\":[{\"type\":\"message\",\"message\":{\"type\":\"text\",\"id\":\"17811110165228\",\"text\":\"@reply\"},\"webhookEventId\":\"01GVMH0Q63879T2WRRBH2S07CT\",\"deliveryContext\":{\"isRedelivery\":false},\"timestamp\":1678947408707,\"source\":{\"type\":\"user\",\"userId\":\"Ua19163cfb927dce013b280948e91caf0\"},\"replyToken\":\"f2b6153e88ce4436812f4a95c8052463\",\"mode\":\"active\"}]}\n"
          ]
        },
        {
          "output_type": "stream",
          "name": "stderr",
          "text": [
            "INFO:werkzeug:127.0.0.1 - - [16/Mar/2023 06:16:50] \"POST / HTTP/1.1\" 200 -\n"
          ]
        },
        {
          "output_type": "stream",
          "name": "stdout",
          "text": [
            "{\"destination\":\"U54dcf9ab5f592860405fcec0d6979997\",\"events\":[{\"type\":\"message\",\"message\":{\"type\":\"text\",\"id\":\"17811110812627\",\"text\":\"text2\"},\"webhookEventId\":\"01GVMH0ZB6PSSNNG5HTHBSC128\",\"deliveryContext\":{\"isRedelivery\":false},\"timestamp\":1678947416938,\"source\":{\"type\":\"user\",\"userId\":\"Ua19163cfb927dce013b280948e91caf0\"},\"replyToken\":\"cf7d5ab183e54a53b0619fea7f7bd507\",\"mode\":\"active\"}]}\n"
          ]
        },
        {
          "output_type": "stream",
          "name": "stderr",
          "text": [
            "INFO:werkzeug:127.0.0.1 - - [16/Mar/2023 06:16:58] \"POST / HTTP/1.1\" 200 -\n"
          ]
        },
        {
          "output_type": "stream",
          "name": "stdout",
          "text": [
            "{\"destination\":\"U54dcf9ab5f592860405fcec0d6979997\",\"events\":[{\"type\":\"message\",\"message\":{\"type\":\"text\",\"id\":\"17811117750518\",\"text\":\"@reply\"},\"webhookEventId\":\"01GVMH3PBW1036380E87TV02VW\",\"deliveryContext\":{\"isRedelivery\":false},\"timestamp\":1678947506246,\"source\":{\"type\":\"user\",\"userId\":\"Ua19163cfb927dce013b280948e91caf0\"},\"replyToken\":\"cfc0e3dea0a64129ab0a35ee31c36ca2\",\"mode\":\"active\"}]}\n"
          ]
        },
        {
          "output_type": "stream",
          "name": "stderr",
          "text": [
            "INFO:werkzeug:127.0.0.1 - - [16/Mar/2023 06:18:27] \"POST / HTTP/1.1\" 200 -\n"
          ]
        },
        {
          "output_type": "stream",
          "name": "stdout",
          "text": [
            "{\"destination\":\"U54dcf9ab5f592860405fcec0d6979997\",\"events\":[{\"type\":\"postback\",\"postback\":{\"data\":\"data3\",\"params\":{\"date\":\"2023-03-18\"}},\"webhookEventId\":\"01GVMH3WG3N5TVX2717JVHYMGE\",\"deliveryContext\":{\"isRedelivery\":false},\"timestamp\":1678947512624,\"source\":{\"type\":\"user\",\"userId\":\"Ua19163cfb927dce013b280948e91caf0\"},\"replyToken\":\"b642c3d9a7384f51b565cd497656992d\",\"mode\":\"active\"}]}\n"
          ]
        },
        {
          "output_type": "stream",
          "name": "stderr",
          "text": [
            "INFO:werkzeug:127.0.0.1 - - [16/Mar/2023 06:18:33] \"POST / HTTP/1.1\" 200 -\n",
            "INFO:werkzeug:127.0.0.1 - - [16/Mar/2023 06:18:58] \"POST / HTTP/1.1\" 200 -\n"
          ]
        },
        {
          "output_type": "stream",
          "name": "stdout",
          "text": [
            "{\"destination\":\"U54dcf9ab5f592860405fcec0d6979997\",\"events\":[{\"type\":\"message\",\"message\":{\"type\":\"image\",\"id\":\"17811120154120\",\"contentProvider\":{\"type\":\"line\"}},\"webhookEventId\":\"01GVMH4N9GWQQ01MEFD52MF0RM\",\"deliveryContext\":{\"isRedelivery\":false},\"timestamp\":1678947538062,\"source\":{\"type\":\"user\",\"userId\":\"Ua19163cfb927dce013b280948e91caf0\"},\"replyToken\":\"5dd5eb01c2894d2784deb7224bbd72c6\",\"mode\":\"active\"}]}\n",
            "{\"destination\":\"U54dcf9ab5f592860405fcec0d6979997\",\"events\":[{\"type\":\"message\",\"message\":{\"type\":\"text\",\"id\":\"17811120894043\",\"text\":\"@reply\"},\"webhookEventId\":\"01GVMH4Y3N2263E944P5T29AZA\",\"deliveryContext\":{\"isRedelivery\":false},\"timestamp\":1678947546754,\"source\":{\"type\":\"user\",\"userId\":\"Ua19163cfb927dce013b280948e91caf0\"},\"replyToken\":\"704040c8cfc64377acffe7511220c8e0\",\"mode\":\"active\"}]}\n"
          ]
        },
        {
          "output_type": "stream",
          "name": "stderr",
          "text": [
            "INFO:werkzeug:127.0.0.1 - - [16/Mar/2023 06:19:08] \"POST / HTTP/1.1\" 200 -\n"
          ]
        }
      ],
      "source": [
        "# 主程序運行\n",
        "app.run()"
      ]
    }
  ],
  "metadata": {
    "colab": {
      "name": "009_LineChatbot基本組成_範本訊息的缺點.ipynb",
      "provenance": []
    },
    "kernelspec": {
      "display_name": "Python 3",
      "language": "python",
      "name": "python3"
    },
    "language_info": {
      "codemirror_mode": {
        "name": "ipython",
        "version": 3
      },
      "file_extension": ".py",
      "mimetype": "text/x-python",
      "name": "python",
      "nbconvert_exporter": "python",
      "pygments_lexer": "ipython3",
      "version": "3.8.6"
    }
  },
  "nbformat": 4,
  "nbformat_minor": 0
}