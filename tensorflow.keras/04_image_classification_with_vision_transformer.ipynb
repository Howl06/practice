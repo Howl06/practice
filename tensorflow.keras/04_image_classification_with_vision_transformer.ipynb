{
  "cells": [
    {
      "cell_type": "markdown",
      "metadata": {
        "id": "view-in-github",
        "colab_type": "text"
      },
      "source": [
        "<a href=\"https://colab.research.google.com/github/Howl06/practice/blob/main/tensorflow.keras/04_image_classification_with_vision_transformer.ipynb\" target=\"_parent\"><img src=\"https://colab.research.google.com/assets/colab-badge.svg\" alt=\"Open In Colab\"/></a>"
      ]
    },
    {
      "cell_type": "markdown",
      "metadata": {
        "id": "kemtb5olf6Gi"
      },
      "source": [
        "# Image classification with Vision Transformer\n",
        "\n",
        "**Author:** [Khalid Salama](https://www.linkedin.com/in/khalid-salama-24403144/)<br>\n",
        "**Date created:** 2021/01/18<br>\n",
        "**Last modified:** 2021/01/18<br>\n",
        "**Description:** Implementing the Vision Transformer (ViT) model for image classification."
      ]
    },
    {
      "cell_type": "markdown",
      "metadata": {
        "id": "AGXMydtdf6Gk"
      },
      "source": [
        "## Introduction\n",
        "\n",
        "This example implements the [Vision Transformer (ViT)](https://arxiv.org/abs/2010.11929)\n",
        "model by Alexey Dosovitskiy et al. for image classification,\n",
        "and demonstrates it on the CIFAR-100 dataset.\n",
        "The ViT model applies the Transformer architecture with self-attention to sequences of\n",
        "image patches, without using convolution layers.\n",
        "\n",
        "This example requires TensorFlow 2.4 or higher, as well as\n",
        "[TensorFlow Addons](https://www.tensorflow.org/addons/overview),\n",
        "which can be installed using the following command:\n",
        "\n",
        "```python\n",
        "pip install -U tensorflow-addons\n",
        "```"
      ]
    },
    {
      "cell_type": "markdown",
      "metadata": {
        "id": "RgD8OoWlf6Gl"
      },
      "source": [
        "## Setup"
      ]
    },
    {
      "cell_type": "code",
      "source": [
        "!pip install -U tensorflow-addons"
      ],
      "metadata": {
        "colab": {
          "base_uri": "https://localhost:8080/"
        },
        "id": "4e0i1nrZgdwJ",
        "outputId": "8b4f9a1b-61de-4261-d210-560085f4148e"
      },
      "execution_count": 1,
      "outputs": [
        {
          "output_type": "stream",
          "name": "stdout",
          "text": [
            "Looking in indexes: https://pypi.org/simple, https://us-python.pkg.dev/colab-wheels/public/simple/\n",
            "Requirement already satisfied: tensorflow-addons in /usr/local/lib/python3.10/dist-packages (0.20.0)\n",
            "Requirement already satisfied: packaging in /usr/local/lib/python3.10/dist-packages (from tensorflow-addons) (23.1)\n",
            "Requirement already satisfied: typeguard<3.0.0,>=2.7 in /usr/local/lib/python3.10/dist-packages (from tensorflow-addons) (2.13.3)\n"
          ]
        }
      ]
    },
    {
      "cell_type": "code",
      "execution_count": 2,
      "metadata": {
        "id": "AqQ0-aKUf6Gl",
        "colab": {
          "base_uri": "https://localhost:8080/"
        },
        "outputId": "878d4d0b-dbf2-4a4e-cd18-1c910ec5bde9"
      },
      "outputs": [
        {
          "output_type": "stream",
          "name": "stderr",
          "text": [
            "/usr/local/lib/python3.10/dist-packages/tensorflow_addons/utils/tfa_eol_msg.py:23: UserWarning: \n",
            "\n",
            "TensorFlow Addons (TFA) has ended development and introduction of new features.\n",
            "TFA has entered a minimal maintenance and release mode until a planned end of life in May 2024.\n",
            "Please modify downstream libraries to take dependencies from other repositories in our TensorFlow community (e.g. Keras, Keras-CV, and Keras-NLP). \n",
            "\n",
            "For more information see: https://github.com/tensorflow/addons/issues/2807 \n",
            "\n",
            "  warnings.warn(\n"
          ]
        }
      ],
      "source": [
        "import numpy as np\n",
        "import tensorflow as tf\n",
        "from tensorflow import keras\n",
        "from tensorflow.keras import layers\n",
        "import tensorflow_addons as tfa"
      ]
    },
    {
      "cell_type": "markdown",
      "metadata": {
        "id": "W2-V1oTUf6Gl"
      },
      "source": [
        "## Prepare the data"
      ]
    },
    {
      "cell_type": "code",
      "execution_count": 3,
      "metadata": {
        "id": "m15Qal5Nf6Gm",
        "colab": {
          "base_uri": "https://localhost:8080/"
        },
        "outputId": "1a1a6bf7-be70-4134-d794-27944538e5df"
      },
      "outputs": [
        {
          "output_type": "stream",
          "name": "stdout",
          "text": [
            "x_train shape: (50000, 32, 32, 3) - y_train shape: (50000, 1)\n",
            "x_test shape: (10000, 32, 32, 3) - y_test shape: (10000, 1)\n"
          ]
        }
      ],
      "source": [
        "num_classes = 100\n",
        "input_shape = (32, 32, 3)\n",
        "\n",
        "(x_train, y_train), (x_test, y_test) = keras.datasets.cifar100.load_data()\n",
        "\n",
        "print(f\"x_train shape: {x_train.shape} - y_train shape: {y_train.shape}\")\n",
        "print(f\"x_test shape: {x_test.shape} - y_test shape: {y_test.shape}\")\n"
      ]
    },
    {
      "cell_type": "code",
      "source": [
        "from PIL import Image\n",
        "idx = np.random.randint(0, 50000)\n",
        "x_train_0 = Image.fromarray(x_train[idx]).resize((150, 150))\n",
        "x_train_0.show()"
      ],
      "metadata": {
        "colab": {
          "base_uri": "https://localhost:8080/",
          "height": 167
        },
        "id": "jHv6eGjw2oQh",
        "outputId": "c77c244b-fb6b-4a7d-bbd3-561f198724c7"
      },
      "execution_count": 4,
      "outputs": [
        {
          "output_type": "display_data",
          "data": {
            "text/plain": [
              "<PIL.Image.Image image mode=RGB size=150x150 at 0x7F7B27742110>"
            ],
            "image/png": "[encoded data removed]"
          },
          "metadata": {}
        }
      ]
    },
    {
      "cell_type": "markdown",
      "metadata": {
        "id": "tzfqBjDUf6Gm"
      },
      "source": [
        "## Configure the hyperparameters"
      ]
    },
    {
      "cell_type": "code",
      "execution_count": 5,
      "metadata": {
        "id": "BXSJGUbKf6Gm"
      },
      "outputs": [],
      "source": [
        "learning_rate = 0.001\n",
        "weight_decay = 0.0001\n",
        "batch_size = 256\n",
        "num_epochs = 100\n",
        "image_size = 72  # We'll resize input images to this size\n",
        "patch_size = 6  # Size of the patches to be extract from the input images 12 * 12 \n",
        "num_patches = (image_size // patch_size) ** 2 # 12 * 12 = 144\n",
        "projection_dim = 64 # self attention vector dim\n",
        "num_heads = 4 # self attention head\n",
        "transformer_units = [\n",
        "    projection_dim * 2,\n",
        "    projection_dim,\n",
        "]  # Size of the transformer layers\n",
        "transformer_layers = 8\n",
        "mlp_head_units = [2048, 1024]  # Size of the dense layers of the final classifier\n"
      ]
    },
    {
      "cell_type": "markdown",
      "metadata": {
        "id": "rVtBaN6Of6Gn"
      },
      "source": [
        "## Use data augmentation"
      ]
    },
    {
      "cell_type": "code",
      "execution_count": 6,
      "metadata": {
        "id": "g212rMowf6Gn"
      },
      "outputs": [],
      "source": [
        "data_augmentation = keras.Sequential(\n",
        "    [\n",
        "        layers.Normalization(),\n",
        "        layers.Resizing(image_size, image_size),\n",
        "        layers.RandomFlip(\"horizontal\"),\n",
        "        layers.RandomRotation(factor=0.02),\n",
        "        layers.RandomZoom(\n",
        "            height_factor=0.2, width_factor=0.2\n",
        "        ),\n",
        "    ],\n",
        "    name=\"data_augmentation\",\n",
        ")\n",
        "# Compute the mean and the variance of the training data for normalization.\n",
        "data_augmentation.layers[0].adapt(x_train)\n"
      ]
    },
    {
      "cell_type": "markdown",
      "metadata": {
        "id": "UJcCU23df6Gn"
      },
      "source": [
        "## Implement multilayer perceptron (MLP)"
      ]
    },
    {
      "cell_type": "code",
      "execution_count": 7,
      "metadata": {
        "id": "nnXPJzFVf6Gn"
      },
      "outputs": [],
      "source": [
        "\n",
        "def mlp(x, hidden_units, dropout_rate):\n",
        "    for units in hidden_units:\n",
        "        x = layers.Dense(units, activation=tf.nn.gelu)(x)\n",
        "        x = layers.Dropout(dropout_rate)(x)\n",
        "    return x\n"
      ]
    },
    {
      "cell_type": "markdown",
      "metadata": {
        "id": "256KWo74f6Go"
      },
      "source": [
        "## Implement patch creation as a layer"
      ]
    },
    {
      "cell_type": "code",
      "execution_count": 9,
      "metadata": {
        "id": "LeQEHO4ff6Go"
      },
      "outputs": [],
      "source": [
        "\n",
        "class Patches(layers.Layer):\n",
        "    def __init__(self, patch_size):\n",
        "        super(Patches, self).__init__()\n",
        "        self.patch_size = patch_size\n",
        "\n",
        "    def call(self, images):\n",
        "        batch_size = tf.shape(images)[0] # (BS, H, W, C)\n",
        "        patches = tf.image.extract_patches(\n",
        "            images=images,\n",
        "            sizes=[1, self.patch_size, self.patch_size, 1], # patch size\n",
        "            strides=[1, self.patch_size, self.patch_size, 1], # stride cut\n",
        "            rates=[1, 1, 1, 1],\n",
        "            padding=\"VALID\",\n",
        "        )\n",
        "        patch_dims = patches.shape[-1]\n",
        "        patches = tf.reshape(patches, [batch_size, -1, patch_dims]) \n",
        "        # (BS, # of pathes, P*P*C)\n",
        "        return patches\n"
      ]
    },
    {
      "cell_type": "code",
      "source": [
        "# test\n",
        "# class Patches_test(layers.Layer):\n",
        "#     def __init__(self, patch_size):\n",
        "#         super(Patches_test, self).__init__()\n",
        "#         self.patch_size = patch_size\n",
        "\n",
        "#     def call(self, images):\n",
        "#         batch_size = tf.shape(images)[0] # (BS, H, W, C)\n",
        "#         patches = tf.image.extract_patches(\n",
        "#             images=images,\n",
        "#             sizes=[1, self.patch_size, self.patch_size, 1], # patch size\n",
        "#             strides=[1, self.patch_size, self.patch_size, 1], # cut\n",
        "#             # [batch_rate, height_rate, width_rate, channel_rate]\n",
        "#             rates=[1, 2, 2, 1],\n",
        "#             padding=\"VALID\",\n",
        "#         )\n",
        "#         patch_dims = patches.shape[-1]\n",
        "#         patches = tf.reshape(patches, [batch_size, -1, patch_dims]) \n",
        "#         # (BS, # of pathes, P*P*C)\n",
        "#         return patches"
      ],
      "metadata": {
        "id": "S45QXR-jWUva"
      },
      "execution_count": 94,
      "outputs": []
    },
    {
      "cell_type": "code",
      "source": [
        "# import matplotlib.pyplot as plt\n",
        "\n",
        "# plt.figure(figsize=(4, 4))\n",
        "# image = x_train[np.random.choice(range(x_train.shape[0]))]\n",
        "# plt.imshow(image.astype(\"uint8\"))\n",
        "# plt.axis(\"off\")\n",
        "\n",
        "# resized_image = tf.image.resize(\n",
        "#     tf.convert_to_tensor([image]), size=(image_size, image_size)\n",
        "# )\n",
        "# patches = Patches_test(patch_size)(resized_image)\n",
        "# print(f\"Image size: {image_size} X {image_size}\")\n",
        "# print(f\"Patch size: {patch_size} X {patch_size}\")\n",
        "# print(f\"Patches per image: {patches.shape[1]}\")\n",
        "# print(f\"Elements per patch: {patches.shape[-1]}\") # Elements per patch: 108 = 6 * 6 * 3 = W * H * C\n",
        "\n",
        "# n = int(np.sqrt(patches.shape[1]))\n",
        "# plt.figure(figsize=(4, 4))\n",
        "# for i, patch in enumerate(patches[0]):\n",
        "#     ax = plt.subplot(n, n, i + 1)\n",
        "#     patch_img = tf.reshape(patch, (patch_size, patch_size, 3))\n",
        "#     plt.imshow(patch_img.numpy().astype(\"uint8\"))\n",
        "#     plt.axis(\"off\")\n",
        "# print(patch.shape)"
      ],
      "metadata": {
        "colab": {
          "base_uri": "https://localhost:8080/",
          "height": 759
        },
        "id": "btd0UX25XNJG",
        "outputId": "8ce2c74a-2706-4a9c-ad87-3baf4781bfd1"
      },
      "execution_count": 71,
      "outputs": [
        {
          "output_type": "stream",
          "name": "stdout",
          "text": [
            "Image size: 72 X 72\n",
            "Patch size: 2 X 2\n",
            "Patches per image: 1225\n",
            "Elements per patch: 12\n",
            "(12,)\n"
          ]
        },
        {
          "output_type": "display_data",
          "data": {
            "text/plain": [
              "<Figure size 400x400 with 1 Axes>"
            ],
            "image/png": "[encoded data removed]"
          },
          "metadata": {}
        },
        {
          "output_type": "display_data",
          "data": {
            "text/plain": [
              "<Figure size 400x400 with 1225 Axes>"
            ],
            "image/png": "[encoded data removed]"
          },
          "metadata": {}
        }
      ]
    },
    {
      "cell_type": "code",
      "source": [
        "\n",
        "# images = np.random.randint(0, 6, (2, 4, 4, 3))\n",
        "\n",
        "# patch_size = 2  \n",
        "# strides = strides=[1, patch_size, patch_size, 1]  # 在高度和宽度方向上的步长\n",
        "\n",
        "# rates = [1, 3, 3, 1]  # [batch_rate, height_rate, width_rate, channel_rate]\n",
        "\n",
        "# patches_test2 = tf.image.extract_patches(\n",
        "#     images=images,\n",
        "#     sizes=[1, patch_size, patch_size, 1],\n",
        "#     strides=strides,\n",
        "#     rates=rates,\n",
        "#     padding=\"VALID\"\n",
        "# )\n",
        "\n",
        "# # print size\n",
        "# print(images.shape)\n",
        "# print(images)\n",
        "# print(patches_test2)"
      ],
      "metadata": {
        "colab": {
          "base_uri": "https://localhost:8080/"
        },
        "id": "Qj5k1I3Jdy_I",
        "outputId": "054e7f7d-7840-4743-81ba-8486b6e64a83"
      },
      "execution_count": 10,
      "outputs": [
        {
          "output_type": "stream",
          "name": "stdout",
          "text": [
            "(2, 4, 4, 3)\n",
            "[[[[2 0 5]\n",
            "   [3 2 1]\n",
            "   [3 4 4]\n",
            "   [4 4 4]]\n",
            "\n",
            "  [[1 0 1]\n",
            "   [1 2 0]\n",
            "   [1 1 1]\n",
            "   [1 4 1]]\n",
            "\n",
            "  [[5 4 0]\n",
            "   [3 1 5]\n",
            "   [4 3 4]\n",
            "   [4 5 4]]\n",
            "\n",
            "  [[1 4 3]\n",
            "   [2 1 0]\n",
            "   [1 5 4]\n",
            "   [1 2 0]]]\n",
            "\n",
            "\n",
            " [[[1 4 3]\n",
            "   [1 0 3]\n",
            "   [1 4 2]\n",
            "   [0 5 1]]\n",
            "\n",
            "  [[0 2 1]\n",
            "   [0 3 4]\n",
            "   [0 5 5]\n",
            "   [1 2 3]]\n",
            "\n",
            "  [[5 0 2]\n",
            "   [0 2 3]\n",
            "   [1 4 3]\n",
            "   [1 3 4]]\n",
            "\n",
            "  [[1 3 5]\n",
            "   [5 2 3]\n",
            "   [1 2 5]\n",
            "   [3 3 3]]]]\n",
            "tf.Tensor(\n",
            "[[[[2 0 5 4 4 4 1 4 3 1 2 0]]]\n",
            "\n",
            "\n",
            " [[[1 4 3 0 5 1 1 3 5 3 3 3]]]], shape=(2, 1, 1, 12), dtype=int64)\n"
          ]
        }
      ]
    },
    {
      "cell_type": "markdown",
      "metadata": {
        "id": "W4c6nHKef6Go"
      },
      "source": [
        "Let's display patches for a sample image"
      ]
    },
    {
      "cell_type": "code",
      "execution_count": 10,
      "metadata": {
        "id": "1A8WH37Bf6Go",
        "colab": {
          "base_uri": "https://localhost:8080/",
          "height": 742
        },
        "outputId": "77b36aa7-80a7-4330-a2fc-10417115829f"
      },
      "outputs": [
        {
          "output_type": "stream",
          "name": "stdout",
          "text": [
            "Image size: 72 X 72\n",
            "Patch size: 6 X 6\n",
            "Patches per image: 144\n",
            "Elements per patch: 108\n"
          ]
        },
        {
          "output_type": "display_data",
          "data": {
            "text/plain": [
              "<Figure size 400x400 with 1 Axes>"
            ],
            "image/png": "[encoded data removed]"
          },
          "metadata": {}
        },
        {
          "output_type": "display_data",
          "data": {
            "text/plain": [
              "<Figure size 400x400 with 144 Axes>"
            ],
            "image/png": "[encoded data removed]"
          },
          "metadata": {}
        }
      ],
      "source": [
        "import matplotlib.pyplot as plt\n",
        "\n",
        "plt.figure(figsize=(4, 4))\n",
        "image = x_train[np.random.choice(range(x_train.shape[0]))]\n",
        "plt.imshow(image.astype(\"uint8\"))\n",
        "plt.axis(\"off\")\n",
        "\n",
        "resized_image = tf.image.resize(\n",
        "    tf.convert_to_tensor([image]), size=(image_size, image_size)\n",
        ")\n",
        "patches = Patches(patch_size)(resized_image)\n",
        "print(f\"Image size: {image_size} X {image_size}\")\n",
        "print(f\"Patch size: {patch_size} X {patch_size}\")\n",
        "print(f\"Patches per image: {patches.shape[1]}\")\n",
        "print(f\"Elements per patch: {patches.shape[-1]}\") # Elements per patch: 108 = 6 * 6 * 3 = W * H * C\n",
        "\n",
        "n = int(np.sqrt(patches.shape[1]))\n",
        "plt.figure(figsize=(4, 4))\n",
        "for i, patch in enumerate(patches[0]):\n",
        "    ax = plt.subplot(n, n, i + 1)\n",
        "    patch_img = tf.reshape(patch, (patch_size, patch_size, 3))\n",
        "    plt.imshow(patch_img.numpy().astype(\"uint8\"))\n",
        "    plt.axis(\"off\")"
      ]
    },
    {
      "cell_type": "markdown",
      "metadata": {
        "id": "MyLCB9ptf6Go"
      },
      "source": [
        "## Implement the patch encoding layer\n",
        "\n",
        "The `PatchEncoder` layer will linearly transform a patch by projecting it into a\n",
        "vector of size `projection_dim`. In addition, it adds a learnable position\n",
        "embedding to the projected vector."
      ]
    },
    {
      "cell_type": "code",
      "execution_count": 11,
      "metadata": {
        "id": "NmAzpr1Uf6Go"
      },
      "outputs": [],
      "source": [
        "# projection = dense\n",
        "class PatchEncoder(layers.Layer):\n",
        "    def __init__(self, num_patches, projection_dim):\n",
        "        super(PatchEncoder, self).__init__()\n",
        "        self.num_patches = num_patches\n",
        "        self.projection = layers.Dense(units=projection_dim)\n",
        "        # auto_weight to create\n",
        "        self.position_embedding = layers.Embedding(\n",
        "            input_dim=num_patches, output_dim=projection_dim\n",
        "        )\n",
        "\n",
        "    def call(self, patch):\n",
        "        positions = tf.range(start=0, limit=self.num_patches, delta=1)\n",
        "        encoded = self.projection(patch) + self.position_embedding(positions)\n",
        "        return encoded\n"
      ]
    },
    {
      "cell_type": "markdown",
      "metadata": {
        "id": "GQaT42Skf6Gp"
      },
      "source": [
        "## Build the ViT model\n",
        "\n",
        "The ViT model consists of multiple Transformer blocks,\n",
        "which use the `layers.MultiHeadAttention` layer as a self-attention mechanism\n",
        "applied to the sequence of patches. The Transformer blocks produce a\n",
        "`[batch_size, num_patches, projection_dim]` tensor, which is processed via an\n",
        "classifier head with softmax to produce the final class probabilities output.\n",
        "\n",
        "Unlike the technique described in the [paper](https://arxiv.org/abs/2010.11929),\n",
        "which prepends a learnable embedding to the sequence of encoded patches to serve\n",
        "as the image representation, all the outputs of the final Transformer block are\n",
        "reshaped with `layers.Flatten()` and used as the image\n",
        "representation input to the classifier head.\n",
        "Note that the `layers.GlobalAveragePooling1D` layer\n",
        "could also be used instead to aggregate the outputs of the Transformer block,\n",
        "especially when the number of patches and the projection dimensions are large."
      ]
    },
    {
      "cell_type": "code",
      "execution_count": 12,
      "metadata": {
        "id": "RFYGWaQLf6Gp"
      },
      "outputs": [],
      "source": [
        "\n",
        "def create_vit_classifier():\n",
        "    inputs = layers.Input(shape=input_shape)\n",
        "    # Augment data.\n",
        "    augmented = data_augmentation(inputs)\n",
        "    # Create patches.\n",
        "    patches = Patches(patch_size)(augmented)\n",
        "    # Encode patches.\n",
        "    encoded_patches = PatchEncoder(num_patches, projection_dim)(patches)\n",
        "\n",
        "    # Create multiple layers of the Transformer block.\n",
        "    for _ in range(transformer_layers):\n",
        "        # Layer normalization 1.\n",
        "        x1 = layers.LayerNormalization(epsilon=1e-6)(encoded_patches)\n",
        "        # Create a multi-head attention layer.\n",
        "        attention_output = layers.MultiHeadAttention(\n",
        "            num_heads=num_heads, key_dim=projection_dim, dropout=0.1\n",
        "        )(x1, x1)\n",
        "        # Skip connection 1.\n",
        "        x2 = layers.Add()([attention_output, encoded_patches])\n",
        "        # Layer normalization 2.\n",
        "        x3 = layers.LayerNormalization(epsilon=1e-6)(x2)\n",
        "        # MLP.\n",
        "        x3 = mlp(x3, hidden_units=transformer_units, dropout_rate=0.1)\n",
        "        # Skip connection 2.\n",
        "        encoded_patches = layers.Add()([x3, x2])\n",
        "\n",
        "    # Create a [batch_size, projection_dim] tensor.\n",
        "    representation = layers.LayerNormalization(epsilon=1e-6)(encoded_patches)\n",
        "    representation = layers.Flatten()(representation)\n",
        "    representation = layers.Dropout(0.5)(representation)\n",
        "    # Add MLP.\n",
        "    features = mlp(representation, hidden_units=mlp_head_units, dropout_rate=0.5)\n",
        "    # Classify outputs.\n",
        "    logits = layers.Dense(num_classes)(features)\n",
        "    # Create the Keras model.\n",
        "    model = keras.Model(inputs=inputs, outputs=logits)\n",
        "    return model\n"
      ]
    },
    {
      "cell_type": "markdown",
      "metadata": {
        "id": "NL0df_NWf6Gp"
      },
      "source": [
        "## Compile, train, and evaluate the mode"
      ]
    },
    {
      "cell_type": "code",
      "execution_count": null,
      "metadata": {
        "id": "zRTVGnVtf6Gp",
        "colab": {
          "base_uri": "https://localhost:8080/"
        },
        "outputId": "cca5cd74-a561-4d4e-9c24-cbf638d487e0"
      },
      "outputs": [
        {
          "output_type": "stream",
          "name": "stdout",
          "text": [
            "Epoch 1/100\n",
            "176/176 [==============================] - 88s 398ms/step - loss: 4.4746 - accuracy: 0.0444 - top-5-accuracy: 0.1597 - val_loss: 3.9098 - val_accuracy: 0.1040 - val_top-5-accuracy: 0.3018\n",
            "Epoch 2/100\n",
            "176/176 [==============================] - 68s 388ms/step - loss: 3.9210 - accuracy: 0.0990 - top-5-accuracy: 0.3015 - val_loss: 3.5520 - val_accuracy: 0.1636 - val_top-5-accuracy: 0.4144\n",
            "Epoch 3/100\n",
            "176/176 [==============================] - 73s 414ms/step - loss: 3.6533 - accuracy: 0.1391 - top-5-accuracy: 0.3814 - val_loss: 3.2992 - val_accuracy: 0.1976 - val_top-5-accuracy: 0.4826\n",
            "Epoch 4/100\n",
            "176/176 [==============================] - 73s 417ms/step - loss: 3.4544 - accuracy: 0.1701 - top-5-accuracy: 0.4378 - val_loss: 3.1468 - val_accuracy: 0.2314 - val_top-5-accuracy: 0.5146\n",
            "Epoch 5/100\n",
            "176/176 [==============================] - 73s 417ms/step - loss: 3.3016 - accuracy: 0.1993 - top-5-accuracy: 0.4779 - val_loss: 3.0322 - val_accuracy: 0.2508 - val_top-5-accuracy: 0.5542\n",
            "Epoch 6/100\n",
            "176/176 [==============================] - 69s 392ms/step - loss: 3.1750 - accuracy: 0.2227 - top-5-accuracy: 0.5128 - val_loss: 2.8919 - val_accuracy: 0.2722 - val_top-5-accuracy: 0.5850\n",
            "Epoch 7/100\n",
            "176/176 [==============================] - 73s 413ms/step - loss: 3.0369 - accuracy: 0.2481 - top-5-accuracy: 0.5482 - val_loss: 2.7367 - val_accuracy: 0.3160 - val_top-5-accuracy: 0.6184\n",
            "Epoch 8/100\n",
            "176/176 [==============================] - 72s 412ms/step - loss: 2.9275 - accuracy: 0.2678 - top-5-accuracy: 0.5739 - val_loss: 2.6484 - val_accuracy: 0.3334 - val_top-5-accuracy: 0.6436\n",
            "Epoch 9/100\n",
            "176/176 [==============================] - 73s 415ms/step - loss: 2.8196 - accuracy: 0.2897 - top-5-accuracy: 0.6009 - val_loss: 2.5922 - val_accuracy: 0.3488 - val_top-5-accuracy: 0.6514\n",
            "Epoch 10/100\n",
            "176/176 [==============================] - 73s 417ms/step - loss: 2.7271 - accuracy: 0.3091 - top-5-accuracy: 0.6208 - val_loss: 2.5092 - val_accuracy: 0.3644 - val_top-5-accuracy: 0.6654\n",
            "Epoch 11/100\n",
            "176/176 [==============================] - 73s 417ms/step - loss: 2.6313 - accuracy: 0.3297 - top-5-accuracy: 0.6439 - val_loss: 2.4265 - val_accuracy: 0.3744 - val_top-5-accuracy: 0.6806\n",
            "Epoch 12/100\n",
            "176/176 [==============================] - 73s 415ms/step - loss: 2.5440 - accuracy: 0.3456 - top-5-accuracy: 0.6630 - val_loss: 2.3663 - val_accuracy: 0.3912 - val_top-5-accuracy: 0.6956\n",
            "Epoch 13/100\n",
            "176/176 [==============================] - 70s 395ms/step - loss: 2.4584 - accuracy: 0.3643 - top-5-accuracy: 0.6821 - val_loss: 2.3263 - val_accuracy: 0.3970 - val_top-5-accuracy: 0.7022\n",
            "Epoch 14/100\n",
            "176/176 [==============================] - 73s 415ms/step - loss: 2.3963 - accuracy: 0.3754 - top-5-accuracy: 0.6942 - val_loss: 2.2713 - val_accuracy: 0.4134 - val_top-5-accuracy: 0.7130\n",
            "Epoch 15/100\n",
            "176/176 [==============================] - 73s 416ms/step - loss: 2.3306 - accuracy: 0.3919 - top-5-accuracy: 0.7078 - val_loss: 2.2117 - val_accuracy: 0.4196 - val_top-5-accuracy: 0.7236\n",
            "Epoch 16/100\n",
            "176/176 [==============================] - 71s 405ms/step - loss: 2.2515 - accuracy: 0.4072 - top-5-accuracy: 0.7256 - val_loss: 2.1641 - val_accuracy: 0.4372 - val_top-5-accuracy: 0.7304\n",
            "Epoch 17/100\n",
            "176/176 [==============================] - 73s 416ms/step - loss: 2.1946 - accuracy: 0.4204 - top-5-accuracy: 0.7349 - val_loss: 2.1259 - val_accuracy: 0.4404 - val_top-5-accuracy: 0.7392\n",
            "Epoch 18/100\n",
            "176/176 [==============================] - 69s 392ms/step - loss: 2.1209 - accuracy: 0.4380 - top-5-accuracy: 0.7515 - val_loss: 2.0884 - val_accuracy: 0.4490 - val_top-5-accuracy: 0.7514\n",
            "Epoch 19/100\n",
            "176/176 [==============================] - 73s 415ms/step - loss: 2.0735 - accuracy: 0.4451 - top-5-accuracy: 0.7600 - val_loss: 2.0510 - val_accuracy: 0.4548 - val_top-5-accuracy: 0.7564\n",
            "Epoch 20/100\n",
            "176/176 [==============================] - 73s 416ms/step - loss: 2.0195 - accuracy: 0.4561 - top-5-accuracy: 0.7727 - val_loss: 2.0229 - val_accuracy: 0.4664 - val_top-5-accuracy: 0.7622\n",
            "Epoch 21/100\n",
            "176/176 [==============================] - 73s 417ms/step - loss: 1.9621 - accuracy: 0.4714 - top-5-accuracy: 0.7815 - val_loss: 2.0060 - val_accuracy: 0.4698 - val_top-5-accuracy: 0.7636\n",
            "Epoch 22/100\n",
            "176/176 [==============================] - 73s 416ms/step - loss: 1.9154 - accuracy: 0.4826 - top-5-accuracy: 0.7908 - val_loss: 1.9714 - val_accuracy: 0.4766 - val_top-5-accuracy: 0.7752\n",
            "Epoch 23/100\n",
            "176/176 [==============================] - 73s 417ms/step - loss: 1.8698 - accuracy: 0.4888 - top-5-accuracy: 0.7981 - val_loss: 1.9725 - val_accuracy: 0.4788 - val_top-5-accuracy: 0.7696\n",
            "Epoch 24/100\n",
            "176/176 [==============================] - 73s 416ms/step - loss: 1.8277 - accuracy: 0.5004 - top-5-accuracy: 0.8069 - val_loss: 1.9278 - val_accuracy: 0.4862 - val_top-5-accuracy: 0.7840\n",
            "Epoch 25/100\n",
            "176/176 [==============================] - 71s 401ms/step - loss: 1.7802 - accuracy: 0.5121 - top-5-accuracy: 0.8162 - val_loss: 1.9286 - val_accuracy: 0.4878 - val_top-5-accuracy: 0.7790\n",
            "Epoch 26/100\n",
            "176/176 [==============================] - 74s 420ms/step - loss: 1.7471 - accuracy: 0.5200 - top-5-accuracy: 0.8203 - val_loss: 1.9026 - val_accuracy: 0.4896 - val_top-5-accuracy: 0.7910\n",
            "Epoch 27/100\n",
            "176/176 [==============================] - 74s 418ms/step - loss: 1.7126 - accuracy: 0.5262 - top-5-accuracy: 0.8284 - val_loss: 1.9438 - val_accuracy: 0.4912 - val_top-5-accuracy: 0.7816\n",
            "Epoch 28/100\n",
            "176/176 [==============================] - 73s 416ms/step - loss: 1.6683 - accuracy: 0.5381 - top-5-accuracy: 0.8323 - val_loss: 1.8680 - val_accuracy: 0.5030 - val_top-5-accuracy: 0.7888\n",
            "Epoch 29/100\n",
            "176/176 [==============================] - 73s 416ms/step - loss: 1.6483 - accuracy: 0.5421 - top-5-accuracy: 0.8398 - val_loss: 1.8531 - val_accuracy: 0.5100 - val_top-5-accuracy: 0.7934\n",
            "Epoch 30/100\n",
            "176/176 [==============================] - 67s 381ms/step - loss: 1.5966 - accuracy: 0.5545 - top-5-accuracy: 0.8468 - val_loss: 1.8652 - val_accuracy: 0.5070 - val_top-5-accuracy: 0.7928\n",
            "Epoch 31/100\n",
            "176/176 [==============================] - 67s 380ms/step - loss: 1.5624 - accuracy: 0.5598 - top-5-accuracy: 0.8556 - val_loss: 1.8388 - val_accuracy: 0.5074 - val_top-5-accuracy: 0.8036\n",
            "Epoch 32/100\n",
            "176/176 [==============================] - 67s 380ms/step - loss: 1.5460 - accuracy: 0.5650 - top-5-accuracy: 0.8558 - val_loss: 1.8426 - val_accuracy: 0.5082 - val_top-5-accuracy: 0.7998\n",
            "Epoch 33/100\n",
            "176/176 [==============================] - 74s 421ms/step - loss: 1.5027 - accuracy: 0.5759 - top-5-accuracy: 0.8640 - val_loss: 1.8342 - val_accuracy: 0.5222 - val_top-5-accuracy: 0.8068\n",
            "Epoch 34/100\n",
            "176/176 [==============================] - 67s 382ms/step - loss: 1.4680 - accuracy: 0.5837 - top-5-accuracy: 0.8704 - val_loss: 1.8315 - val_accuracy: 0.5142 - val_top-5-accuracy: 0.8068\n",
            "Epoch 35/100\n",
            "176/176 [==============================] - 67s 379ms/step - loss: 1.4386 - accuracy: 0.5896 - top-5-accuracy: 0.8740 - val_loss: 1.8304 - val_accuracy: 0.5116 - val_top-5-accuracy: 0.8072\n",
            "Epoch 36/100\n",
            "176/176 [==============================] - 74s 419ms/step - loss: 1.4253 - accuracy: 0.5941 - top-5-accuracy: 0.8766 - val_loss: 1.7972 - val_accuracy: 0.5288 - val_top-5-accuracy: 0.8068\n",
            "Epoch 37/100\n",
            "176/176 [==============================] - 67s 381ms/step - loss: 1.3847 - accuracy: 0.6048 - top-5-accuracy: 0.8819 - val_loss: 1.8182 - val_accuracy: 0.5262 - val_top-5-accuracy: 0.8042\n",
            "Epoch 38/100\n",
            "176/176 [==============================] - 73s 416ms/step - loss: 1.3634 - accuracy: 0.6091 - top-5-accuracy: 0.8854 - val_loss: 1.8195 - val_accuracy: 0.5296 - val_top-5-accuracy: 0.8082\n",
            "Epoch 39/100\n",
            "176/176 [==============================] - 67s 381ms/step - loss: 1.3467 - accuracy: 0.6144 - top-5-accuracy: 0.8895 - val_loss: 1.8137 - val_accuracy: 0.5250 - val_top-5-accuracy: 0.8120\n",
            "Epoch 40/100\n",
            "176/176 [==============================] - 67s 380ms/step - loss: 1.3170 - accuracy: 0.6204 - top-5-accuracy: 0.8929 - val_loss: 1.8317 - val_accuracy: 0.5236 - val_top-5-accuracy: 0.8084\n",
            "Epoch 41/100\n",
            "176/176 [==============================] - 73s 415ms/step - loss: 1.3170 - accuracy: 0.6218 - top-5-accuracy: 0.8920 - val_loss: 1.8262 - val_accuracy: 0.5300 - val_top-5-accuracy: 0.8074\n",
            "Epoch 42/100\n",
            "176/176 [==============================] - 73s 416ms/step - loss: 1.2950 - accuracy: 0.6275 - top-5-accuracy: 0.8979 - val_loss: 1.7962 - val_accuracy: 0.5326 - val_top-5-accuracy: 0.8156\n",
            "Epoch 43/100\n",
            "176/176 [==============================] - 67s 381ms/step - loss: 1.2567 - accuracy: 0.6348 - top-5-accuracy: 0.9018 - val_loss: 1.8204 - val_accuracy: 0.5308 - val_top-5-accuracy: 0.8090\n",
            "Epoch 44/100\n",
            "176/176 [==============================] - 67s 380ms/step - loss: 1.2383 - accuracy: 0.6421 - top-5-accuracy: 0.9062 - val_loss: 1.8280 - val_accuracy: 0.5258 - val_top-5-accuracy: 0.8166\n",
            "Epoch 45/100\n",
            "176/176 [==============================] - 67s 379ms/step - loss: 1.2222 - accuracy: 0.6450 - top-5-accuracy: 0.9060 - val_loss: 1.8191 - val_accuracy: 0.5320 - val_top-5-accuracy: 0.8104\n",
            "Epoch 46/100\n",
            "176/176 [==============================] - 67s 380ms/step - loss: 1.2111 - accuracy: 0.6484 - top-5-accuracy: 0.9094 - val_loss: 1.8351 - val_accuracy: 0.5246 - val_top-5-accuracy: 0.8034\n",
            "Epoch 47/100\n",
            "176/176 [==============================] - 67s 381ms/step - loss: 1.1897 - accuracy: 0.6546 - top-5-accuracy: 0.9115 - val_loss: 1.8165 - val_accuracy: 0.5296 - val_top-5-accuracy: 0.8080\n",
            "Epoch 48/100\n",
            "176/176 [==============================] - 73s 416ms/step - loss: 1.1676 - accuracy: 0.6560 - top-5-accuracy: 0.9164 - val_loss: 1.7946 - val_accuracy: 0.5334 - val_top-5-accuracy: 0.8140\n",
            "Epoch 49/100\n",
            "176/176 [==============================] - 67s 381ms/step - loss: 1.1621 - accuracy: 0.6605 - top-5-accuracy: 0.9147 - val_loss: 1.8263 - val_accuracy: 0.5294 - val_top-5-accuracy: 0.8112\n",
            "Epoch 50/100\n",
            "176/176 [==============================] - 67s 381ms/step - loss: 1.1338 - accuracy: 0.6675 - top-5-accuracy: 0.9191 - val_loss: 1.8253 - val_accuracy: 0.5314 - val_top-5-accuracy: 0.8132\n",
            "Epoch 51/100\n",
            "176/176 [==============================] - 73s 418ms/step - loss: 1.1320 - accuracy: 0.6714 - top-5-accuracy: 0.9181 - val_loss: 1.8024 - val_accuracy: 0.5380 - val_top-5-accuracy: 0.8216\n",
            "Epoch 52/100\n",
            "176/176 [==============================] - 71s 401ms/step - loss: 1.1065 - accuracy: 0.6761 - top-5-accuracy: 0.9212 - val_loss: 1.8420 - val_accuracy: 0.5382 - val_top-5-accuracy: 0.8150\n",
            "Epoch 53/100\n",
            "176/176 [==============================] - 67s 381ms/step - loss: 1.1047 - accuracy: 0.6766 - top-5-accuracy: 0.9232 - val_loss: 1.8155 - val_accuracy: 0.5378 - val_top-5-accuracy: 0.8126\n",
            "Epoch 54/100\n",
            "176/176 [==============================] - 67s 380ms/step - loss: 1.0799 - accuracy: 0.6816 - top-5-accuracy: 0.9267 - val_loss: 1.8420 - val_accuracy: 0.5362 - val_top-5-accuracy: 0.8192\n",
            "Epoch 55/100\n",
            "176/176 [==============================] - 73s 416ms/step - loss: 1.0667 - accuracy: 0.6853 - top-5-accuracy: 0.9287 - val_loss: 1.8421 - val_accuracy: 0.5410 - val_top-5-accuracy: 0.8096\n",
            "Epoch 56/100\n",
            "176/176 [==============================] - 67s 381ms/step - loss: 1.0522 - accuracy: 0.6892 - top-5-accuracy: 0.9288 - val_loss: 1.8639 - val_accuracy: 0.5312 - val_top-5-accuracy: 0.8116\n",
            "Epoch 57/100\n",
            "176/176 [==============================] - 74s 418ms/step - loss: 1.0486 - accuracy: 0.6901 - top-5-accuracy: 0.9296 - val_loss: 1.8134 - val_accuracy: 0.5448 - val_top-5-accuracy: 0.8110\n",
            "Epoch 58/100\n",
            "176/176 [==============================] - 67s 381ms/step - loss: 1.0211 - accuracy: 0.6978 - top-5-accuracy: 0.9328 - val_loss: 1.8154 - val_accuracy: 0.5446 - val_top-5-accuracy: 0.8178\n",
            "Epoch 59/100\n",
            "176/176 [==============================] - 67s 380ms/step - loss: 1.0216 - accuracy: 0.6988 - top-5-accuracy: 0.9342 - val_loss: 1.8248 - val_accuracy: 0.5338 - val_top-5-accuracy: 0.8122\n",
            "Epoch 60/100\n",
            "176/176 [==============================] - 67s 381ms/step - loss: 1.0084 - accuracy: 0.7029 - top-5-accuracy: 0.9349 - val_loss: 1.8229 - val_accuracy: 0.5380 - val_top-5-accuracy: 0.8162\n",
            "Epoch 61/100\n",
            "176/176 [==============================] - 67s 380ms/step - loss: 1.0012 - accuracy: 0.7042 - top-5-accuracy: 0.9370 - val_loss: 1.8367 - val_accuracy: 0.5356 - val_top-5-accuracy: 0.8154\n",
            "Epoch 62/100\n",
            "176/176 [==============================] - 67s 381ms/step - loss: 0.9911 - accuracy: 0.7059 - top-5-accuracy: 0.9383 - val_loss: 1.8077 - val_accuracy: 0.5426 - val_top-5-accuracy: 0.8162\n",
            "Epoch 63/100\n",
            "176/176 [==============================] - 67s 380ms/step - loss: 0.9767 - accuracy: 0.7111 - top-5-accuracy: 0.9400 - val_loss: 1.8400 - val_accuracy: 0.5376 - val_top-5-accuracy: 0.8118\n",
            "Epoch 64/100\n",
            "176/176 [==============================] - 67s 381ms/step - loss: 0.9750 - accuracy: 0.7119 - top-5-accuracy: 0.9376 - val_loss: 1.8475 - val_accuracy: 0.5416 - val_top-5-accuracy: 0.8190\n",
            "Epoch 65/100\n",
            "176/176 [==============================] - 67s 381ms/step - loss: 0.9644 - accuracy: 0.7140 - top-5-accuracy: 0.9401 - val_loss: 1.8795 - val_accuracy: 0.5342 - val_top-5-accuracy: 0.8120\n",
            "Epoch 66/100\n",
            "176/176 [==============================] - 73s 416ms/step - loss: 0.9542 - accuracy: 0.7192 - top-5-accuracy: 0.9430 - val_loss: 1.8499 - val_accuracy: 0.5462 - val_top-5-accuracy: 0.8194\n",
            "Epoch 67/100\n",
            "176/176 [==============================] - 67s 381ms/step - loss: 0.9498 - accuracy: 0.7179 - top-5-accuracy: 0.9429 - val_loss: 1.8563 - val_accuracy: 0.5440 - val_top-5-accuracy: 0.8102\n",
            "Epoch 68/100\n",
            "176/176 [==============================] - 73s 417ms/step - loss: 0.9405 - accuracy: 0.7190 - top-5-accuracy: 0.9440 - val_loss: 1.7917 - val_accuracy: 0.5536 - val_top-5-accuracy: 0.8272\n",
            "Epoch 69/100\n",
            "176/176 [==============================] - 74s 420ms/step - loss: 0.9187 - accuracy: 0.7246 - top-5-accuracy: 0.9456 - val_loss: 1.8259 - val_accuracy: 0.5548 - val_top-5-accuracy: 0.8244\n",
            "Epoch 70/100\n",
            "176/176 [==============================] - 67s 382ms/step - loss: 0.9337 - accuracy: 0.7232 - top-5-accuracy: 0.9443 - val_loss: 1.8442 - val_accuracy: 0.5468 - val_top-5-accuracy: 0.8178\n",
            "Epoch 71/100\n",
            "176/176 [==============================] - 67s 380ms/step - loss: 0.9119 - accuracy: 0.7275 - top-5-accuracy: 0.9474 - val_loss: 1.8475 - val_accuracy: 0.5498 - val_top-5-accuracy: 0.8236\n",
            "Epoch 72/100\n",
            "176/176 [==============================] - 67s 380ms/step - loss: 0.8910 - accuracy: 0.7325 - top-5-accuracy: 0.9491 - val_loss: 1.8502 - val_accuracy: 0.5514 - val_top-5-accuracy: 0.8230\n",
            "Epoch 73/100\n",
            "176/176 [==============================] - 67s 382ms/step - loss: 0.8934 - accuracy: 0.7328 - top-5-accuracy: 0.9486 - val_loss: 1.8470 - val_accuracy: 0.5460 - val_top-5-accuracy: 0.8154\n",
            "Epoch 74/100\n",
            "176/176 [==============================] - 67s 380ms/step - loss: 0.8938 - accuracy: 0.7328 - top-5-accuracy: 0.9481 - val_loss: 1.8559 - val_accuracy: 0.5506 - val_top-5-accuracy: 0.8244\n",
            "Epoch 75/100\n",
            "176/176 [==============================] - 67s 380ms/step - loss: 0.8755 - accuracy: 0.7395 - top-5-accuracy: 0.9499 - val_loss: 1.8464 - val_accuracy: 0.5536 - val_top-5-accuracy: 0.8218\n",
            "Epoch 76/100\n",
            "176/176 [==============================] - 67s 381ms/step - loss: 0.8670 - accuracy: 0.7416 - top-5-accuracy: 0.9529 - val_loss: 1.8307 - val_accuracy: 0.5492 - val_top-5-accuracy: 0.8236\n",
            "Epoch 77/100\n",
            " 94/176 [===============>..............] - ETA: 30s - loss: 0.8351 - accuracy: 0.7489 - top-5-accuracy: 0.9560"
          ]
        }
      ],
      "source": [
        "\n",
        "def run_experiment(model):\n",
        "    optimizer = tfa.optimizers.AdamW(\n",
        "        learning_rate=learning_rate, weight_decay=weight_decay\n",
        "    )\n",
        "\n",
        "    model.compile(\n",
        "        optimizer=optimizer,\n",
        "        # no softmax from_logits=True\n",
        "        loss=keras.losses.SparseCategoricalCrossentropy(from_logits=True),\n",
        "        metrics=[\n",
        "            keras.metrics.SparseCategoricalAccuracy(name=\"accuracy\"),\n",
        "            keras.metrics.SparseTopKCategoricalAccuracy(5, name=\"top-5-accuracy\"),\n",
        "        ],\n",
        "    )\n",
        "\n",
        "    checkpoint_filepath = \"/tmp/checkpoint\"\n",
        "    checkpoint_callback = keras.callbacks.ModelCheckpoint(\n",
        "        checkpoint_filepath,\n",
        "        monitor=\"val_accuracy\",\n",
        "        save_best_only=True,\n",
        "        save_weights_only=True,\n",
        "    )\n",
        "\n",
        "    history = model.fit(\n",
        "        x=x_train,\n",
        "        y=y_train,\n",
        "        batch_size=batch_size,\n",
        "        epochs=num_epochs,\n",
        "        validation_split=0.1,\n",
        "        callbacks=[checkpoint_callback],\n",
        "    )\n",
        "\n",
        "    model.load_weights(checkpoint_filepath)\n",
        "    _, accuracy, top_5_accuracy = model.evaluate(x_test, y_test)\n",
        "    print(f\"Test accuracy: {round(accuracy * 100, 2)}%\")\n",
        "    print(f\"Test top 5 accuracy: {round(top_5_accuracy * 100, 2)}%\")\n",
        "\n",
        "    return history\n",
        "\n",
        "\n",
        "vit_classifier = create_vit_classifier()\n",
        "history = run_experiment(vit_classifier)\n"
      ]
    },
    {
      "cell_type": "markdown",
      "metadata": {
        "id": "jo3aAo1Xf6Gp"
      },
      "source": [
        "After 100 epochs, the ViT model achieves around 55% accuracy and\n",
        "82% top-5 accuracy on the test data. These are not competitive results on the CIFAR-100 dataset,\n",
        "as a ResNet50V2 trained from scratch on the same data can achieve 67% accuracy.\n",
        "\n",
        "Note that the state of the art results reported in the\n",
        "[paper](https://arxiv.org/abs/2010.11929) are achieved by pre-training the ViT model using\n",
        "the JFT-300M dataset, then fine-tuning it on the target dataset. To improve the model quality\n",
        "without pre-training, you can try to train the model for more epochs, use a larger number of\n",
        "Transformer layers, resize the input images, change the patch size, or increase the projection dimensions. \n",
        "Besides, as mentioned in the paper, the quality of the model is affected not only by architecture choices, \n",
        "but also by parameters such as the learning rate schedule, optimizer, weight decay, etc.\n",
        "In practice, it's recommended to fine-tune a ViT model\n",
        "that was pre-trained using a large, high-resolution dataset."
      ]
    }
  ],
  "metadata": {
    "colab": {
      "provenance": [],
      "include_colab_link": true
    },
    "environment": {
      "name": "tf2-gpu.2-4.m61",
      "type": "gcloud",
      "uri": "gcr.io/deeplearning-platform-release/tf2-gpu.2-4:m61"
    },
    "kernelspec": {
      "display_name": "Python 3",
      "language": "python",
      "name": "python3"
    },
    "language_info": {
      "codemirror_mode": {
        "name": "ipython",
        "version": 3
      },
      "file_extension": ".py",
      "mimetype": "text/x-python",
      "name": "python",
      "nbconvert_exporter": "python",
      "pygments_lexer": "ipython3",
      "version": "3.7.9"
    },
    "accelerator": "GPU",
    "gpuClass": "standard"
  },
  "nbformat": 4,
  "nbformat_minor": 0
}