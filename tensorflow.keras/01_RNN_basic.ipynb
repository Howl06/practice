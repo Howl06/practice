{
  "nbformat": 4,
  "nbformat_minor": 0,
  "metadata": {
    "colab": {
      "provenance": [],
      "include_colab_link": true
    },
    "kernelspec": {
      "name": "python3",
      "display_name": "Python 3"
    }
  },
  "cells": [
    {
      "cell_type": "markdown",
      "metadata": {
        "id": "view-in-github",
        "colab_type": "text"
      },
      "source": [
        "<a href=\"https://colab.research.google.com/github/Howl06/practice/blob/main/01_RNN_basic.ipynb\" target=\"_parent\"><img src=\"https://colab.research.google.com/assets/colab-badge.svg\" alt=\"Open In Colab\"/></a>"
      ]
    },
    {
      "cell_type": "code",
      "metadata": {
        "id": "7MQTJpgXIZTb"
      },
      "source": [
        "import tensorflow as tf\n",
        "from tensorflow.keras import layers, models"
      ],
      "execution_count": null,
      "outputs": []
    },
    {
      "cell_type": "code",
      "metadata": {
        "id": "MyuU_zLAQTZ2",
        "colab": {
          "base_uri": "https://localhost:8080/"
        },
        "outputId": "514ed500-ff3f-4eea-bb8c-3b7d60166b57"
      },
      "source": [
        "# Sample(batch) size: 1\n",
        "# Sequence Length: 5\n",
        "# input feature dimension: 8\n",
        "\n",
        "inputs = tf.random.normal([1, 5, 8]) # random Tensor\n",
        "inputs.shape"
      ],
      "execution_count": null,
      "outputs": [
        {
          "output_type": "execute_result",
          "data": {
            "text/plain": [
              "TensorShape([1, 5, 8])"
            ]
          },
          "metadata": {},
          "execution_count": 2
        }
      ]
    },
    {
      "cell_type": "code",
      "source": [
        "inputs"
      ],
      "metadata": {
        "id": "W2iLaEkwFNI9",
        "colab": {
          "base_uri": "https://localhost:8080/"
        },
        "outputId": "fdb0224c-937c-4120-fd41-69b946774c41"
      },
      "execution_count": null,
      "outputs": [
        {
          "output_type": "execute_result",
          "data": {
            "text/plain": [
              "<tf.Tensor: shape=(1, 5, 8), dtype=float32, numpy=\n",
              "array([[[-1.2306488 , -1.266499  , -0.20310144,  0.04074484,\n",
              "         -1.4450277 ,  0.22861646, -0.6186045 , -0.02218798],\n",
              "        [-2.5322807 , -0.33521456,  0.11468615, -0.23164706,\n",
              "          0.13198195, -0.2140072 ,  0.25184426,  0.05546312],\n",
              "        [ 0.364226  ,  1.8162379 , -1.0135052 , -1.08317   ,\n",
              "         -3.3672087 ,  0.8473002 ,  1.6514212 , -0.7392855 ],\n",
              "        [-0.6025208 , -1.099503  ,  0.46034715, -0.19284116,\n",
              "         -1.0339054 ,  0.4242744 ,  2.0174463 , -0.9809739 ],\n",
              "        [ 1.372991  , -0.29098135, -1.9368167 , -0.68479544,\n",
              "         -0.52493817, -1.4007207 , -0.9138788 ,  1.0502641 ]]],\n",
              "      dtype=float32)>"
            ]
          },
          "metadata": {},
          "execution_count": 3
        }
      ]
    },
    {
      "cell_type": "markdown",
      "metadata": {
        "id": "atmpBvPyLWCJ"
      },
      "source": [
        "# tf.keras.layers.LSTM"
      ]
    },
    {
      "cell_type": "code",
      "metadata": {
        "id": "ad4M9eEwIddc",
        "colab": {
          "base_uri": "https://localhost:8080/"
        },
        "outputId": "852be6e4-6542-4b29-8cf0-dd9605dbf43d"
      },
      "source": [
        "output = layers.LSTM(units=32)(inputs)\n",
        "output2 = layers.LSTM(units=32, \n",
        "                      return_sequences=True)(inputs)\n",
        "print(output.shape) # (batch size, feature dim)\n",
        "print(output2.shape) # (batch size, seq length, feature dim)"
      ],
      "execution_count": null,
      "outputs": [
        {
          "output_type": "stream",
          "name": "stdout",
          "text": [
            "(1, 32)\n",
            "(1, 5, 32)\n"
          ]
        }
      ]
    },
    {
      "cell_type": "code",
      "metadata": {
        "id": "_t8D3p7dJ0vg",
        "colab": {
          "base_uri": "https://localhost:8080/"
        },
        "outputId": "40d1c79c-643e-43e8-ffcc-210e714ce7db"
      },
      "source": [
        "whole_seq_output, final_hiden_state, final_cell_state = layers.LSTM(units=32, \n",
        "                                                                    # return_sequences=True, \n",
        "                                                                    return_state=True)(inputs)\n",
        "\n",
        "print('whole_seq_output: ', whole_seq_output.shape, whole_seq_output)\n",
        "print('final_hiden_state (h): ', final_hiden_state.shape, final_hiden_state)\n",
        "print('final_cell_state (c): ', final_cell_state.shape, final_cell_state)"
      ],
      "execution_count": null,
      "outputs": [
        {
          "output_type": "stream",
          "name": "stdout",
          "text": [
            "whole_seq_output:  (1, 32) tf.Tensor(\n",
            "[[-0.03646588 -0.0042519   0.2842238   0.14410956 -0.28438362 -0.04506781\n",
            "   0.08206069  0.00810269  0.02712635 -0.05974983  0.13594513  0.20361061\n",
            "  -0.1573083  -0.05102736 -0.02771114  0.06380498 -0.1305784   0.19235596\n",
            "  -0.11034832 -0.17715406  0.049016   -0.05440481 -0.23206827  0.08538458\n",
            "  -0.08764145  0.13636652  0.01165786 -0.04335005  0.09415954 -0.19173118\n",
            "   0.20694484 -0.2393616 ]], shape=(1, 32), dtype=float32)\n",
            "final_hiden_state (h):  (1, 32) tf.Tensor(\n",
            "[[-0.03646588 -0.0042519   0.2842238   0.14410956 -0.28438362 -0.04506781\n",
            "   0.08206069  0.00810269  0.02712635 -0.05974983  0.13594513  0.20361061\n",
            "  -0.1573083  -0.05102736 -0.02771114  0.06380498 -0.1305784   0.19235596\n",
            "  -0.11034832 -0.17715406  0.049016   -0.05440481 -0.23206827  0.08538458\n",
            "  -0.08764145  0.13636652  0.01165786 -0.04335005  0.09415954 -0.19173118\n",
            "   0.20694484 -0.2393616 ]], shape=(1, 32), dtype=float32)\n",
            "final_cell_state (c):  (1, 32) tf.Tensor(\n",
            "[[-0.07582878 -0.01036569  0.5229398   0.24381573 -0.4911652  -0.13817282\n",
            "   0.16465987  0.0146959   0.04248131 -0.1585154   0.3584494   0.5137432\n",
            "  -0.35664058 -0.08673073 -0.04633638  0.16917308 -0.18422729  0.2956537\n",
            "  -0.33292615 -0.24998105  0.11860058 -0.11258629 -0.49418798  0.17003758\n",
            "  -0.16456737  0.22015962  0.01781791 -0.07875165  0.16360183 -0.26713163\n",
            "   0.42174804 -0.40924418]], shape=(1, 32), dtype=float32)\n"
          ]
        }
      ]
    },
    {
      "cell_type": "markdown",
      "metadata": {
        "id": "Cf8aLad2LX9w"
      },
      "source": [
        "# tf.keras.layers.GRU"
      ]
    },
    {
      "cell_type": "code",
      "metadata": {
        "id": "9xxagyy9LYt_",
        "colab": {
          "base_uri": "https://localhost:8080/"
        },
        "outputId": "60edf52c-1c23-46ce-b868-a6866c7343c7"
      },
      "source": [
        "output = layers.GRU(units=32)(inputs)\n",
        "output2 = layers.GRU(units=32, \n",
        "                     return_sequences=True)(inputs)\n",
        "print(output.shape)\n",
        "print(output2.shape)"
      ],
      "execution_count": null,
      "outputs": [
        {
          "output_type": "stream",
          "name": "stdout",
          "text": [
            "(1, 32)\n",
            "(1, 5, 32)\n"
          ]
        }
      ]
    },
    {
      "cell_type": "code",
      "metadata": {
        "id": "x2THpViELlO5",
        "colab": {
          "base_uri": "https://localhost:8080/"
        },
        "outputId": "8cad49fe-92a3-4148-acfc-6c712a48a0fb"
      },
      "source": [
        "whole_sequence_output, final_state = layers.GRU(3, \n",
        "                                                # return_sequences=True, \n",
        "                                                return_state=True)(inputs)\n",
        "\n",
        "print('whole_seq_output: ', whole_sequence_output.shape, whole_sequence_output)\n",
        "print('final_state (h): ', final_state.shape, final_state)"
      ],
      "execution_count": null,
      "outputs": [
        {
          "output_type": "stream",
          "name": "stdout",
          "text": [
            "whole_seq_output:  (1, 3) tf.Tensor([[-0.134182   -0.14745295 -0.14449257]], shape=(1, 3), dtype=float32)\n",
            "final_state (h):  (1, 3) tf.Tensor([[-0.134182   -0.14745295 -0.14449257]], shape=(1, 3), dtype=float32)\n"
          ]
        }
      ]
    },
    {
      "cell_type": "markdown",
      "metadata": {
        "id": "BLcEAbfIM7IT"
      },
      "source": [
        "# tf.keras.layers.Bidirectional"
      ]
    },
    {
      "cell_type": "code",
      "metadata": {
        "id": "8aDkLkxeM-XQ",
        "colab": {
          "base_uri": "https://localhost:8080/"
        },
        "outputId": "8fc70feb-a936-423f-d335-5155242550b9"
      },
      "source": [
        "print(inputs.shape)\n",
        "output = layers.Bidirectional(layers.LSTM(3))(inputs)\n",
        "print(output.shape)"
      ],
      "execution_count": null,
      "outputs": [
        {
          "output_type": "stream",
          "name": "stdout",
          "text": [
            "(1, 5, 8)\n",
            "(1, 6)\n"
          ]
        }
      ]
    },
    {
      "cell_type": "code",
      "metadata": {
        "id": "fMQkgBJ3NYeO",
        "colab": {
          "base_uri": "https://localhost:8080/"
        },
        "outputId": "7b88249c-5f83-4211-b842-b29aef429c36"
      },
      "source": [
        "# merge_mode: 'sum' or 'concat'\n",
        "output = layers.Bidirectional(layers.LSTM(3), \n",
        "                              merge_mode='sum')(inputs)\n",
        "print(output.shape)"
      ],
      "execution_count": null,
      "outputs": [
        {
          "output_type": "stream",
          "name": "stdout",
          "text": [
            "(1, 3)\n"
          ]
        }
      ]
    },
    {
      "cell_type": "code",
      "metadata": {
        "id": "pbBbk7e7NqOK",
        "colab": {
          "base_uri": "https://localhost:8080/"
        },
        "outputId": "881e9c6a-3efa-49e2-fe99-9d66a0d08ca7"
      },
      "source": [
        "# return_sequences: True\n",
        "output = layers.Bidirectional(layers.LSTM(3, \n",
        "                                          return_sequences=True))(inputs)\n",
        "print(output.shape)"
      ],
      "execution_count": null,
      "outputs": [
        {
          "output_type": "stream",
          "name": "stdout",
          "text": [
            "(1, 5, 6)\n"
          ]
        }
      ]
    },
    {
      "cell_type": "code",
      "metadata": {
        "id": "u3Kh1ZkPNwtA",
        "colab": {
          "base_uri": "https://localhost:8080/"
        },
        "outputId": "0fe5cd2e-9c8f-4a81-fb7f-7d30aae0fb66"
      },
      "source": [
        "# return_sequences: True, \n",
        "output, forward_h, forward_c, backward_h, backward_c = layers.Bidirectional(layers.LSTM(3, \n",
        "                                                                                        return_sequences=True, \n",
        "                                                                                        return_state=True))(inputs)\n",
        "print('output : ', output.shape, output)\n",
        "print('forward_h : ', forward_h.shape, forward_h)\n",
        "print('forward_c : ', forward_c.shape, forward_c)\n",
        "print('backward_h : ', backward_h.shape, backward_h)\n",
        "print('backward_c : ', backward_c.shape, backward_c)\n"
      ],
      "execution_count": null,
      "outputs": [
        {
          "output_type": "stream",
          "name": "stdout",
          "text": [
            "output :  (1, 5, 6) tf.Tensor(\n",
            "[[[ 0.03061581  0.2248348   0.07931396 -0.03143562  0.18595858\n",
            "    0.32031432]\n",
            "  [-0.01232281 -0.03293349 -0.03188569 -0.24107176 -0.00561516\n",
            "    0.07433058]\n",
            "  [ 0.15194665  0.1096346  -0.1494526  -0.22596914 -0.03218351\n",
            "    0.06546205]\n",
            "  [ 0.24567495  0.09639515 -0.24757686 -0.03130846 -0.05523374\n",
            "   -0.05407988]\n",
            "  [-0.25770894  0.0063352   0.00525259 -0.01992668 -0.10565272\n",
            "   -0.06472294]]], shape=(1, 5, 6), dtype=float32)\n",
            "forward_h :  (1, 3) tf.Tensor([[-0.25770894  0.0063352   0.00525259]], shape=(1, 3), dtype=float32)\n",
            "forward_c :  (1, 3) tf.Tensor([[-0.4901394   0.05349621  0.01219812]], shape=(1, 3), dtype=float32)\n",
            "backward_h :  (1, 3) tf.Tensor([[-0.03143562  0.18595858  0.32031432]], shape=(1, 3), dtype=float32)\n",
            "backward_c :  (1, 3) tf.Tensor([[-0.05759957  0.23697835  0.41579303]], shape=(1, 3), dtype=float32)\n"
          ]
        }
      ]
    },
    {
      "cell_type": "markdown",
      "metadata": {
        "id": "kLmti2QISYyV"
      },
      "source": [
        "## Many-to-one"
      ]
    },
    {
      "cell_type": "code",
      "metadata": {
        "id": "mLX9Rho9SbbC",
        "colab": {
          "base_uri": "https://localhost:8080/"
        },
        "outputId": "49feeaf5-f6c1-44fb-bcd5-e30044e82538"
      },
      "source": [
        "input = layers.Input(shape=(50, 8)) # (seq len, feature dim)\n",
        "x = layers.LSTM(32)(input)\n",
        "\n",
        "ouput = layers.Dense(10, activation='softmax')(x)\n",
        "model = models.Model(input, ouput)\n",
        "model.summary()"
      ],
      "execution_count": null,
      "outputs": [
        {
          "output_type": "stream",
          "name": "stdout",
          "text": [
            "Model: \"model\"\n",
            "_________________________________________________________________\n",
            " Layer (type)                Output Shape              Param #   \n",
            "=================================================================\n",
            " input_1 (InputLayer)        [(None, 50, 8)]           0         \n",
            "                                                                 \n",
            " lstm_7 (LSTM)               (None, 32)                5248      \n",
            "                                                                 \n",
            " dense (Dense)               (None, 10)                330       \n",
            "                                                                 \n",
            "=================================================================\n",
            "Total params: 5,578\n",
            "Trainable params: 5,578\n",
            "Non-trainable params: 0\n",
            "_________________________________________________________________\n"
          ]
        }
      ]
    },
    {
      "cell_type": "code",
      "metadata": {
        "id": "XT1W5B-2Td0m",
        "colab": {
          "base_uri": "https://localhost:8080/"
        },
        "outputId": "1f0219f9-c3cf-41e3-f528-202de5f72b95"
      },
      "source": [
        "# multi-layer\n",
        "input = layers.Input(shape=(5, 8))\n",
        "x1 = layers.LSTM(128, \n",
        "                 return_sequences=True)(input)\n",
        "x2 = layers.LSTM(256, \n",
        "                 return_sequences=True)(x1)\n",
        "x3 = layers.LSTM(512)(x2)\n",
        "\n",
        "ouput = layers.Dense(10, activation='softmax')(x3)\n",
        "\n",
        "model = models.Model(input, ouput)\n",
        "model.summary()"
      ],
      "execution_count": null,
      "outputs": [
        {
          "output_type": "stream",
          "name": "stdout",
          "text": [
            "Model: \"model_3\"\n",
            "_________________________________________________________________\n",
            " Layer (type)                Output Shape              Param #   \n",
            "=================================================================\n",
            " input_5 (InputLayer)        [(None, 5, 8)]            0         \n",
            "                                                                 \n",
            " lstm_18 (LSTM)              (None, 5, 128)            70144     \n",
            "                                                                 \n",
            " lstm_19 (LSTM)              (None, 5, 256)            394240    \n",
            "                                                                 \n",
            " lstm_20 (LSTM)              (None, 512)               1574912   \n",
            "                                                                 \n",
            " dense_3 (Dense)             (None, 10)                5130      \n",
            "                                                                 \n",
            "=================================================================\n",
            "Total params: 2,044,426\n",
            "Trainable params: 2,044,426\n",
            "Non-trainable params: 0\n",
            "_________________________________________________________________\n"
          ]
        }
      ]
    },
    {
      "cell_type": "code",
      "metadata": {
        "id": "XNoebK2JTsMN"
      },
      "source": [],
      "execution_count": null,
      "outputs": []
    },
    {
      "cell_type": "markdown",
      "metadata": {
        "id": "xgYNk_0dUVyE"
      },
      "source": [
        "# Many-to-many (same length)"
      ]
    },
    {
      "cell_type": "code",
      "metadata": {
        "id": "3ThPhdZVUkRM",
        "colab": {
          "base_uri": "https://localhost:8080/"
        },
        "outputId": "72a2ff86-f2ee-43d1-bd3a-f93a13ef8a98"
      },
      "source": [
        "input = layers.Input(shape=(500, 8))\n",
        "x = layers.LSTM(10, \n",
        "                return_sequences=True)(input)\n",
        "                \n",
        "output = layers.Dense(20, activation='softmax')(x)\n",
        "model = models.Model(input, output)\n",
        "model.summary()"
      ],
      "execution_count": null,
      "outputs": [
        {
          "output_type": "stream",
          "name": "stdout",
          "text": [
            "Model: \"model_3\"\n",
            "_________________________________________________________________\n",
            " Layer (type)                Output Shape              Param #   \n",
            "=================================================================\n",
            " input_4 (InputLayer)        [(None, 500, 8)]          0         \n",
            "                                                                 \n",
            " lstm_19 (LSTM)              (None, 500, 10)           760       \n",
            "                                                                 \n",
            " dense_3 (Dense)             (None, 500, 20)           220       \n",
            "                                                                 \n",
            "=================================================================\n",
            "Total params: 980\n",
            "Trainable params: 980\n",
            "Non-trainable params: 0\n",
            "_________________________________________________________________\n"
          ]
        }
      ]
    },
    {
      "cell_type": "markdown",
      "metadata": {
        "id": "ma9TzYCQWoh7"
      },
      "source": [
        "## Many-to-many (different length) : Seq2seq"
      ]
    },
    {
      "cell_type": "code",
      "metadata": {
        "id": "rN1gKJOzwkWd"
      },
      "source": [],
      "execution_count": null,
      "outputs": []
    },
    {
      "cell_type": "code",
      "source": [
        "# Video RNN\n",
        "# 10sec, 30fps, (200,200,3)\n",
        "# (1, 300, 200, 200, 3): Video\n",
        "# (1, 300, 1024) : video frame feature\n",
        "\n",
        "\n"
      ],
      "metadata": {
        "id": "RRfLGYM_FOCx"
      },
      "execution_count": null,
      "outputs": []
    },
    {
      "cell_type": "markdown",
      "source": [],
      "metadata": {
        "id": "GURBm6TxeCtq"
      }
    },
    {
      "cell_type": "code",
      "source": [
        "# 我要找一家餐廳吃飯\n",
        "\n",
        "# token: 斷詞\n",
        "\n",
        "# English: word\n",
        "# The song was featured in the musical Can-Can when it was introduced\n",
        "\n",
        "# chinese: 斷詞 斷字\n",
        "# 我要找一家餐廳吃飯\n",
        "# 斷詞：我, 要找, 一家, 餐廳, 吃飯\n",
        "# 斷字：我, 要, 找, 一, 家, 餐, 廳, 吃, 飯\n",
        "\n",
        "# dictionary = {\n",
        "#       我: 7, 要找: 19, 一家: 200, ...\n",
        "# } 5000\n",
        "\n",
        "# 我, 要找, 一家, 餐廳, 吃飯 -> [7, 19, 200, 40, 56]  (5, )\n",
        "# one-hot encoding -> (5, 5000)\n",
        "# Embedding(128) -> (5, 128) 詞向量\n",
        "\n",
        "\n",
        "\n",
        "# 斷字：我, 要, 找, 一, 家, 餐, 廳, 吃, 飯\n",
        "# dictionary = {\n",
        "#       我: 7, 要： 20, 找: 19, 一: 5, 家：200, ...\n",
        "# } 5000\n",
        "# 我, 要, 找, 一, 家, 餐, 廳, 吃, 飯 -> [7, 20, 19, 5 ,6 , 100, 229] (7, )\n",
        "\n",
        "# BERT (Transformer) -> (7, 256)"
      ],
      "metadata": {
        "id": "J5eJP0vzeDQo"
      },
      "execution_count": null,
      "outputs": []
    },
    {
      "cell_type": "code",
      "source": [
        "token\n",
        "\n",
        "The song was featured in the musical Can-Can when it was introduced by the French actress Lilo."
      ],
      "metadata": {
        "id": "UbxP2QBTGH2e"
      },
      "execution_count": null,
      "outputs": []
    },
    {
      "cell_type": "markdown",
      "source": [
        "token\n",
        "\n",
        "The song was featured in the musical Can-Can.\n",
        "\n",
        "Tokenize (word, character)"
      ],
      "metadata": {
        "id": "3TlOUR9fGdKe"
      }
    },
    {
      "cell_type": "code",
      "source": [
        "sentence = \"The song was featured in the musical Can-Can .\"\n",
        "sentence.split(' ')"
      ],
      "metadata": {
        "colab": {
          "base_uri": "https://localhost:8080/"
        },
        "id": "xusWluTzGsut",
        "outputId": "455a05a3-985d-4fbc-8ccb-d42677688de6"
      },
      "execution_count": null,
      "outputs": [
        {
          "output_type": "execute_result",
          "data": {
            "text/plain": [
              "['The', 'song', 'was', 'featured', 'in', 'the', 'musical', 'Can-Can', '.']"
            ]
          },
          "metadata": {},
          "execution_count": 12
        }
      ]
    },
    {
      "cell_type": "code",
      "source": [
        "\"粉絲數超過0的網紅\"\n",
        "中文：詞, 字\n",
        "\n",
        "斷詞: jieba\n",
        "\"粉絲, 數, 超過, 0, 的, 網紅\" (6, )\n",
        "\"粉絲數, 超過, 0, 的, 網紅\" (5, )\n",
        "\n",
        "斷字\n",
        "\"粉, 絲, 數, 超, 過, 0 , 的, 網 , 紅\"\n",
        "\n",
        "[120, 130, 200, 400, 222, 40]\n",
        "\n",
        "(1, 6)\n",
        "\n",
        "\n",
        "Embedding: convert token to vector\n",
        "128,\n",
        "\n",
        "(1, 6, 128)"
      ],
      "metadata": {
        "id": "4ejvVVwsGwJf"
      },
      "execution_count": null,
      "outputs": []
    },
    {
      "cell_type": "code",
      "source": [],
      "metadata": {
        "id": "ABmd1Lz-H-Ld"
      },
      "execution_count": null,
      "outputs": []
    }
  ]
}