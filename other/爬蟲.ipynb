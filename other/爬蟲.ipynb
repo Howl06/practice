{
  "nbformat": 4,
  "nbformat_minor": 0,
  "metadata": {
    "colab": {
      "provenance": [],
      "mount_file_id": "10AKLQiU34ToG8IB0FO03P8KYq20DHoNo",
      "authorship_tag": "ABX9TyPX3wkPEZUTcisl9ARbNmFQ",
      "include_colab_link": true
    },
    "kernelspec": {
      "name": "python3",
      "display_name": "Python 3"
    },
    "language_info": {
      "name": "python"
    }
  },
  "cells": [
    {
      "cell_type": "markdown",
      "metadata": {
        "id": "view-in-github",
        "colab_type": "text"
      },
      "source": [
        "<a href=\"https://colab.research.google.com/github/Howl06/practice/blob/main/%E7%88%AC%E8%9F%B2.ipynb\" target=\"_parent\"><img src=\"https://colab.research.google.com/assets/colab-badge.svg\" alt=\"Open In Colab\"/></a>"
      ]
    },
    {
      "cell_type": "code",
      "execution_count": null,
      "metadata": {
        "id": "B1-3bO_4yyzu"
      },
      "outputs": [],
      "source": [
        "import requests\n",
        "from bs4 import BeautifulSoup \n",
        "import prettytable\n",
        "import codecs\n",
        "url = \"https://www.cwb.gov.tw/V8/C/W/TemperatureTop/County_TMax_T.html?ID=Fri Mar 03 2023 15:53:15 GMT+0800 (台北標準時間)\"\n",
        "req = requests.get(url)"
      ]
    },
    {
      "cell_type": "code",
      "source": [
        "import csv, codecs, io, requests\n",
        "\n",
        "url = \"https://data.tycg.gov.tw/opendata/datalist/datasetMeta/download\"\n",
        "req = requests.get(url, params={\n",
        "    \"id\": \"cb5a87e1-cdfb-411d-b7a2-4bced870b137\",\n",
        "    \"rid\": \"65de576a-b800-481f-be12-ebb49d11312b\"\n",
        "})\n",
        "req.encoding=\"utf-8\" # 解碼\n",
        "f=io.StringIO(req.text)\n",
        "d=list(csv.reader(f))\n",
        "print(d)\n",
        "txt = \"\"\n",
        "for i in range(len(d)):\n",
        "    txt += \",\".join(d[i])+\"\\n\"\n",
        "with codecs.open(\"/content/drive/MyDrive/gay.csv\", \"w\") as f:\n",
        "    f.write(txt)"
      ],
      "metadata": {
        "colab": {
          "base_uri": "https://localhost:8080/"
        },
        "id": "jqVWUxE1Jdyb",
        "outputId": "0b97e803-85da-4f73-e8d1-95ec4b281d1b"
      },
      "execution_count": null,
      "outputs": [
        {
          "output_type": "stream",
          "name": "stdout",
          "text": [
            "[['\\ufeff年底別', '總計－男性', '總計－女性', '桃園區－男性', '桃園區－女性', '中壢區－男性', '中壢區－女性', '大溪區－男性', '大溪區－女性', '楊梅區－男性', '楊梅區－女性', '蘆竹區－男性', '蘆竹區－女性', '大園區－男性', '大園區－女性', '龜山區－男性', '龜山區－女性', '八德區－男性', '八德區－女性', '龍潭區－男性', '龍潭區－女性', '平鎮區－男性', '平鎮區－女性', '新屋區－男性', '新屋區－女性', '觀音區－男性', '觀音區－女性', '復興區－男性', '復興區－女性'], ['108', '164', '402', '32', '80', '38', '87', '3', '13', '13', '37', '14', '23', '7', '12', '20', '29', '12', '39', '1', '17', '17', '43', '3', '8', '4', '14', '0', '0'], ['109', '265', '736', '57', '166', '56', '159', '8', '22', '22', '68', '21', '42', '6', '25', '32', '43', '25', '64', '5', '34', '25', '76', '3', '9', '5', '25', '0', '3'], ['110', '351', '1002', '75', '230', '76', '209', '12', '30', '27', '85', '29', '48', '12', '34', '37', '69', '29', '83', '9', '51', '31', '113', '6', '11', '6', '35', '2', '4']]\n"
          ]
        }
      ]
    },
    {
      "cell_type": "code",
      "source": [
        "import requests\n",
        "\n",
        "url = \"http://teaching.bo-yuan.net/test/requests/\"\n",
        "\n",
        "req = requests.get(url, params={\"action\": \"get\"})\n",
        "print(req.text)\n",
        "req = requests.delete(url, params={\"action\": \"get\"}, data={\"id\": \"10\"})\n",
        "print(req.text)\n",
        "req = requests.put(url, params={\"action\": \"get\"}, data={\"id\": \"10\", \"name\": \"王晨宇\"})\n",
        "print(req.text)\n",
        "req = requests.patch(url, params={\"action\": \"get\"}, data={\"id\": \"10\", \"name\": \"王晨宇\", \"address\": \"Taiwan\"})\n",
        "print(req.text)\n",
        "req = requests.post(url, params={\"action\": \"get\"}, data={\"id\": \"10\", \"name\": \"王晨宇\", \"address\": \"Taiwan\"})\n",
        "print(req.text)"
      ],
      "metadata": {
        "colab": {
          "base_uri": "https://localhost:8080/"
        },
        "id": "RJrq_VTnm3Uo",
        "outputId": "4822ebea-175c-44aa-abbd-faa17bdfa732"
      },
      "execution_count": null,
      "outputs": [
        {
          "output_type": "stream",
          "name": "stdout",
          "text": [
            "需要DELETE的操作。\n",
            "記得去PUT操作。\n",
            "PUT完了，也要PATCH資料。\n",
            "最後POST一筆資料吧。\n",
            "哈哈，答對了，請把操作過程中的所有指令保留在程式碼中，將檔案繳交上來。\n"
          ]
        }
      ]
    }
  ]
}